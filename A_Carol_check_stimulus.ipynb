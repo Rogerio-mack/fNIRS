{
  "cells": [
    {
      "cell_type": "markdown",
      "metadata": {
        "id": "view-in-github",
        "colab_type": "text"
      },
      "source": [
        "<a href=\"https://colab.research.google.com/github/Rogerio-mack/fNIRS/blob/main/A_Carol_check_stimulus.ipynb\" target=\"_parent\"><img src=\"https://colab.research.google.com/assets/colab-badge.svg\" alt=\"Open In Colab\"/></a>"
      ]
    },
    {
      "cell_type": "markdown",
      "source": [
        "# Verifica e Gera Lista de Arquivos somente com os Estímulos Completos\n",
        "\n",
        "Isto é $ 3 \\times 8  = 24 $ estímulos."
      ],
      "metadata": {
        "id": "e8CGXVgLs1Tq"
      }
    },
    {
      "cell_type": "markdown",
      "metadata": {
        "id": "2-A-F1kjyaAs"
      },
      "source": [
        "## Install & import `nilearn` and `mne-nirs`"
      ]
    },
    {
      "cell_type": "code",
      "execution_count": 1,
      "metadata": {
        "cellView": "form",
        "colab": {
          "base_uri": "https://localhost:8080/"
        },
        "id": "CKNDLr4GNpur",
        "outputId": "327101ed-6531-4c80-a99b-725f7b72931e"
      },
      "outputs": [
        {
          "output_type": "stream",
          "name": "stdout",
          "text": [
            "Requirement already satisfied: nilearn in /usr/local/lib/python3.7/dist-packages (0.9.1)\n",
            "Requirement already satisfied: lxml in /usr/local/lib/python3.7/dist-packages (from nilearn) (4.2.6)\n",
            "Requirement already satisfied: joblib>=0.15 in /usr/local/lib/python3.7/dist-packages (from nilearn) (1.1.0)\n",
            "Requirement already satisfied: scipy>=1.5 in /usr/local/lib/python3.7/dist-packages (from nilearn) (1.7.3)\n",
            "Requirement already satisfied: nibabel>=3.0.0 in /usr/local/lib/python3.7/dist-packages (from nilearn) (3.0.2)\n",
            "Requirement already satisfied: scikit-learn>=0.22 in /usr/local/lib/python3.7/dist-packages (from nilearn) (1.0.2)\n",
            "Requirement already satisfied: numpy>=1.18 in /usr/local/lib/python3.7/dist-packages (from nilearn) (1.21.6)\n",
            "Requirement already satisfied: pandas>=1.0 in /usr/local/lib/python3.7/dist-packages (from nilearn) (1.3.5)\n",
            "Requirement already satisfied: requests>=2 in /usr/local/lib/python3.7/dist-packages (from nilearn) (2.23.0)\n",
            "Requirement already satisfied: pytz>=2017.3 in /usr/local/lib/python3.7/dist-packages (from pandas>=1.0->nilearn) (2022.1)\n",
            "Requirement already satisfied: python-dateutil>=2.7.3 in /usr/local/lib/python3.7/dist-packages (from pandas>=1.0->nilearn) (2.8.2)\n",
            "Requirement already satisfied: six>=1.5 in /usr/local/lib/python3.7/dist-packages (from python-dateutil>=2.7.3->pandas>=1.0->nilearn) (1.15.0)\n",
            "Requirement already satisfied: urllib3!=1.25.0,!=1.25.1,<1.26,>=1.21.1 in /usr/local/lib/python3.7/dist-packages (from requests>=2->nilearn) (1.24.3)\n",
            "Requirement already satisfied: chardet<4,>=3.0.2 in /usr/local/lib/python3.7/dist-packages (from requests>=2->nilearn) (3.0.4)\n",
            "Requirement already satisfied: certifi>=2017.4.17 in /usr/local/lib/python3.7/dist-packages (from requests>=2->nilearn) (2021.10.8)\n",
            "Requirement already satisfied: idna<3,>=2.5 in /usr/local/lib/python3.7/dist-packages (from requests>=2->nilearn) (2.10)\n",
            "Requirement already satisfied: threadpoolctl>=2.0.0 in /usr/local/lib/python3.7/dist-packages (from scikit-learn>=0.22->nilearn) (3.1.0)\n",
            "Collecting https://github.com/mne-tools/mne-python/archive/main.zip\n",
            "  Downloading https://github.com/mne-tools/mne-python/archive/main.zip\n",
            "\u001b[K     - 61.5 MB 188 kB/s\n",
            "\u001b[?25hRequirement already satisfied: mne-nirs in /usr/local/lib/python3.7/dist-packages (0.2.1)\n",
            "Requirement already satisfied: mne>=0.24.0 in /usr/local/lib/python3.7/dist-packages (from mne-nirs) (1.1.dev0)\n",
            "Requirement already satisfied: nilearn>=0.9 in /usr/local/lib/python3.7/dist-packages (from mne-nirs) (0.9.1)\n",
            "Requirement already satisfied: numpy>=1.11.3 in /usr/local/lib/python3.7/dist-packages (from mne-nirs) (1.21.6)\n",
            "Requirement already satisfied: scipy>=0.17.1 in /usr/local/lib/python3.7/dist-packages (from mne-nirs) (1.7.3)\n",
            "Requirement already satisfied: h5io>=0.1.7 in /usr/local/lib/python3.7/dist-packages (from mne-nirs) (0.1.7)\n",
            "Requirement already satisfied: h5py in /usr/local/lib/python3.7/dist-packages (from h5io>=0.1.7->mne-nirs) (3.1.0)\n",
            "Requirement already satisfied: packaging in /usr/local/lib/python3.7/dist-packages (from mne>=0.24.0->mne-nirs) (21.3)\n",
            "Requirement already satisfied: matplotlib in /usr/local/lib/python3.7/dist-packages (from mne>=0.24.0->mne-nirs) (3.2.2)\n",
            "Requirement already satisfied: tqdm in /usr/local/lib/python3.7/dist-packages (from mne>=0.24.0->mne-nirs) (4.64.0)\n",
            "Requirement already satisfied: jinja2 in /usr/local/lib/python3.7/dist-packages (from mne>=0.24.0->mne-nirs) (2.11.3)\n",
            "Requirement already satisfied: decorator in /usr/local/lib/python3.7/dist-packages (from mne>=0.24.0->mne-nirs) (4.4.2)\n",
            "Requirement already satisfied: pooch>=1.5 in /usr/local/lib/python3.7/dist-packages (from mne>=0.24.0->mne-nirs) (1.6.0)\n",
            "Requirement already satisfied: nibabel>=3.0.0 in /usr/local/lib/python3.7/dist-packages (from nilearn>=0.9->mne-nirs) (3.0.2)\n",
            "Requirement already satisfied: joblib>=0.15 in /usr/local/lib/python3.7/dist-packages (from nilearn>=0.9->mne-nirs) (1.1.0)\n",
            "Requirement already satisfied: pandas>=1.0 in /usr/local/lib/python3.7/dist-packages (from nilearn>=0.9->mne-nirs) (1.3.5)\n",
            "Requirement already satisfied: scikit-learn>=0.22 in /usr/local/lib/python3.7/dist-packages (from nilearn>=0.9->mne-nirs) (1.0.2)\n",
            "Requirement already satisfied: requests>=2 in /usr/local/lib/python3.7/dist-packages (from nilearn>=0.9->mne-nirs) (2.23.0)\n",
            "Requirement already satisfied: lxml in /usr/local/lib/python3.7/dist-packages (from nilearn>=0.9->mne-nirs) (4.2.6)\n",
            "Requirement already satisfied: pytz>=2017.3 in /usr/local/lib/python3.7/dist-packages (from pandas>=1.0->nilearn>=0.9->mne-nirs) (2022.1)\n",
            "Requirement already satisfied: python-dateutil>=2.7.3 in /usr/local/lib/python3.7/dist-packages (from pandas>=1.0->nilearn>=0.9->mne-nirs) (2.8.2)\n",
            "Requirement already satisfied: appdirs>=1.3.0 in /usr/local/lib/python3.7/dist-packages (from pooch>=1.5->mne>=0.24.0->mne-nirs) (1.4.4)\n",
            "Requirement already satisfied: pyparsing!=3.0.5,>=2.0.2 in /usr/local/lib/python3.7/dist-packages (from packaging->mne>=0.24.0->mne-nirs) (3.0.9)\n",
            "Requirement already satisfied: six>=1.5 in /usr/local/lib/python3.7/dist-packages (from python-dateutil>=2.7.3->pandas>=1.0->nilearn>=0.9->mne-nirs) (1.15.0)\n",
            "Requirement already satisfied: certifi>=2017.4.17 in /usr/local/lib/python3.7/dist-packages (from requests>=2->nilearn>=0.9->mne-nirs) (2021.10.8)\n",
            "Requirement already satisfied: urllib3!=1.25.0,!=1.25.1,<1.26,>=1.21.1 in /usr/local/lib/python3.7/dist-packages (from requests>=2->nilearn>=0.9->mne-nirs) (1.24.3)\n",
            "Requirement already satisfied: chardet<4,>=3.0.2 in /usr/local/lib/python3.7/dist-packages (from requests>=2->nilearn>=0.9->mne-nirs) (3.0.4)\n",
            "Requirement already satisfied: idna<3,>=2.5 in /usr/local/lib/python3.7/dist-packages (from requests>=2->nilearn>=0.9->mne-nirs) (2.10)\n",
            "Requirement already satisfied: threadpoolctl>=2.0.0 in /usr/local/lib/python3.7/dist-packages (from scikit-learn>=0.22->nilearn>=0.9->mne-nirs) (3.1.0)\n",
            "Requirement already satisfied: cached-property in /usr/local/lib/python3.7/dist-packages (from h5py->h5io>=0.1.7->mne-nirs) (1.5.2)\n",
            "Requirement already satisfied: MarkupSafe>=0.23 in /usr/local/lib/python3.7/dist-packages (from jinja2->mne>=0.24.0->mne-nirs) (2.0.1)\n",
            "Requirement already satisfied: kiwisolver>=1.0.1 in /usr/local/lib/python3.7/dist-packages (from matplotlib->mne>=0.24.0->mne-nirs) (1.4.2)\n",
            "Requirement already satisfied: cycler>=0.10 in /usr/local/lib/python3.7/dist-packages (from matplotlib->mne>=0.24.0->mne-nirs) (0.11.0)\n",
            "Requirement already satisfied: typing-extensions in /usr/local/lib/python3.7/dist-packages (from kiwisolver>=1.0.1->matplotlib->mne>=0.24.0->mne-nirs) (4.2.0)\n"
          ]
        }
      ],
      "source": [
        "#@markdown\n",
        "!pip install nilearn\n",
        "!pip install -U --no-deps https://github.com/mne-tools/mne-python/archive/main.zip\n",
        "!pip install mne-nirs\n",
        "\n",
        "from mne.io import read_raw_nirx\n",
        "from mne.preprocessing.nirs import (optical_density, beer_lambert_law,\n",
        "                                    temporal_derivative_distribution_repair)\n",
        "import mne \n",
        "\n"
      ]
    },
    {
      "cell_type": "markdown",
      "metadata": {
        "id": "ZM8Z3aCamBiO"
      },
      "source": [
        "## Mount Google Drive"
      ]
    },
    {
      "cell_type": "code",
      "execution_count": 2,
      "metadata": {
        "cellView": "form",
        "colab": {
          "base_uri": "https://localhost:8080/"
        },
        "id": "DJhf1paQHjlw",
        "outputId": "e9557504-494d-4af7-a4bb-2d4bb70ced70"
      },
      "outputs": [
        {
          "output_type": "stream",
          "name": "stdout",
          "text": [
            "Drive already mounted at /content/drive; to attempt to forcibly remount, call drive.mount(\"/content/drive\", force_remount=True).\n"
          ]
        }
      ],
      "source": [
        "#@markdown\n",
        "from google.colab import drive\n",
        "drive.mount('/content/drive')"
      ]
    },
    {
      "cell_type": "markdown",
      "metadata": {
        "id": "k-rLSD2DmzFa"
      },
      "source": [
        "## Common Imports"
      ]
    },
    {
      "cell_type": "code",
      "execution_count": 3,
      "metadata": {
        "cellView": "form",
        "id": "AjKOJa7Im10i"
      },
      "outputs": [],
      "source": [
        "#@markdown \n",
        "import os\n",
        "import numpy as np\n",
        "import pandas as pd\n",
        "import matplotlib.pyplot as plt\n",
        "# %matplotlib inline\n",
        "import seaborn as sns\n",
        "\n",
        "import h5py\n",
        "from itertools import compress\n",
        "from sklearn.preprocessing import scale\n",
        "from google.colab import widgets"
      ]
    },
    {
      "cell_type": "markdown",
      "metadata": {
        "id": "zOZsxkrpw5RI"
      },
      "source": [
        "## Routines"
      ]
    },
    {
      "cell_type": "code",
      "execution_count": 4,
      "metadata": {
        "cellView": "form",
        "id": "PcDmkZTKQjmd"
      },
      "outputs": [],
      "source": [
        "#@markdown `def clone_snirf(path_in, path_out, fname='out.snirf')`\n",
        "def clone_snirf(path_in, path_out, fname='out.snirf'):\n",
        "  \n",
        "  if path_in == path_out:\n",
        "    print('Error: path_in and path_out can not be the same.') \n",
        "    return\n",
        "\n",
        "  if not os.path.exists(path_out):\n",
        "      os.mkdir(path_out)\n",
        "      print(\"Directory \" , path_out ,  \"was created\")\n",
        "  else:    \n",
        "      print(\"Warning: directory \" , path_out ,  \" already exists\")\n",
        "\n",
        "  if os.path.exists(path_out + fname):\n",
        "    os.remove(path_out + fname)\n",
        "    print('Warning: previous output file was deleted.')\n",
        "  \n",
        "  print('Input snirf file: ' + path_in + fname)\n",
        "\n",
        "  fs = h5py.File(path_in + fname,'r')\n",
        "  fd = h5py.File(path_out + fname,'w')\n",
        "\n",
        "  if list(fs.keys()).count('formatVersion') >= 1:\n",
        "    fs.copy('formatVersion',fd,'formatVersion') \n",
        "  else:\n",
        "    print('Warning: there is no formatVersion key in snirf input.')\n",
        "\n",
        "  if list(fs.keys()).count('nirs') >= 1:\n",
        "    fs.copy('nirs',fd,'nirs') \n",
        "  else:\n",
        "    print('Error: Invalid snirf file. There is no nirs key in snirf input.')  \n",
        "  \n",
        "  print('Output snirf file: ' + path_out + fname)\n",
        "  \n",
        "  fd.close()\n",
        "  fs.close()\n",
        "\n",
        "  return"
      ]
    },
    {
      "cell_type": "markdown",
      "source": [
        "# Copia todos arquivos do drive para local"
      ],
      "metadata": {
        "id": "ZWqb6VB2c7LT"
      }
    },
    {
      "cell_type": "code",
      "source": [
        "import os\n",
        "path_in = '/content/drive/MyDrive/cond 1/snirf/'\n",
        "# path_in = '/content/drive/MyDrive/Cond 2/snirf/'\n",
        "\n",
        "path_out= '/content/'"
      ],
      "metadata": {
        "id": "khXe4d1Cy8Dd"
      },
      "execution_count": 5,
      "outputs": []
    },
    {
      "cell_type": "code",
      "source": [
        "# Clear all before copy... \n",
        "for f in os.listdir('/content/'):\n",
        "  if '_run1' in f:\n",
        "    os.system('rm ' + '/content/' + f )\n",
        "  if '_run2' in f:\n",
        "    os.system('rm ' + '/content/' + f )"
      ],
      "metadata": {
        "id": "0EsQvSMjfgf8"
      },
      "execution_count": 6,
      "outputs": []
    },
    {
      "cell_type": "code",
      "execution_count": 7,
      "metadata": {
        "colab": {
          "base_uri": "https://localhost:8080/"
        },
        "id": "sMx19zAz2UEI",
        "outputId": "92b87de8-abcd-453d-9f3e-a477cbb5043d"
      },
      "outputs": [
        {
          "output_type": "stream",
          "name": "stdout",
          "text": [
            "['21_run1.snirf', '11_run1.snirf', '15_run1.snirf', '12_run1.snirf', '34_run1.snirf', '37_run1.snirf', '16_run1.snirf', '22_run1.snirf', '14_run1.snirf', '20_run1.snirf', '17_run1.snirf', '39_run1.snirf', '33_run1.snirf', '36_run1.snirf', '9_run1.snirf', '29_run1.snirf', '10_run1.snirf', '18_run1.snirf', '31_run1.snirf', '32_run1.snirf', '19_run1.snirf', '6_run1.snirf', '7_run1.snirf', '26_run1.snirf', '27_run1.snirf', '2_run1.snirf', '24_run1.snirf', '38_run1.snirf', '13_run1.snirf', '23_run1.snirf', '3_run1.snirf', '30_run1.snirf', '25_run1.snirf', '1_run1.snirf', '5_run1.snirf']\n"
          ]
        }
      ],
      "source": [
        "entries = os.listdir(path_in)\n",
        "print(entries)\n",
        "\n",
        "for f in entries:\n",
        "  if f.count('.snirf') > 0:\n",
        "    os.system('cp ' + \"'\" + path_in + f  + \"'\" + ' ' + '/content/' + f )"
      ]
    },
    {
      "cell_type": "code",
      "source": [
        "# for f in os.listdir(path_in):\n",
        "#  if '_run1' in f:\n",
        "#    os.system('rm ' + path_in + f )\n",
        "if path_in == '/content/drive/MyDrive/Cond 2/snirf/':\n",
        "  for f in os.listdir('/content/'):\n",
        "    if '_run1' in f:\n",
        "      os.system('rm ' + '/content/' + f )\n",
        "\n",
        "if path_in == '/content/drive/MyDrive/cond 1/snirf/':\n",
        "  for f in os.listdir('/content/'):\n",
        "    if '_run2' in f:\n",
        "      os.system('rm ' + '/content/' + f )"
      ],
      "metadata": {
        "id": "cZ9zt9VAeZIE"
      },
      "execution_count": 8,
      "outputs": []
    },
    {
      "cell_type": "code",
      "source": [
        "entries =  os.listdir(path_out)\n",
        "entries = [x for x in entries if '.snirf' in x]\n",
        "\n",
        "# entries"
      ],
      "metadata": {
        "id": "AOm1yblStCZ8"
      },
      "execution_count": 9,
      "outputs": []
    },
    {
      "cell_type": "code",
      "source": [
        "from mne.io import read_raw_nirx\n",
        "from mne.preprocessing.nirs import (optical_density, beer_lambert_law,\n",
        "                                    temporal_derivative_distribution_repair)\n",
        "import mne\n",
        "import pickle\n",
        "\n",
        "threshold = 0.95\n",
        "\n",
        "sci_df_exists = False\n",
        "sci_df = pd.DataFrame()\n",
        "\n",
        "raw_haemo_all = {}\n",
        "epochs_all = {}\n",
        "\n",
        "for fname in entries:\n",
        "  raw_intensity = mne.io.read_raw_snirf(path_out + fname, verbose=True)\n",
        "  raw_intensity.load_data()\n",
        "  raw_od = mne.preprocessing.nirs.optical_density(raw_intensity)\n",
        "\n",
        "  raw_haemo = mne.preprocessing.nirs.beer_lambert_law(raw_od)\n",
        "\n",
        "  raw_haemo = raw_haemo.filter(0.05, 0.7, h_trans_bandwidth=0.2,\n",
        "                              l_trans_bandwidth=0.02)\n",
        "  print(raw_haemo.filenames)\n",
        "\n",
        "  events, event_dict = mne.events_from_annotations(raw_haemo)\n",
        "\n",
        "  reject_criteria = dict(hbo=80e-6)\n",
        "  tmin, tmax = -5, 15\n",
        "\n",
        "  epochs = mne.Epochs(raw_haemo, events, event_id=event_dict,\n",
        "                      tmin=tmin, tmax=tmax,\n",
        "  #                    reject=reject_criteria, reject_by_annotation=True,\n",
        "                      proj=True, baseline=(None, 0), preload=True,\n",
        "                      detrend=None, verbose=True,\n",
        "                      event_repeated='merge') # ADICIONADO Allowed values are 'error', 'drop', and 'merge'\n",
        "  # epochs.plot_drop_log()\n",
        "\n",
        "  raw_haemo_all[fname.split('.')[0]] = raw_haemo\n",
        "  epochs_all[fname.split('.')[0]] = epochs\n"
      ],
      "metadata": {
        "colab": {
          "base_uri": "https://localhost:8080/"
        },
        "outputId": "60ba164f-e974-4d90-ed08-0e2c97167c14",
        "id": "rOYD-9vMs4E6"
      },
      "execution_count": 10,
      "outputs": [
        {
          "output_type": "stream",
          "name": "stdout",
          "text": [
            "Loading /content/18_run1.snirf\n",
            "Reading 0 ... 21573  =      0.000 ...  2157.300 secs...\n",
            "Filtering raw data in 1 contiguous segment\n",
            "Setting up band-pass filter from 0.05 - 0.7 Hz\n",
            "\n",
            "FIR filter parameters\n",
            "---------------------\n",
            "Designing a one-pass, zero-phase, non-causal bandpass filter:\n",
            "- Windowed time-domain design (firwin) method\n",
            "- Hamming window with 0.0194 passband ripple and 53 dB stopband attenuation\n",
            "- Lower passband edge: 0.05\n",
            "- Lower transition bandwidth: 0.02 Hz (-6 dB cutoff frequency: 0.04 Hz)\n",
            "- Upper passband edge: 0.70 Hz\n",
            "- Upper transition bandwidth: 0.20 Hz (-6 dB cutoff frequency: 0.80 Hz)\n",
            "- Filter length: 1651 samples (165.100 sec)\n",
            "\n"
          ]
        },
        {
          "output_type": "stream",
          "name": "stderr",
          "text": [
            "<ipython-input-10-4df4296734cb>:18: RuntimeWarning: Negative intensities encountered. Setting to abs(x)\n",
            "  raw_od = mne.preprocessing.nirs.optical_density(raw_intensity)\n"
          ]
        },
        {
          "output_type": "stream",
          "name": "stdout",
          "text": [
            "('/content/18_run1.snirf',)\n",
            "Used Annotations descriptions: ['Async1', 'Async2', 'Async3', 'Async4', 'Async5', 'Async6', 'Async7', 'Async8', 'Sync1', 'Sync2', 'Sync3', 'Sync4', 'Sync5', 'Sync6', 'Sync7', 'Sync8', 'controle1', 'controle2', 'controle3', 'controle4', 'controle5', 'controle6', 'controle7', 'controle8']\n",
            "Not setting metadata\n",
            "24 matching events found\n",
            "Setting baseline interval to [-5.0, 0.0] sec\n",
            "Applying baseline correction (mode: mean)\n",
            "0 projection items activated\n",
            "Using data from preloaded Raw for 24 events and 201 original time points ...\n",
            "0 bad epochs dropped\n",
            "Loading /content/3_run1.snirf\n"
          ]
        },
        {
          "output_type": "stream",
          "name": "stderr",
          "text": [
            "[Parallel(n_jobs=1)]: Using backend SequentialBackend with 1 concurrent workers.\n",
            "[Parallel(n_jobs=1)]: Done   1 out of   1 | elapsed:    0.0s remaining:    0.0s\n",
            "[Parallel(n_jobs=1)]: Done   2 out of   2 | elapsed:    0.0s remaining:    0.0s\n",
            "[Parallel(n_jobs=1)]: Done   3 out of   3 | elapsed:    0.0s remaining:    0.0s\n",
            "[Parallel(n_jobs=1)]: Done   4 out of   4 | elapsed:    0.0s remaining:    0.0s\n",
            "[Parallel(n_jobs=1)]: Done  48 out of  48 | elapsed:    0.1s finished\n"
          ]
        },
        {
          "output_type": "stream",
          "name": "stdout",
          "text": [
            "Reading 0 ... 21603  =      0.000 ...  2160.300 secs...\n",
            "Filtering raw data in 1 contiguous segment\n",
            "Setting up band-pass filter from 0.05 - 0.7 Hz\n",
            "\n",
            "FIR filter parameters\n",
            "---------------------\n",
            "Designing a one-pass, zero-phase, non-causal bandpass filter:\n",
            "- Windowed time-domain design (firwin) method\n",
            "- Hamming window with 0.0194 passband ripple and 53 dB stopband attenuation\n",
            "- Lower passband edge: 0.05\n",
            "- Lower transition bandwidth: 0.02 Hz (-6 dB cutoff frequency: 0.04 Hz)\n",
            "- Upper passband edge: 0.70 Hz\n",
            "- Upper transition bandwidth: 0.20 Hz (-6 dB cutoff frequency: 0.80 Hz)\n",
            "- Filter length: 1651 samples (165.100 sec)\n",
            "\n"
          ]
        },
        {
          "output_type": "stream",
          "name": "stderr",
          "text": [
            "<ipython-input-10-4df4296734cb>:18: RuntimeWarning: Negative intensities encountered. Setting to abs(x)\n",
            "  raw_od = mne.preprocessing.nirs.optical_density(raw_intensity)\n"
          ]
        },
        {
          "output_type": "stream",
          "name": "stdout",
          "text": [
            "('/content/3_run1.snirf',)\n",
            "Used Annotations descriptions: ['Async1', 'Async2', 'Async3', 'Async4', 'Async5', 'Async6', 'Async7', 'Async8', 'Sync1', 'Sync2', 'Sync3', 'Sync4', 'Sync5', 'Sync6', 'Sync7', 'Sync8', 'controle1', 'controle2', 'controle3', 'controle4', 'controle5', 'controle6', 'controle7', 'controle8']\n",
            "Not setting metadata\n",
            "24 matching events found\n",
            "Setting baseline interval to [-5.0, 0.0] sec\n",
            "Applying baseline correction (mode: mean)\n",
            "0 projection items activated\n",
            "Using data from preloaded Raw for 24 events and 201 original time points ...\n"
          ]
        },
        {
          "output_type": "stream",
          "name": "stderr",
          "text": [
            "[Parallel(n_jobs=1)]: Using backend SequentialBackend with 1 concurrent workers.\n",
            "[Parallel(n_jobs=1)]: Done   1 out of   1 | elapsed:    0.0s remaining:    0.0s\n",
            "[Parallel(n_jobs=1)]: Done   2 out of   2 | elapsed:    0.0s remaining:    0.0s\n",
            "[Parallel(n_jobs=1)]: Done   3 out of   3 | elapsed:    0.0s remaining:    0.0s\n",
            "[Parallel(n_jobs=1)]: Done   4 out of   4 | elapsed:    0.0s remaining:    0.0s\n",
            "[Parallel(n_jobs=1)]: Done  48 out of  48 | elapsed:    0.1s finished\n"
          ]
        },
        {
          "output_type": "stream",
          "name": "stdout",
          "text": [
            "0 bad epochs dropped\n",
            "Loading /content/11_run1.snirf\n",
            "Reading 0 ... 21716  =      0.000 ...  2171.600 secs...\n",
            "Filtering raw data in 1 contiguous segment\n",
            "Setting up band-pass filter from 0.05 - 0.7 Hz\n",
            "\n",
            "FIR filter parameters\n",
            "---------------------\n",
            "Designing a one-pass, zero-phase, non-causal bandpass filter:\n",
            "- Windowed time-domain design (firwin) method\n",
            "- Hamming window with 0.0194 passband ripple and 53 dB stopband attenuation\n",
            "- Lower passband edge: 0.05\n",
            "- Lower transition bandwidth: 0.02 Hz (-6 dB cutoff frequency: 0.04 Hz)\n",
            "- Upper passband edge: 0.70 Hz\n",
            "- Upper transition bandwidth: 0.20 Hz (-6 dB cutoff frequency: 0.80 Hz)\n",
            "- Filter length: 1651 samples (165.100 sec)\n",
            "\n"
          ]
        },
        {
          "output_type": "stream",
          "name": "stderr",
          "text": [
            "<ipython-input-10-4df4296734cb>:18: RuntimeWarning: Negative intensities encountered. Setting to abs(x)\n",
            "  raw_od = mne.preprocessing.nirs.optical_density(raw_intensity)\n",
            "[Parallel(n_jobs=1)]: Using backend SequentialBackend with 1 concurrent workers.\n",
            "[Parallel(n_jobs=1)]: Done   1 out of   1 | elapsed:    0.0s remaining:    0.0s\n",
            "[Parallel(n_jobs=1)]: Done   2 out of   2 | elapsed:    0.0s remaining:    0.0s\n",
            "[Parallel(n_jobs=1)]: Done   3 out of   3 | elapsed:    0.0s remaining:    0.0s\n",
            "[Parallel(n_jobs=1)]: Done   4 out of   4 | elapsed:    0.0s remaining:    0.0s\n"
          ]
        },
        {
          "output_type": "stream",
          "name": "stdout",
          "text": [
            "('/content/11_run1.snirf',)\n",
            "Used Annotations descriptions: ['Async1', 'Sync1', 'Sync2', 'Sync3', 'Sync4', 'Sync5', 'Sync6', 'Sync7', 'Sync8', 'controle1', 'controle2', 'controle3', 'controle4', 'controle5', 'controle6', 'controle7', 'controle8']\n",
            "Not setting metadata\n",
            "17 matching events found\n",
            "Setting baseline interval to [-5.0, 0.0] sec\n",
            "Applying baseline correction (mode: mean)\n",
            "0 projection items activated\n",
            "Using data from preloaded Raw for 17 events and 201 original time points ...\n",
            "1 bad epochs dropped\n",
            "Loading /content/20_run1.snirf\n"
          ]
        },
        {
          "output_type": "stream",
          "name": "stderr",
          "text": [
            "[Parallel(n_jobs=1)]: Done  48 out of  48 | elapsed:    0.2s finished\n"
          ]
        },
        {
          "output_type": "stream",
          "name": "stdout",
          "text": [
            "Reading 0 ... 21629  =      0.000 ...  2162.900 secs...\n",
            "Filtering raw data in 1 contiguous segment\n",
            "Setting up band-pass filter from 0.05 - 0.7 Hz\n",
            "\n",
            "FIR filter parameters\n",
            "---------------------\n",
            "Designing a one-pass, zero-phase, non-causal bandpass filter:\n",
            "- Windowed time-domain design (firwin) method\n",
            "- Hamming window with 0.0194 passband ripple and 53 dB stopband attenuation\n",
            "- Lower passband edge: 0.05\n",
            "- Lower transition bandwidth: 0.02 Hz (-6 dB cutoff frequency: 0.04 Hz)\n",
            "- Upper passband edge: 0.70 Hz\n",
            "- Upper transition bandwidth: 0.20 Hz (-6 dB cutoff frequency: 0.80 Hz)\n",
            "- Filter length: 1651 samples (165.100 sec)\n",
            "\n"
          ]
        },
        {
          "output_type": "stream",
          "name": "stderr",
          "text": [
            "<ipython-input-10-4df4296734cb>:18: RuntimeWarning: Negative intensities encountered. Setting to abs(x)\n",
            "  raw_od = mne.preprocessing.nirs.optical_density(raw_intensity)\n",
            "[Parallel(n_jobs=1)]: Using backend SequentialBackend with 1 concurrent workers.\n",
            "[Parallel(n_jobs=1)]: Done   1 out of   1 | elapsed:    0.0s remaining:    0.0s\n",
            "[Parallel(n_jobs=1)]: Done   2 out of   2 | elapsed:    0.0s remaining:    0.0s\n",
            "[Parallel(n_jobs=1)]: Done   3 out of   3 | elapsed:    0.0s remaining:    0.0s\n",
            "[Parallel(n_jobs=1)]: Done   4 out of   4 | elapsed:    0.0s remaining:    0.0s\n"
          ]
        },
        {
          "output_type": "stream",
          "name": "stdout",
          "text": [
            "('/content/20_run1.snirf',)\n",
            "Used Annotations descriptions: ['Async1', 'Async2', 'Async3', 'Async4', 'Async5', 'Async6', 'Async7', 'Async8', 'Sync1', 'Sync2', 'Sync3', 'Sync4', 'Sync5', 'Sync6', 'Sync7', 'Sync8', 'controle1', 'controle2', 'controle3', 'controle4', 'controle5', 'controle6', 'controle7', 'controle8']\n",
            "Not setting metadata\n",
            "24 matching events found\n",
            "Setting baseline interval to [-5.0, 0.0] sec\n",
            "Applying baseline correction (mode: mean)\n",
            "0 projection items activated\n",
            "Using data from preloaded Raw for 24 events and 201 original time points ...\n",
            "0 bad epochs dropped\n",
            "Loading /content/9_run1.snirf\n"
          ]
        },
        {
          "output_type": "stream",
          "name": "stderr",
          "text": [
            "[Parallel(n_jobs=1)]: Done  48 out of  48 | elapsed:    0.1s finished\n"
          ]
        },
        {
          "output_type": "stream",
          "name": "stdout",
          "text": [
            "Reading 0 ... 21736  =      0.000 ...  2173.600 secs...\n",
            "Filtering raw data in 1 contiguous segment\n",
            "Setting up band-pass filter from 0.05 - 0.7 Hz\n",
            "\n",
            "FIR filter parameters\n",
            "---------------------\n",
            "Designing a one-pass, zero-phase, non-causal bandpass filter:\n",
            "- Windowed time-domain design (firwin) method\n",
            "- Hamming window with 0.0194 passband ripple and 53 dB stopband attenuation\n",
            "- Lower passband edge: 0.05\n",
            "- Lower transition bandwidth: 0.02 Hz (-6 dB cutoff frequency: 0.04 Hz)\n",
            "- Upper passband edge: 0.70 Hz\n",
            "- Upper transition bandwidth: 0.20 Hz (-6 dB cutoff frequency: 0.80 Hz)\n",
            "- Filter length: 1651 samples (165.100 sec)\n",
            "\n"
          ]
        },
        {
          "output_type": "stream",
          "name": "stderr",
          "text": [
            "<ipython-input-10-4df4296734cb>:18: RuntimeWarning: Negative intensities encountered. Setting to abs(x)\n",
            "  raw_od = mne.preprocessing.nirs.optical_density(raw_intensity)\n",
            "[Parallel(n_jobs=1)]: Using backend SequentialBackend with 1 concurrent workers.\n",
            "[Parallel(n_jobs=1)]: Done   1 out of   1 | elapsed:    0.0s remaining:    0.0s\n",
            "[Parallel(n_jobs=1)]: Done   2 out of   2 | elapsed:    0.0s remaining:    0.0s\n",
            "[Parallel(n_jobs=1)]: Done   3 out of   3 | elapsed:    0.0s remaining:    0.0s\n",
            "[Parallel(n_jobs=1)]: Done   4 out of   4 | elapsed:    0.0s remaining:    0.0s\n"
          ]
        },
        {
          "output_type": "stream",
          "name": "stdout",
          "text": [
            "('/content/9_run1.snirf',)\n",
            "Used Annotations descriptions: ['Async1', 'Async2', 'Async3', 'Async4', 'Async5', 'Async6', 'Async7', 'Async8', 'Sync1', 'Sync2', 'Sync3', 'Sync4', 'Sync5', 'Sync6', 'Sync7', 'Sync8', 'controle1', 'controle2', 'controle3', 'controle4', 'controle5', 'controle6', 'controle7', 'controle8']\n",
            "Not setting metadata\n",
            "24 matching events found\n",
            "Setting baseline interval to [-5.0, 0.0] sec\n",
            "Applying baseline correction (mode: mean)\n",
            "0 projection items activated\n",
            "Using data from preloaded Raw for 24 events and 201 original time points ...\n",
            "0 bad epochs dropped\n",
            "Loading /content/24_run1.snirf\n"
          ]
        },
        {
          "output_type": "stream",
          "name": "stderr",
          "text": [
            "[Parallel(n_jobs=1)]: Done  48 out of  48 | elapsed:    0.1s finished\n"
          ]
        },
        {
          "output_type": "stream",
          "name": "stdout",
          "text": [
            "Reading 0 ... 21900  =      0.000 ...  2190.000 secs...\n",
            "Filtering raw data in 1 contiguous segment\n",
            "Setting up band-pass filter from 0.05 - 0.7 Hz\n",
            "\n",
            "FIR filter parameters\n",
            "---------------------\n",
            "Designing a one-pass, zero-phase, non-causal bandpass filter:\n",
            "- Windowed time-domain design (firwin) method\n",
            "- Hamming window with 0.0194 passband ripple and 53 dB stopband attenuation\n",
            "- Lower passband edge: 0.05\n",
            "- Lower transition bandwidth: 0.02 Hz (-6 dB cutoff frequency: 0.04 Hz)\n",
            "- Upper passband edge: 0.70 Hz\n",
            "- Upper transition bandwidth: 0.20 Hz (-6 dB cutoff frequency: 0.80 Hz)\n",
            "- Filter length: 1651 samples (165.100 sec)\n",
            "\n"
          ]
        },
        {
          "output_type": "stream",
          "name": "stderr",
          "text": [
            "<ipython-input-10-4df4296734cb>:18: RuntimeWarning: Negative intensities encountered. Setting to abs(x)\n",
            "  raw_od = mne.preprocessing.nirs.optical_density(raw_intensity)\n",
            "[Parallel(n_jobs=1)]: Using backend SequentialBackend with 1 concurrent workers.\n",
            "[Parallel(n_jobs=1)]: Done   1 out of   1 | elapsed:    0.0s remaining:    0.0s\n",
            "[Parallel(n_jobs=1)]: Done   2 out of   2 | elapsed:    0.0s remaining:    0.0s\n",
            "[Parallel(n_jobs=1)]: Done   3 out of   3 | elapsed:    0.0s remaining:    0.0s\n",
            "[Parallel(n_jobs=1)]: Done   4 out of   4 | elapsed:    0.0s remaining:    0.0s\n"
          ]
        },
        {
          "output_type": "stream",
          "name": "stdout",
          "text": [
            "('/content/24_run1.snirf',)\n",
            "Used Annotations descriptions: ['Async1', 'Async2', 'Async3', 'Async4', 'Async5', 'Async6', 'Async7', 'Async8', 'Sync1', 'Sync2', 'Sync3', 'Sync4', 'Sync5', 'Sync6', 'Sync7', 'Sync8', 'controle1', 'controle2', 'controle3', 'controle4', 'controle5', 'controle6', 'controle7', 'controle8']\n",
            "Not setting metadata\n",
            "24 matching events found\n",
            "Setting baseline interval to [-5.0, 0.0] sec\n",
            "Applying baseline correction (mode: mean)\n",
            "0 projection items activated\n",
            "Using data from preloaded Raw for 24 events and 201 original time points ...\n",
            "0 bad epochs dropped\n",
            "Loading /content/12_run1.snirf\n"
          ]
        },
        {
          "output_type": "stream",
          "name": "stderr",
          "text": [
            "[Parallel(n_jobs=1)]: Done  48 out of  48 | elapsed:    0.1s finished\n"
          ]
        },
        {
          "output_type": "stream",
          "name": "stdout",
          "text": [
            "Reading 0 ... 21543  =      0.000 ...  2154.300 secs...\n",
            "Filtering raw data in 1 contiguous segment\n",
            "Setting up band-pass filter from 0.05 - 0.7 Hz\n",
            "\n",
            "FIR filter parameters\n",
            "---------------------\n",
            "Designing a one-pass, zero-phase, non-causal bandpass filter:\n",
            "- Windowed time-domain design (firwin) method\n",
            "- Hamming window with 0.0194 passband ripple and 53 dB stopband attenuation\n",
            "- Lower passband edge: 0.05\n",
            "- Lower transition bandwidth: 0.02 Hz (-6 dB cutoff frequency: 0.04 Hz)\n",
            "- Upper passband edge: 0.70 Hz\n",
            "- Upper transition bandwidth: 0.20 Hz (-6 dB cutoff frequency: 0.80 Hz)\n",
            "- Filter length: 1651 samples (165.100 sec)\n",
            "\n"
          ]
        },
        {
          "output_type": "stream",
          "name": "stderr",
          "text": [
            "<ipython-input-10-4df4296734cb>:18: RuntimeWarning: Negative intensities encountered. Setting to abs(x)\n",
            "  raw_od = mne.preprocessing.nirs.optical_density(raw_intensity)\n",
            "[Parallel(n_jobs=1)]: Using backend SequentialBackend with 1 concurrent workers.\n",
            "[Parallel(n_jobs=1)]: Done   1 out of   1 | elapsed:    0.0s remaining:    0.0s\n",
            "[Parallel(n_jobs=1)]: Done   2 out of   2 | elapsed:    0.0s remaining:    0.0s\n",
            "[Parallel(n_jobs=1)]: Done   3 out of   3 | elapsed:    0.0s remaining:    0.0s\n",
            "[Parallel(n_jobs=1)]: Done   4 out of   4 | elapsed:    0.0s remaining:    0.0s\n"
          ]
        },
        {
          "output_type": "stream",
          "name": "stdout",
          "text": [
            "('/content/12_run1.snirf',)\n",
            "Used Annotations descriptions: ['Async1', 'Async2', 'Async3', 'Async4', 'Async5', 'Async6', 'Async7', 'Async8', 'Sync1', 'Sync2', 'Sync3', 'Sync4', 'Sync5', 'Sync6', 'Sync7', 'Sync8', 'controle1', 'controle2', 'controle3', 'controle4', 'controle5', 'controle6', 'controle7', 'controle8']\n",
            "Not setting metadata\n",
            "24 matching events found\n",
            "Setting baseline interval to [-5.0, 0.0] sec\n",
            "Applying baseline correction (mode: mean)\n",
            "0 projection items activated\n",
            "Using data from preloaded Raw for 24 events and 201 original time points ...\n",
            "0 bad epochs dropped\n",
            "Loading /content/39_run1.snirf\n"
          ]
        },
        {
          "output_type": "stream",
          "name": "stderr",
          "text": [
            "[Parallel(n_jobs=1)]: Done  48 out of  48 | elapsed:    0.2s finished\n"
          ]
        },
        {
          "output_type": "stream",
          "name": "stdout",
          "text": [
            "Reading 0 ... 21731  =      0.000 ...  2173.100 secs...\n",
            "Filtering raw data in 1 contiguous segment\n",
            "Setting up band-pass filter from 0.05 - 0.7 Hz\n",
            "\n",
            "FIR filter parameters\n",
            "---------------------\n",
            "Designing a one-pass, zero-phase, non-causal bandpass filter:\n",
            "- Windowed time-domain design (firwin) method\n",
            "- Hamming window with 0.0194 passband ripple and 53 dB stopband attenuation\n",
            "- Lower passband edge: 0.05\n",
            "- Lower transition bandwidth: 0.02 Hz (-6 dB cutoff frequency: 0.04 Hz)\n",
            "- Upper passband edge: 0.70 Hz\n",
            "- Upper transition bandwidth: 0.20 Hz (-6 dB cutoff frequency: 0.80 Hz)\n",
            "- Filter length: 1651 samples (165.100 sec)\n",
            "\n"
          ]
        },
        {
          "output_type": "stream",
          "name": "stderr",
          "text": [
            "<ipython-input-10-4df4296734cb>:18: RuntimeWarning: Negative intensities encountered. Setting to abs(x)\n",
            "  raw_od = mne.preprocessing.nirs.optical_density(raw_intensity)\n",
            "[Parallel(n_jobs=1)]: Using backend SequentialBackend with 1 concurrent workers.\n",
            "[Parallel(n_jobs=1)]: Done   1 out of   1 | elapsed:    0.0s remaining:    0.0s\n",
            "[Parallel(n_jobs=1)]: Done   2 out of   2 | elapsed:    0.0s remaining:    0.0s\n",
            "[Parallel(n_jobs=1)]: Done   3 out of   3 | elapsed:    0.0s remaining:    0.0s\n",
            "[Parallel(n_jobs=1)]: Done   4 out of   4 | elapsed:    0.0s remaining:    0.0s\n"
          ]
        },
        {
          "output_type": "stream",
          "name": "stdout",
          "text": [
            "('/content/39_run1.snirf',)\n",
            "Used Annotations descriptions: ['Async1', 'Async2', 'Async3', 'Async4', 'Async5', 'Async6', 'Async7', 'Async8', 'Sync1', 'Sync2', 'Sync3', 'Sync4', 'Sync5', 'Sync6', 'Sync7', 'Sync8', 'controle1', 'controle2', 'controle3', 'controle4', 'controle5', 'controle6', 'controle7', 'controle8']\n",
            "Not setting metadata\n",
            "24 matching events found\n",
            "Setting baseline interval to [-5.0, 0.0] sec\n",
            "Applying baseline correction (mode: mean)\n",
            "0 projection items activated\n",
            "Using data from preloaded Raw for 24 events and 201 original time points ...\n",
            "0 bad epochs dropped\n",
            "Loading /content/17_run1.snirf\n"
          ]
        },
        {
          "output_type": "stream",
          "name": "stderr",
          "text": [
            "[Parallel(n_jobs=1)]: Done  48 out of  48 | elapsed:    0.1s finished\n"
          ]
        },
        {
          "output_type": "stream",
          "name": "stdout",
          "text": [
            "Reading 0 ... 21944  =      0.000 ...  2194.400 secs...\n",
            "Filtering raw data in 1 contiguous segment\n",
            "Setting up band-pass filter from 0.05 - 0.7 Hz\n",
            "\n",
            "FIR filter parameters\n",
            "---------------------\n",
            "Designing a one-pass, zero-phase, non-causal bandpass filter:\n",
            "- Windowed time-domain design (firwin) method\n",
            "- Hamming window with 0.0194 passband ripple and 53 dB stopband attenuation\n",
            "- Lower passband edge: 0.05\n",
            "- Lower transition bandwidth: 0.02 Hz (-6 dB cutoff frequency: 0.04 Hz)\n",
            "- Upper passband edge: 0.70 Hz\n",
            "- Upper transition bandwidth: 0.20 Hz (-6 dB cutoff frequency: 0.80 Hz)\n",
            "- Filter length: 1651 samples (165.100 sec)\n",
            "\n"
          ]
        },
        {
          "output_type": "stream",
          "name": "stderr",
          "text": [
            "<ipython-input-10-4df4296734cb>:18: RuntimeWarning: Negative intensities encountered. Setting to abs(x)\n",
            "  raw_od = mne.preprocessing.nirs.optical_density(raw_intensity)\n"
          ]
        },
        {
          "output_type": "stream",
          "name": "stdout",
          "text": [
            "('/content/17_run1.snirf',)\n",
            "Used Annotations descriptions: ['Async1', 'Async2', 'Async3', 'Async4', 'Async5', 'Async6', 'Async7', 'Async8', 'Sync1', 'Sync2', 'Sync3', 'Sync4', 'Sync5', 'Sync6', 'Sync7', 'Sync8', 'controle1', 'controle2', 'controle3', 'controle4', 'controle5', 'controle6', 'controle7', 'controle8']\n",
            "Not setting metadata\n"
          ]
        },
        {
          "output_type": "stream",
          "name": "stderr",
          "text": [
            "[Parallel(n_jobs=1)]: Using backend SequentialBackend with 1 concurrent workers.\n",
            "[Parallel(n_jobs=1)]: Done   1 out of   1 | elapsed:    0.0s remaining:    0.0s\n",
            "[Parallel(n_jobs=1)]: Done   2 out of   2 | elapsed:    0.0s remaining:    0.0s\n",
            "[Parallel(n_jobs=1)]: Done   3 out of   3 | elapsed:    0.0s remaining:    0.0s\n",
            "[Parallel(n_jobs=1)]: Done   4 out of   4 | elapsed:    0.0s remaining:    0.0s\n",
            "[Parallel(n_jobs=1)]: Done  48 out of  48 | elapsed:    0.2s finished\n"
          ]
        },
        {
          "output_type": "stream",
          "name": "stdout",
          "text": [
            "24 matching events found\n",
            "Setting baseline interval to [-5.0, 0.0] sec\n",
            "Applying baseline correction (mode: mean)\n",
            "0 projection items activated\n",
            "Using data from preloaded Raw for 24 events and 201 original time points ...\n",
            "0 bad epochs dropped\n",
            "Loading /content/37_run1.snirf\n",
            "Reading 0 ... 21657  =      0.000 ...  2165.700 secs...\n",
            "Filtering raw data in 1 contiguous segment\n",
            "Setting up band-pass filter from 0.05 - 0.7 Hz\n",
            "\n",
            "FIR filter parameters\n",
            "---------------------\n",
            "Designing a one-pass, zero-phase, non-causal bandpass filter:\n",
            "- Windowed time-domain design (firwin) method\n",
            "- Hamming window with 0.0194 passband ripple and 53 dB stopband attenuation\n",
            "- Lower passband edge: 0.05\n",
            "- Lower transition bandwidth: 0.02 Hz (-6 dB cutoff frequency: 0.04 Hz)\n",
            "- Upper passband edge: 0.70 Hz\n",
            "- Upper transition bandwidth: 0.20 Hz (-6 dB cutoff frequency: 0.80 Hz)\n",
            "- Filter length: 1651 samples (165.100 sec)\n",
            "\n"
          ]
        },
        {
          "output_type": "stream",
          "name": "stderr",
          "text": [
            "<ipython-input-10-4df4296734cb>:18: RuntimeWarning: Negative intensities encountered. Setting to abs(x)\n",
            "  raw_od = mne.preprocessing.nirs.optical_density(raw_intensity)\n",
            "[Parallel(n_jobs=1)]: Using backend SequentialBackend with 1 concurrent workers.\n",
            "[Parallel(n_jobs=1)]: Done   1 out of   1 | elapsed:    0.0s remaining:    0.0s\n",
            "[Parallel(n_jobs=1)]: Done   2 out of   2 | elapsed:    0.0s remaining:    0.0s\n",
            "[Parallel(n_jobs=1)]: Done   3 out of   3 | elapsed:    0.0s remaining:    0.0s\n"
          ]
        },
        {
          "output_type": "stream",
          "name": "stdout",
          "text": [
            "('/content/37_run1.snirf',)\n",
            "Used Annotations descriptions: ['Async1', 'Async2', 'Async3', 'Async4', 'Async5', 'Async6', 'Async7', 'Async8', 'Sync1', 'Sync2', 'Sync3', 'Sync4', 'Sync5', 'Sync6', 'Sync7', 'Sync8', 'controle1', 'controle2', 'controle3', 'controle4', 'controle5', 'controle6', 'controle7', 'controle8']\n",
            "Not setting metadata\n",
            "24 matching events found\n",
            "Setting baseline interval to [-5.0, 0.0] sec\n",
            "Applying baseline correction (mode: mean)\n",
            "0 projection items activated\n",
            "Using data from preloaded Raw for 24 events and 201 original time points ...\n",
            "0 bad epochs dropped\n",
            "Loading /content/30_run1.snirf\n"
          ]
        },
        {
          "output_type": "stream",
          "name": "stderr",
          "text": [
            "[Parallel(n_jobs=1)]: Done   4 out of   4 | elapsed:    0.0s remaining:    0.0s\n",
            "[Parallel(n_jobs=1)]: Done  48 out of  48 | elapsed:    0.1s finished\n"
          ]
        },
        {
          "output_type": "stream",
          "name": "stdout",
          "text": [
            "Reading 0 ... 22068  =      0.000 ...  2206.800 secs...\n",
            "Filtering raw data in 1 contiguous segment\n",
            "Setting up band-pass filter from 0.05 - 0.7 Hz\n",
            "\n",
            "FIR filter parameters\n",
            "---------------------\n",
            "Designing a one-pass, zero-phase, non-causal bandpass filter:\n",
            "- Windowed time-domain design (firwin) method\n",
            "- Hamming window with 0.0194 passband ripple and 53 dB stopband attenuation\n",
            "- Lower passband edge: 0.05\n",
            "- Lower transition bandwidth: 0.02 Hz (-6 dB cutoff frequency: 0.04 Hz)\n",
            "- Upper passband edge: 0.70 Hz\n",
            "- Upper transition bandwidth: 0.20 Hz (-6 dB cutoff frequency: 0.80 Hz)\n",
            "- Filter length: 1651 samples (165.100 sec)\n",
            "\n"
          ]
        },
        {
          "output_type": "stream",
          "name": "stderr",
          "text": [
            "<ipython-input-10-4df4296734cb>:18: RuntimeWarning: Negative intensities encountered. Setting to abs(x)\n",
            "  raw_od = mne.preprocessing.nirs.optical_density(raw_intensity)\n",
            "[Parallel(n_jobs=1)]: Using backend SequentialBackend with 1 concurrent workers.\n",
            "[Parallel(n_jobs=1)]: Done   1 out of   1 | elapsed:    0.0s remaining:    0.0s\n",
            "[Parallel(n_jobs=1)]: Done   2 out of   2 | elapsed:    0.0s remaining:    0.0s\n",
            "[Parallel(n_jobs=1)]: Done   3 out of   3 | elapsed:    0.0s remaining:    0.0s\n",
            "[Parallel(n_jobs=1)]: Done   4 out of   4 | elapsed:    0.0s remaining:    0.0s\n"
          ]
        },
        {
          "output_type": "stream",
          "name": "stdout",
          "text": [
            "('/content/30_run1.snirf',)\n",
            "Used Annotations descriptions: ['Async1', 'Async2', 'Async3', 'Async4', 'Async5', 'Async6', 'Async7', 'Async8', 'Sync1', 'Sync2', 'Sync3', 'Sync4', 'Sync5', 'Sync6', 'Sync7', 'Sync8', 'controle1', 'controle2', 'controle3', 'controle4', 'controle5', 'controle6', 'controle7', 'controle8']\n",
            "Not setting metadata\n",
            "24 matching events found\n",
            "Setting baseline interval to [-5.0, 0.0] sec\n",
            "Applying baseline correction (mode: mean)\n",
            "0 projection items activated\n",
            "Using data from preloaded Raw for 24 events and 201 original time points ...\n",
            "0 bad epochs dropped\n",
            "Loading /content/36_run1.snirf\n"
          ]
        },
        {
          "output_type": "stream",
          "name": "stderr",
          "text": [
            "[Parallel(n_jobs=1)]: Done  48 out of  48 | elapsed:    0.1s finished\n"
          ]
        },
        {
          "output_type": "stream",
          "name": "stdout",
          "text": [
            "Reading 0 ... 21807  =      0.000 ...  2180.700 secs...\n",
            "Filtering raw data in 1 contiguous segment\n",
            "Setting up band-pass filter from 0.05 - 0.7 Hz\n",
            "\n",
            "FIR filter parameters\n",
            "---------------------\n",
            "Designing a one-pass, zero-phase, non-causal bandpass filter:\n",
            "- Windowed time-domain design (firwin) method\n",
            "- Hamming window with 0.0194 passband ripple and 53 dB stopband attenuation\n",
            "- Lower passband edge: 0.05\n",
            "- Lower transition bandwidth: 0.02 Hz (-6 dB cutoff frequency: 0.04 Hz)\n",
            "- Upper passband edge: 0.70 Hz\n",
            "- Upper transition bandwidth: 0.20 Hz (-6 dB cutoff frequency: 0.80 Hz)\n",
            "- Filter length: 1651 samples (165.100 sec)\n",
            "\n"
          ]
        },
        {
          "output_type": "stream",
          "name": "stderr",
          "text": [
            "<ipython-input-10-4df4296734cb>:18: RuntimeWarning: Negative intensities encountered. Setting to abs(x)\n",
            "  raw_od = mne.preprocessing.nirs.optical_density(raw_intensity)\n",
            "[Parallel(n_jobs=1)]: Using backend SequentialBackend with 1 concurrent workers.\n",
            "[Parallel(n_jobs=1)]: Done   1 out of   1 | elapsed:    0.0s remaining:    0.0s\n",
            "[Parallel(n_jobs=1)]: Done   2 out of   2 | elapsed:    0.0s remaining:    0.0s\n",
            "[Parallel(n_jobs=1)]: Done   3 out of   3 | elapsed:    0.0s remaining:    0.0s\n",
            "[Parallel(n_jobs=1)]: Done   4 out of   4 | elapsed:    0.0s remaining:    0.0s\n"
          ]
        },
        {
          "output_type": "stream",
          "name": "stdout",
          "text": [
            "('/content/36_run1.snirf',)\n",
            "Used Annotations descriptions: ['Async1', 'Async2', 'Async3', 'Async4', 'Async5', 'Async6', 'Async7', 'Async8', 'Sync1', 'Sync2', 'Sync3', 'Sync4', 'Sync5', 'Sync6', 'Sync7', 'Sync8', 'controle1', 'controle2', 'controle3', 'controle4', 'controle5', 'controle6', 'controle7', 'controle8']\n",
            "Not setting metadata\n",
            "24 matching events found\n",
            "Setting baseline interval to [-5.0, 0.0] sec\n",
            "Applying baseline correction (mode: mean)\n",
            "0 projection items activated\n",
            "Using data from preloaded Raw for 24 events and 201 original time points ...\n",
            "0 bad epochs dropped\n",
            "Loading /content/33_run1.snirf\n"
          ]
        },
        {
          "output_type": "stream",
          "name": "stderr",
          "text": [
            "[Parallel(n_jobs=1)]: Done  48 out of  48 | elapsed:    0.1s finished\n"
          ]
        },
        {
          "output_type": "stream",
          "name": "stdout",
          "text": [
            "Reading 0 ... 21701  =      0.000 ...  2170.100 secs...\n",
            "Filtering raw data in 1 contiguous segment\n",
            "Setting up band-pass filter from 0.05 - 0.7 Hz\n",
            "\n",
            "FIR filter parameters\n",
            "---------------------\n",
            "Designing a one-pass, zero-phase, non-causal bandpass filter:\n",
            "- Windowed time-domain design (firwin) method\n",
            "- Hamming window with 0.0194 passband ripple and 53 dB stopband attenuation\n",
            "- Lower passband edge: 0.05\n",
            "- Lower transition bandwidth: 0.02 Hz (-6 dB cutoff frequency: 0.04 Hz)\n",
            "- Upper passband edge: 0.70 Hz\n",
            "- Upper transition bandwidth: 0.20 Hz (-6 dB cutoff frequency: 0.80 Hz)\n",
            "- Filter length: 1651 samples (165.100 sec)\n"
          ]
        },
        {
          "output_type": "stream",
          "name": "stderr",
          "text": [
            "<ipython-input-10-4df4296734cb>:18: RuntimeWarning: Negative intensities encountered. Setting to abs(x)\n",
            "  raw_od = mne.preprocessing.nirs.optical_density(raw_intensity)\n"
          ]
        },
        {
          "output_type": "stream",
          "name": "stdout",
          "text": [
            "\n",
            "('/content/33_run1.snirf',)\n",
            "Used Annotations descriptions: ['Async1', 'Async2', 'Async3', 'Async4', 'Async5', 'Async6', 'Async7', 'Async8', 'Sync1', 'Sync2', 'Sync3', 'Sync4', 'Sync5', 'Sync6', 'Sync7', 'Sync8', 'controle1', 'controle2', 'controle3', 'controle4', 'controle5', 'controle6', 'controle7', 'controle8']\n",
            "Not setting metadata\n",
            "24 matching events found\n",
            "Setting baseline interval to [-5.0, 0.0] sec\n",
            "Applying baseline correction (mode: mean)\n",
            "0 projection items activated\n",
            "Using data from preloaded Raw for 24 events and 201 original time points ...\n",
            "0 bad epochs dropped\n",
            "Loading /content/1_run1.snirf\n"
          ]
        },
        {
          "output_type": "stream",
          "name": "stderr",
          "text": [
            "[Parallel(n_jobs=1)]: Using backend SequentialBackend with 1 concurrent workers.\n",
            "[Parallel(n_jobs=1)]: Done   1 out of   1 | elapsed:    0.0s remaining:    0.0s\n",
            "[Parallel(n_jobs=1)]: Done   2 out of   2 | elapsed:    0.0s remaining:    0.0s\n",
            "[Parallel(n_jobs=1)]: Done   3 out of   3 | elapsed:    0.0s remaining:    0.0s\n",
            "[Parallel(n_jobs=1)]: Done   4 out of   4 | elapsed:    0.0s remaining:    0.0s\n",
            "[Parallel(n_jobs=1)]: Done  48 out of  48 | elapsed:    0.1s finished\n"
          ]
        },
        {
          "output_type": "stream",
          "name": "stdout",
          "text": [
            "Reading 0 ... 10840  =      0.000 ...  1084.000 secs...\n",
            "Filtering raw data in 1 contiguous segment\n",
            "Setting up band-pass filter from 0.05 - 0.7 Hz\n",
            "\n",
            "FIR filter parameters\n",
            "---------------------\n",
            "Designing a one-pass, zero-phase, non-causal bandpass filter:\n",
            "- Windowed time-domain design (firwin) method\n",
            "- Hamming window with 0.0194 passband ripple and 53 dB stopband attenuation\n",
            "- Lower passband edge: 0.05\n",
            "- Lower transition bandwidth: 0.02 Hz (-6 dB cutoff frequency: 0.04 Hz)\n",
            "- Upper passband edge: 0.70 Hz\n",
            "- Upper transition bandwidth: 0.20 Hz (-6 dB cutoff frequency: 0.80 Hz)\n",
            "- Filter length: 1651 samples (165.100 sec)\n",
            "\n"
          ]
        },
        {
          "output_type": "stream",
          "name": "stderr",
          "text": [
            "<ipython-input-10-4df4296734cb>:18: RuntimeWarning: Negative intensities encountered. Setting to abs(x)\n",
            "  raw_od = mne.preprocessing.nirs.optical_density(raw_intensity)\n",
            "[Parallel(n_jobs=1)]: Using backend SequentialBackend with 1 concurrent workers.\n",
            "[Parallel(n_jobs=1)]: Done   1 out of   1 | elapsed:    0.0s remaining:    0.0s\n",
            "[Parallel(n_jobs=1)]: Done   2 out of   2 | elapsed:    0.0s remaining:    0.0s\n",
            "[Parallel(n_jobs=1)]: Done   3 out of   3 | elapsed:    0.0s remaining:    0.0s\n",
            "[Parallel(n_jobs=1)]: Done   4 out of   4 | elapsed:    0.0s remaining:    0.0s\n"
          ]
        },
        {
          "output_type": "stream",
          "name": "stdout",
          "text": [
            "('/content/1_run1.snirf',)\n",
            "Used Annotations descriptions: ['1']\n",
            "Not setting metadata\n",
            "1 matching events found\n",
            "Setting baseline interval to [-5.0, 0.0] sec\n",
            "Applying baseline correction (mode: mean)\n",
            "0 projection items activated\n",
            "Using data from preloaded Raw for 1 events and 201 original time points ...\n",
            "1 bad epochs dropped\n",
            "Loading /content/13_run1.snirf\n"
          ]
        },
        {
          "output_type": "stream",
          "name": "stderr",
          "text": [
            "[Parallel(n_jobs=1)]: Done  48 out of  48 | elapsed:    0.1s finished\n"
          ]
        },
        {
          "output_type": "stream",
          "name": "stdout",
          "text": [
            "Reading 0 ... 21725  =      0.000 ...  2172.500 secs...\n",
            "Filtering raw data in 1 contiguous segment\n",
            "Setting up band-pass filter from 0.05 - 0.7 Hz\n",
            "\n",
            "FIR filter parameters\n",
            "---------------------\n",
            "Designing a one-pass, zero-phase, non-causal bandpass filter:\n",
            "- Windowed time-domain design (firwin) method\n",
            "- Hamming window with 0.0194 passband ripple and 53 dB stopband attenuation\n",
            "- Lower passband edge: 0.05\n",
            "- Lower transition bandwidth: 0.02 Hz (-6 dB cutoff frequency: 0.04 Hz)\n",
            "- Upper passband edge: 0.70 Hz\n",
            "- Upper transition bandwidth: 0.20 Hz (-6 dB cutoff frequency: 0.80 Hz)\n",
            "- Filter length: 1651 samples (165.100 sec)\n",
            "\n"
          ]
        },
        {
          "output_type": "stream",
          "name": "stderr",
          "text": [
            "<ipython-input-10-4df4296734cb>:18: RuntimeWarning: Negative intensities encountered. Setting to abs(x)\n",
            "  raw_od = mne.preprocessing.nirs.optical_density(raw_intensity)\n"
          ]
        },
        {
          "output_type": "stream",
          "name": "stdout",
          "text": [
            "('/content/13_run1.snirf',)\n",
            "Used Annotations descriptions: ['Async1', 'Async2', 'Async3', 'Async4', 'Async5', 'Async6', 'Async7', 'Async8', 'Sync1', 'Sync2', 'Sync3', 'Sync4', 'Sync5', 'Sync6', 'Sync7', 'Sync8', 'controle1', 'controle2', 'controle3', 'controle4', 'controle5', 'controle6', 'controle7', 'controle8']\n",
            "Not setting metadata\n",
            "24 matching events found\n",
            "Setting baseline interval to [-5.0, 0.0] sec\n",
            "Applying baseline correction (mode: mean)\n",
            "0 projection items activated\n",
            "Using data from preloaded Raw for 24 events and 201 original time points ...\n",
            "0 bad epochs dropped\n",
            "Loading /content/23_run1.snirf\n"
          ]
        },
        {
          "output_type": "stream",
          "name": "stderr",
          "text": [
            "[Parallel(n_jobs=1)]: Using backend SequentialBackend with 1 concurrent workers.\n",
            "[Parallel(n_jobs=1)]: Done   1 out of   1 | elapsed:    0.0s remaining:    0.0s\n",
            "[Parallel(n_jobs=1)]: Done   2 out of   2 | elapsed:    0.0s remaining:    0.0s\n",
            "[Parallel(n_jobs=1)]: Done   3 out of   3 | elapsed:    0.0s remaining:    0.0s\n",
            "[Parallel(n_jobs=1)]: Done   4 out of   4 | elapsed:    0.0s remaining:    0.0s\n",
            "[Parallel(n_jobs=1)]: Done  48 out of  48 | elapsed:    0.1s finished\n"
          ]
        },
        {
          "output_type": "stream",
          "name": "stdout",
          "text": [
            "Reading 0 ... 21870  =      0.000 ...  2187.000 secs...\n",
            "Filtering raw data in 1 contiguous segment\n",
            "Setting up band-pass filter from 0.05 - 0.7 Hz\n",
            "\n",
            "FIR filter parameters\n",
            "---------------------\n",
            "Designing a one-pass, zero-phase, non-causal bandpass filter:\n",
            "- Windowed time-domain design (firwin) method\n",
            "- Hamming window with 0.0194 passband ripple and 53 dB stopband attenuation\n",
            "- Lower passband edge: 0.05\n",
            "- Lower transition bandwidth: 0.02 Hz (-6 dB cutoff frequency: 0.04 Hz)\n",
            "- Upper passband edge: 0.70 Hz\n",
            "- Upper transition bandwidth: 0.20 Hz (-6 dB cutoff frequency: 0.80 Hz)\n",
            "- Filter length: 1651 samples (165.100 sec)\n",
            "\n"
          ]
        },
        {
          "output_type": "stream",
          "name": "stderr",
          "text": [
            "<ipython-input-10-4df4296734cb>:18: RuntimeWarning: Negative intensities encountered. Setting to abs(x)\n",
            "  raw_od = mne.preprocessing.nirs.optical_density(raw_intensity)\n",
            "[Parallel(n_jobs=1)]: Using backend SequentialBackend with 1 concurrent workers.\n",
            "[Parallel(n_jobs=1)]: Done   1 out of   1 | elapsed:    0.0s remaining:    0.0s\n",
            "[Parallel(n_jobs=1)]: Done   2 out of   2 | elapsed:    0.0s remaining:    0.0s\n",
            "[Parallel(n_jobs=1)]: Done   3 out of   3 | elapsed:    0.0s remaining:    0.0s\n",
            "[Parallel(n_jobs=1)]: Done   4 out of   4 | elapsed:    0.0s remaining:    0.0s\n"
          ]
        },
        {
          "output_type": "stream",
          "name": "stdout",
          "text": [
            "('/content/23_run1.snirf',)\n",
            "Used Annotations descriptions: ['Async1', 'Async2', 'Async3', 'Async4', 'Async5', 'Async6', 'Async7', 'Async8', 'Sync1', 'Sync2', 'Sync3', 'Sync4', 'Sync5', 'Sync6', 'Sync7', 'Sync8', 'controle1', 'controle2', 'controle3', 'controle4', 'controle5', 'controle6', 'controle7', 'controle8']\n",
            "Not setting metadata\n",
            "24 matching events found\n",
            "Setting baseline interval to [-5.0, 0.0] sec\n",
            "Applying baseline correction (mode: mean)\n",
            "0 projection items activated\n",
            "Using data from preloaded Raw for 24 events and 201 original time points ...\n",
            "0 bad epochs dropped\n",
            "Loading /content/27_run1.snirf\n"
          ]
        },
        {
          "output_type": "stream",
          "name": "stderr",
          "text": [
            "[Parallel(n_jobs=1)]: Done  48 out of  48 | elapsed:    0.1s finished\n"
          ]
        },
        {
          "output_type": "stream",
          "name": "stdout",
          "text": [
            "Reading 0 ... 21604  =      0.000 ...  2160.400 secs...\n",
            "Filtering raw data in 1 contiguous segment\n",
            "Setting up band-pass filter from 0.05 - 0.7 Hz\n",
            "\n",
            "FIR filter parameters\n",
            "---------------------\n",
            "Designing a one-pass, zero-phase, non-causal bandpass filter:\n",
            "- Windowed time-domain design (firwin) method\n",
            "- Hamming window with 0.0194 passband ripple and 53 dB stopband attenuation\n",
            "- Lower passband edge: 0.05\n",
            "- Lower transition bandwidth: 0.02 Hz (-6 dB cutoff frequency: 0.04 Hz)\n",
            "- Upper passband edge: 0.70 Hz\n",
            "- Upper transition bandwidth: 0.20 Hz (-6 dB cutoff frequency: 0.80 Hz)\n",
            "- Filter length: 1651 samples (165.100 sec)\n",
            "\n"
          ]
        },
        {
          "output_type": "stream",
          "name": "stderr",
          "text": [
            "<ipython-input-10-4df4296734cb>:18: RuntimeWarning: Negative intensities encountered. Setting to abs(x)\n",
            "  raw_od = mne.preprocessing.nirs.optical_density(raw_intensity)\n",
            "[Parallel(n_jobs=1)]: Using backend SequentialBackend with 1 concurrent workers.\n",
            "[Parallel(n_jobs=1)]: Done   1 out of   1 | elapsed:    0.0s remaining:    0.0s\n",
            "[Parallel(n_jobs=1)]: Done   2 out of   2 | elapsed:    0.0s remaining:    0.0s\n",
            "[Parallel(n_jobs=1)]: Done   3 out of   3 | elapsed:    0.0s remaining:    0.0s\n",
            "[Parallel(n_jobs=1)]: Done   4 out of   4 | elapsed:    0.0s remaining:    0.0s\n"
          ]
        },
        {
          "output_type": "stream",
          "name": "stdout",
          "text": [
            "('/content/27_run1.snirf',)\n",
            "Used Annotations descriptions: ['Async1', 'Async2', 'Async3', 'Async4', 'Async5', 'Async6', 'Async7', 'Async8', 'Sync1', 'Sync2', 'Sync3', 'Sync4', 'Sync5', 'Sync6', 'Sync7', 'Sync8', 'controle1', 'controle2', 'controle3', 'controle4', 'controle5', 'controle6', 'controle7', 'controle8']\n",
            "Not setting metadata\n",
            "24 matching events found\n",
            "Setting baseline interval to [-5.0, 0.0] sec\n",
            "Applying baseline correction (mode: mean)\n",
            "0 projection items activated\n",
            "Using data from preloaded Raw for 24 events and 201 original time points ...\n",
            "0 bad epochs dropped\n",
            "Loading /content/14_run1.snirf\n"
          ]
        },
        {
          "output_type": "stream",
          "name": "stderr",
          "text": [
            "[Parallel(n_jobs=1)]: Done  48 out of  48 | elapsed:    0.2s finished\n"
          ]
        },
        {
          "output_type": "stream",
          "name": "stdout",
          "text": [
            "Reading 0 ... 21529  =      0.000 ...  2152.900 secs...\n",
            "Filtering raw data in 1 contiguous segment\n",
            "Setting up band-pass filter from 0.05 - 0.7 Hz\n",
            "\n",
            "FIR filter parameters\n",
            "---------------------\n",
            "Designing a one-pass, zero-phase, non-causal bandpass filter:\n",
            "- Windowed time-domain design (firwin) method\n",
            "- Hamming window with 0.0194 passband ripple and 53 dB stopband attenuation\n",
            "- Lower passband edge: 0.05\n",
            "- Lower transition bandwidth: 0.02 Hz (-6 dB cutoff frequency: 0.04 Hz)\n",
            "- Upper passband edge: 0.70 Hz\n",
            "- Upper transition bandwidth: 0.20 Hz (-6 dB cutoff frequency: 0.80 Hz)\n",
            "- Filter length: 1651 samples (165.100 sec)\n",
            "\n"
          ]
        },
        {
          "output_type": "stream",
          "name": "stderr",
          "text": [
            "<ipython-input-10-4df4296734cb>:18: RuntimeWarning: Negative intensities encountered. Setting to abs(x)\n",
            "  raw_od = mne.preprocessing.nirs.optical_density(raw_intensity)\n",
            "[Parallel(n_jobs=1)]: Using backend SequentialBackend with 1 concurrent workers.\n",
            "[Parallel(n_jobs=1)]: Done   1 out of   1 | elapsed:    0.0s remaining:    0.0s\n",
            "[Parallel(n_jobs=1)]: Done   2 out of   2 | elapsed:    0.0s remaining:    0.0s\n",
            "[Parallel(n_jobs=1)]: Done   3 out of   3 | elapsed:    0.0s remaining:    0.0s\n",
            "[Parallel(n_jobs=1)]: Done   4 out of   4 | elapsed:    0.0s remaining:    0.0s\n"
          ]
        },
        {
          "output_type": "stream",
          "name": "stdout",
          "text": [
            "('/content/14_run1.snirf',)\n",
            "Used Annotations descriptions: ['Async1', 'Async2', 'Async3', 'Async4', 'Async5', 'Async6', 'Async7', 'Async8', 'Sync1', 'Sync2', 'Sync3', 'Sync4', 'Sync5', 'Sync6', 'Sync7', 'Sync8', 'controle1', 'controle2', 'controle3', 'controle4', 'controle5', 'controle6', 'controle7', 'controle8']\n",
            "Not setting metadata\n",
            "24 matching events found\n",
            "Setting baseline interval to [-5.0, 0.0] sec\n",
            "Applying baseline correction (mode: mean)\n",
            "0 projection items activated\n",
            "Using data from preloaded Raw for 24 events and 201 original time points ...\n",
            "0 bad epochs dropped\n",
            "Loading /content/34_run1.snirf\n"
          ]
        },
        {
          "output_type": "stream",
          "name": "stderr",
          "text": [
            "[Parallel(n_jobs=1)]: Done  48 out of  48 | elapsed:    0.1s finished\n"
          ]
        },
        {
          "output_type": "stream",
          "name": "stdout",
          "text": [
            "Reading 0 ... 21600  =      0.000 ...  2160.000 secs...\n",
            "Filtering raw data in 1 contiguous segment\n",
            "Setting up band-pass filter from 0.05 - 0.7 Hz\n",
            "\n",
            "FIR filter parameters\n",
            "---------------------\n",
            "Designing a one-pass, zero-phase, non-causal bandpass filter:\n",
            "- Windowed time-domain design (firwin) method\n",
            "- Hamming window with 0.0194 passband ripple and 53 dB stopband attenuation\n",
            "- Lower passband edge: 0.05\n",
            "- Lower transition bandwidth: 0.02 Hz (-6 dB cutoff frequency: 0.04 Hz)\n",
            "- Upper passband edge: 0.70 Hz\n",
            "- Upper transition bandwidth: 0.20 Hz (-6 dB cutoff frequency: 0.80 Hz)\n",
            "- Filter length: 1651 samples (165.100 sec)\n",
            "\n"
          ]
        },
        {
          "output_type": "stream",
          "name": "stderr",
          "text": [
            "<ipython-input-10-4df4296734cb>:18: RuntimeWarning: Negative intensities encountered. Setting to abs(x)\n",
            "  raw_od = mne.preprocessing.nirs.optical_density(raw_intensity)\n",
            "[Parallel(n_jobs=1)]: Using backend SequentialBackend with 1 concurrent workers.\n",
            "[Parallel(n_jobs=1)]: Done   1 out of   1 | elapsed:    0.0s remaining:    0.0s\n",
            "[Parallel(n_jobs=1)]: Done   2 out of   2 | elapsed:    0.0s remaining:    0.0s\n",
            "[Parallel(n_jobs=1)]: Done   3 out of   3 | elapsed:    0.0s remaining:    0.0s\n",
            "[Parallel(n_jobs=1)]: Done   4 out of   4 | elapsed:    0.0s remaining:    0.0s\n"
          ]
        },
        {
          "output_type": "stream",
          "name": "stdout",
          "text": [
            "('/content/34_run1.snirf',)\n",
            "Used Annotations descriptions: ['Async1', 'Async2', 'Async3', 'Async4', 'Async5', 'Async6', 'Async7', 'Async8', 'Sync1', 'Sync2', 'Sync3', 'Sync4', 'Sync5', 'Sync6', 'Sync7', 'Sync8', 'controle1', 'controle2', 'controle3', 'controle4', 'controle5', 'controle6', 'controle7', 'controle8']\n",
            "Not setting metadata\n",
            "24 matching events found\n",
            "Setting baseline interval to [-5.0, 0.0] sec\n",
            "Applying baseline correction (mode: mean)\n",
            "0 projection items activated\n",
            "Using data from preloaded Raw for 24 events and 201 original time points ...\n",
            "0 bad epochs dropped\n",
            "Loading /content/16_run1.snirf\n"
          ]
        },
        {
          "output_type": "stream",
          "name": "stderr",
          "text": [
            "[Parallel(n_jobs=1)]: Done  48 out of  48 | elapsed:    0.1s finished\n"
          ]
        },
        {
          "output_type": "stream",
          "name": "stdout",
          "text": [
            "Reading 0 ... 21662  =      0.000 ...  2166.200 secs...\n",
            "Filtering raw data in 1 contiguous segment\n",
            "Setting up band-pass filter from 0.05 - 0.7 Hz\n",
            "\n",
            "FIR filter parameters\n",
            "---------------------\n",
            "Designing a one-pass, zero-phase, non-causal bandpass filter:\n",
            "- Windowed time-domain design (firwin) method\n",
            "- Hamming window with 0.0194 passband ripple and 53 dB stopband attenuation\n",
            "- Lower passband edge: 0.05\n",
            "- Lower transition bandwidth: 0.02 Hz (-6 dB cutoff frequency: 0.04 Hz)\n",
            "- Upper passband edge: 0.70 Hz\n",
            "- Upper transition bandwidth: 0.20 Hz (-6 dB cutoff frequency: 0.80 Hz)\n",
            "- Filter length: 1651 samples (165.100 sec)\n",
            "\n"
          ]
        },
        {
          "output_type": "stream",
          "name": "stderr",
          "text": [
            "<ipython-input-10-4df4296734cb>:18: RuntimeWarning: Negative intensities encountered. Setting to abs(x)\n",
            "  raw_od = mne.preprocessing.nirs.optical_density(raw_intensity)\n",
            "[Parallel(n_jobs=1)]: Using backend SequentialBackend with 1 concurrent workers.\n",
            "[Parallel(n_jobs=1)]: Done   1 out of   1 | elapsed:    0.0s remaining:    0.0s\n",
            "[Parallel(n_jobs=1)]: Done   2 out of   2 | elapsed:    0.0s remaining:    0.0s\n",
            "[Parallel(n_jobs=1)]: Done   3 out of   3 | elapsed:    0.0s remaining:    0.0s\n",
            "[Parallel(n_jobs=1)]: Done   4 out of   4 | elapsed:    0.0s remaining:    0.0s\n"
          ]
        },
        {
          "output_type": "stream",
          "name": "stdout",
          "text": [
            "('/content/16_run1.snirf',)\n",
            "Used Annotations descriptions: ['Async1', 'Async2', 'Async3', 'Async4', 'Async5', 'Async6', 'Async7', 'Async8', 'Sync1', 'Sync2', 'Sync3', 'Sync4', 'Sync5', 'Sync6', 'Sync7', 'Sync8', 'controle1', 'controle2', 'controle3', 'controle4', 'controle5', 'controle6', 'controle7', 'controle8']\n",
            "Not setting metadata\n",
            "24 matching events found\n",
            "Setting baseline interval to [-5.0, 0.0] sec\n",
            "Applying baseline correction (mode: mean)\n",
            "0 projection items activated\n",
            "Using data from preloaded Raw for 24 events and 201 original time points ...\n",
            "0 bad epochs dropped\n",
            "Loading /content/29_run1.snirf\n"
          ]
        },
        {
          "output_type": "stream",
          "name": "stderr",
          "text": [
            "[Parallel(n_jobs=1)]: Done  48 out of  48 | elapsed:    0.1s finished\n"
          ]
        },
        {
          "output_type": "stream",
          "name": "stdout",
          "text": [
            "Reading 0 ... 21900  =      0.000 ...  2190.000 secs...\n"
          ]
        },
        {
          "output_type": "stream",
          "name": "stderr",
          "text": [
            "<ipython-input-10-4df4296734cb>:18: RuntimeWarning: Negative intensities encountered. Setting to abs(x)\n",
            "  raw_od = mne.preprocessing.nirs.optical_density(raw_intensity)\n"
          ]
        },
        {
          "output_type": "stream",
          "name": "stdout",
          "text": [
            "Filtering raw data in 1 contiguous segment\n",
            "Setting up band-pass filter from 0.05 - 0.7 Hz\n",
            "\n",
            "FIR filter parameters\n",
            "---------------------\n",
            "Designing a one-pass, zero-phase, non-causal bandpass filter:\n",
            "- Windowed time-domain design (firwin) method\n",
            "- Hamming window with 0.0194 passband ripple and 53 dB stopband attenuation\n",
            "- Lower passband edge: 0.05\n",
            "- Lower transition bandwidth: 0.02 Hz (-6 dB cutoff frequency: 0.04 Hz)\n",
            "- Upper passband edge: 0.70 Hz\n",
            "- Upper transition bandwidth: 0.20 Hz (-6 dB cutoff frequency: 0.80 Hz)\n",
            "- Filter length: 1651 samples (165.100 sec)\n",
            "\n"
          ]
        },
        {
          "output_type": "stream",
          "name": "stderr",
          "text": [
            "[Parallel(n_jobs=1)]: Using backend SequentialBackend with 1 concurrent workers.\n",
            "[Parallel(n_jobs=1)]: Done   1 out of   1 | elapsed:    0.0s remaining:    0.0s\n",
            "[Parallel(n_jobs=1)]: Done   2 out of   2 | elapsed:    0.0s remaining:    0.0s\n",
            "[Parallel(n_jobs=1)]: Done   3 out of   3 | elapsed:    0.0s remaining:    0.0s\n",
            "[Parallel(n_jobs=1)]: Done   4 out of   4 | elapsed:    0.0s remaining:    0.0s\n"
          ]
        },
        {
          "output_type": "stream",
          "name": "stdout",
          "text": [
            "('/content/29_run1.snirf',)\n",
            "Used Annotations descriptions: ['Async1', 'Async2', 'Async3', 'Async4', 'Async5', 'Async6', 'Async7', 'Async8', 'Sync1', 'Sync2', 'Sync3', 'Sync4', 'Sync5', 'Sync6', 'Sync7', 'Sync8', 'controle1', 'controle2', 'controle3', 'controle4', 'controle5', 'controle6', 'controle7', 'controle8']\n",
            "Not setting metadata\n",
            "24 matching events found\n",
            "Setting baseline interval to [-5.0, 0.0] sec\n",
            "Applying baseline correction (mode: mean)\n",
            "0 projection items activated\n",
            "Using data from preloaded Raw for 24 events and 201 original time points ...\n",
            "0 bad epochs dropped\n",
            "Loading /content/15_run1.snirf\n"
          ]
        },
        {
          "output_type": "stream",
          "name": "stderr",
          "text": [
            "[Parallel(n_jobs=1)]: Done  48 out of  48 | elapsed:    0.3s finished\n"
          ]
        },
        {
          "output_type": "stream",
          "name": "stdout",
          "text": [
            "Reading 0 ... 21674  =      0.000 ...  2167.400 secs...\n",
            "Filtering raw data in 1 contiguous segment\n",
            "Setting up band-pass filter from 0.05 - 0.7 Hz\n",
            "\n",
            "FIR filter parameters\n",
            "---------------------\n",
            "Designing a one-pass, zero-phase, non-causal bandpass filter:\n",
            "- Windowed time-domain design (firwin) method\n",
            "- Hamming window with 0.0194 passband ripple and 53 dB stopband attenuation\n",
            "- Lower passband edge: 0.05\n",
            "- Lower transition bandwidth: 0.02 Hz (-6 dB cutoff frequency: 0.04 Hz)\n",
            "- Upper passband edge: 0.70 Hz\n",
            "- Upper transition bandwidth: 0.20 Hz (-6 dB cutoff frequency: 0.80 Hz)\n",
            "- Filter length: 1651 samples (165.100 sec)\n",
            "\n"
          ]
        },
        {
          "output_type": "stream",
          "name": "stderr",
          "text": [
            "<ipython-input-10-4df4296734cb>:18: RuntimeWarning: Negative intensities encountered. Setting to abs(x)\n",
            "  raw_od = mne.preprocessing.nirs.optical_density(raw_intensity)\n",
            "[Parallel(n_jobs=1)]: Using backend SequentialBackend with 1 concurrent workers.\n",
            "[Parallel(n_jobs=1)]: Done   1 out of   1 | elapsed:    0.0s remaining:    0.0s\n",
            "[Parallel(n_jobs=1)]: Done   2 out of   2 | elapsed:    0.0s remaining:    0.0s\n",
            "[Parallel(n_jobs=1)]: Done   3 out of   3 | elapsed:    0.0s remaining:    0.0s\n",
            "[Parallel(n_jobs=1)]: Done   4 out of   4 | elapsed:    0.0s remaining:    0.0s\n"
          ]
        },
        {
          "output_type": "stream",
          "name": "stdout",
          "text": [
            "('/content/15_run1.snirf',)\n",
            "Used Annotations descriptions: ['Async1', 'Async2', 'Async3', 'Async4', 'Async5', 'Async6', 'Async7', 'Async8', 'Sync1', 'Sync2', 'Sync3', 'Sync4', 'Sync5', 'Sync6', 'Sync7', 'Sync8', 'controle1', 'controle2', 'controle3', 'controle4', 'controle5', 'controle6', 'controle7', 'controle8']\n",
            "Not setting metadata\n",
            "24 matching events found\n",
            "Setting baseline interval to [-5.0, 0.0] sec\n",
            "Applying baseline correction (mode: mean)\n",
            "0 projection items activated\n",
            "Using data from preloaded Raw for 24 events and 201 original time points ...\n",
            "0 bad epochs dropped\n",
            "Loading /content/2_run1.snirf\n"
          ]
        },
        {
          "output_type": "stream",
          "name": "stderr",
          "text": [
            "[Parallel(n_jobs=1)]: Done  48 out of  48 | elapsed:    0.1s finished\n"
          ]
        },
        {
          "output_type": "stream",
          "name": "stdout",
          "text": [
            "Reading 0 ... 21866  =      0.000 ...  2186.600 secs...\n",
            "Filtering raw data in 1 contiguous segment\n",
            "Setting up band-pass filter from 0.05 - 0.7 Hz\n",
            "\n",
            "FIR filter parameters\n",
            "---------------------\n",
            "Designing a one-pass, zero-phase, non-causal bandpass filter:\n",
            "- Windowed time-domain design (firwin) method\n",
            "- Hamming window with 0.0194 passband ripple and 53 dB stopband attenuation\n",
            "- Lower passband edge: 0.05\n",
            "- Lower transition bandwidth: 0.02 Hz (-6 dB cutoff frequency: 0.04 Hz)\n",
            "- Upper passband edge: 0.70 Hz\n",
            "- Upper transition bandwidth: 0.20 Hz (-6 dB cutoff frequency: 0.80 Hz)\n",
            "- Filter length: 1651 samples (165.100 sec)\n",
            "\n"
          ]
        },
        {
          "output_type": "stream",
          "name": "stderr",
          "text": [
            "<ipython-input-10-4df4296734cb>:18: RuntimeWarning: Negative intensities encountered. Setting to abs(x)\n",
            "  raw_od = mne.preprocessing.nirs.optical_density(raw_intensity)\n"
          ]
        },
        {
          "output_type": "stream",
          "name": "stdout",
          "text": [
            "('/content/2_run1.snirf',)\n",
            "Used Annotations descriptions: ['Async1', 'Async2', 'Async3', 'Async4', 'Async5', 'Async6', 'Async7', 'Async8', 'Sync1', 'Sync2', 'Sync3', 'Sync4', 'Sync5', 'Sync6', 'Sync7', 'Sync8', 'controle1', 'controle2', 'controle3', 'controle4', 'controle5', 'controle6', 'controle7', 'controle8']\n",
            "Not setting metadata\n",
            "24 matching events found\n",
            "Setting baseline interval to [-5.0, 0.0] sec\n",
            "Applying baseline correction (mode: mean)\n",
            "0 projection items activated\n",
            "Using data from preloaded Raw for 24 events and 201 original time points ...\n"
          ]
        },
        {
          "output_type": "stream",
          "name": "stderr",
          "text": [
            "[Parallel(n_jobs=1)]: Using backend SequentialBackend with 1 concurrent workers.\n",
            "[Parallel(n_jobs=1)]: Done   1 out of   1 | elapsed:    0.0s remaining:    0.0s\n",
            "[Parallel(n_jobs=1)]: Done   2 out of   2 | elapsed:    0.0s remaining:    0.0s\n",
            "[Parallel(n_jobs=1)]: Done   3 out of   3 | elapsed:    0.0s remaining:    0.0s\n",
            "[Parallel(n_jobs=1)]: Done   4 out of   4 | elapsed:    0.0s remaining:    0.0s\n",
            "[Parallel(n_jobs=1)]: Done  48 out of  48 | elapsed:    0.1s finished\n"
          ]
        },
        {
          "output_type": "stream",
          "name": "stdout",
          "text": [
            "0 bad epochs dropped\n",
            "Loading /content/38_run1.snirf\n",
            "Reading 0 ... 21781  =      0.000 ...  2178.100 secs...\n",
            "Filtering raw data in 1 contiguous segment\n",
            "Setting up band-pass filter from 0.05 - 0.7 Hz\n",
            "\n"
          ]
        },
        {
          "output_type": "stream",
          "name": "stderr",
          "text": [
            "<ipython-input-10-4df4296734cb>:18: RuntimeWarning: Negative intensities encountered. Setting to abs(x)\n",
            "  raw_od = mne.preprocessing.nirs.optical_density(raw_intensity)\n"
          ]
        },
        {
          "output_type": "stream",
          "name": "stdout",
          "text": [
            "FIR filter parameters\n",
            "---------------------\n",
            "Designing a one-pass, zero-phase, non-causal bandpass filter:\n",
            "- Windowed time-domain design (firwin) method\n",
            "- Hamming window with 0.0194 passband ripple and 53 dB stopband attenuation\n",
            "- Lower passband edge: 0.05\n",
            "- Lower transition bandwidth: 0.02 Hz (-6 dB cutoff frequency: 0.04 Hz)\n",
            "- Upper passband edge: 0.70 Hz\n",
            "- Upper transition bandwidth: 0.20 Hz (-6 dB cutoff frequency: 0.80 Hz)\n",
            "- Filter length: 1651 samples (165.100 sec)\n",
            "\n",
            "('/content/38_run1.snirf',)\n",
            "Used Annotations descriptions: ['Async1', 'Async2', 'Async3', 'Async4', 'Async5', 'Async6', 'Async7', 'Async8', 'Sync1', 'Sync2', 'Sync3', 'Sync4', 'Sync5', 'Sync6', 'Sync7', 'Sync8', 'controle1', 'controle2', 'controle3', 'controle4', 'controle5', 'controle6', 'controle7', 'controle8']\n",
            "Not setting metadata\n",
            "24 matching events found\n",
            "Setting baseline interval to [-5.0, 0.0] sec\n",
            "Applying baseline correction (mode: mean)\n",
            "0 projection items activated\n",
            "Using data from preloaded Raw for 24 events and 201 original time points ...\n"
          ]
        },
        {
          "output_type": "stream",
          "name": "stderr",
          "text": [
            "[Parallel(n_jobs=1)]: Using backend SequentialBackend with 1 concurrent workers.\n",
            "[Parallel(n_jobs=1)]: Done   1 out of   1 | elapsed:    0.0s remaining:    0.0s\n",
            "[Parallel(n_jobs=1)]: Done   2 out of   2 | elapsed:    0.0s remaining:    0.0s\n",
            "[Parallel(n_jobs=1)]: Done   3 out of   3 | elapsed:    0.0s remaining:    0.0s\n",
            "[Parallel(n_jobs=1)]: Done   4 out of   4 | elapsed:    0.0s remaining:    0.0s\n",
            "[Parallel(n_jobs=1)]: Done  48 out of  48 | elapsed:    0.2s finished\n"
          ]
        },
        {
          "output_type": "stream",
          "name": "stdout",
          "text": [
            "0 bad epochs dropped\n",
            "Loading /content/26_run1.snirf\n",
            "Reading 0 ... 21656  =      0.000 ...  2165.600 secs...\n",
            "Filtering raw data in 1 contiguous segment\n",
            "Setting up band-pass filter from 0.05 - 0.7 Hz\n",
            "\n",
            "FIR filter parameters\n",
            "---------------------\n",
            "Designing a one-pass, zero-phase, non-causal bandpass filter:\n",
            "- Windowed time-domain design (firwin) method\n",
            "- Hamming window with 0.0194 passband ripple and 53 dB stopband attenuation\n",
            "- Lower passband edge: 0.05\n",
            "- Lower transition bandwidth: 0.02 Hz (-6 dB cutoff frequency: 0.04 Hz)\n",
            "- Upper passband edge: 0.70 Hz\n",
            "- Upper transition bandwidth: 0.20 Hz (-6 dB cutoff frequency: 0.80 Hz)\n",
            "- Filter length: 1651 samples (165.100 sec)\n",
            "\n"
          ]
        },
        {
          "output_type": "stream",
          "name": "stderr",
          "text": [
            "<ipython-input-10-4df4296734cb>:18: RuntimeWarning: Negative intensities encountered. Setting to abs(x)\n",
            "  raw_od = mne.preprocessing.nirs.optical_density(raw_intensity)\n",
            "[Parallel(n_jobs=1)]: Using backend SequentialBackend with 1 concurrent workers.\n",
            "[Parallel(n_jobs=1)]: Done   1 out of   1 | elapsed:    0.0s remaining:    0.0s\n",
            "[Parallel(n_jobs=1)]: Done   2 out of   2 | elapsed:    0.0s remaining:    0.0s\n",
            "[Parallel(n_jobs=1)]: Done   3 out of   3 | elapsed:    0.0s remaining:    0.0s\n",
            "[Parallel(n_jobs=1)]: Done   4 out of   4 | elapsed:    0.0s remaining:    0.0s\n"
          ]
        },
        {
          "output_type": "stream",
          "name": "stdout",
          "text": [
            "('/content/26_run1.snirf',)\n",
            "Used Annotations descriptions: ['Async1', 'Async2', 'Async3', 'Async4', 'Async5', 'Async6', 'Async7', 'Async8', 'Sync1', 'Sync2', 'Sync3', 'Sync4', 'Sync5', 'Sync6', 'Sync7', 'Sync8', 'controle1', 'controle2', 'controle3', 'controle4', 'controle5', 'controle6', 'controle7', 'controle8']\n",
            "Not setting metadata\n",
            "24 matching events found\n",
            "Setting baseline interval to [-5.0, 0.0] sec\n",
            "Applying baseline correction (mode: mean)\n",
            "0 projection items activated\n",
            "Using data from preloaded Raw for 24 events and 201 original time points ...\n",
            "0 bad epochs dropped\n",
            "Loading /content/5_run1.snirf\n"
          ]
        },
        {
          "output_type": "stream",
          "name": "stderr",
          "text": [
            "[Parallel(n_jobs=1)]: Done  48 out of  48 | elapsed:    0.1s finished\n"
          ]
        },
        {
          "output_type": "stream",
          "name": "stdout",
          "text": [
            "Reading 0 ... 21900  =      0.000 ...  2190.000 secs...\n",
            "Filtering raw data in 1 contiguous segment\n",
            "Setting up band-pass filter from 0.05 - 0.7 Hz\n",
            "\n",
            "FIR filter parameters\n",
            "---------------------\n",
            "Designing a one-pass, zero-phase, non-causal bandpass filter:\n",
            "- Windowed time-domain design (firwin) method\n",
            "- Hamming window with 0.0194 passband ripple and 53 dB stopband attenuation\n",
            "- Lower passband edge: 0.05\n",
            "- Lower transition bandwidth: 0.02 Hz (-6 dB cutoff frequency: 0.04 Hz)\n",
            "- Upper passband edge: 0.70 Hz\n",
            "- Upper transition bandwidth: 0.20 Hz (-6 dB cutoff frequency: 0.80 Hz)\n",
            "- Filter length: 1651 samples (165.100 sec)\n",
            "\n"
          ]
        },
        {
          "output_type": "stream",
          "name": "stderr",
          "text": [
            "<ipython-input-10-4df4296734cb>:18: RuntimeWarning: Negative intensities encountered. Setting to abs(x)\n",
            "  raw_od = mne.preprocessing.nirs.optical_density(raw_intensity)\n",
            "[Parallel(n_jobs=1)]: Using backend SequentialBackend with 1 concurrent workers.\n",
            "[Parallel(n_jobs=1)]: Done   1 out of   1 | elapsed:    0.0s remaining:    0.0s\n",
            "[Parallel(n_jobs=1)]: Done   2 out of   2 | elapsed:    0.0s remaining:    0.0s\n",
            "[Parallel(n_jobs=1)]: Done   3 out of   3 | elapsed:    0.0s remaining:    0.0s\n",
            "[Parallel(n_jobs=1)]: Done   4 out of   4 | elapsed:    0.0s remaining:    0.0s\n"
          ]
        },
        {
          "output_type": "stream",
          "name": "stdout",
          "text": [
            "('/content/5_run1.snirf',)\n",
            "Used Annotations descriptions: ['Async1', 'Async2', 'Async3', 'Async4', 'Async5', 'Async6', 'Async7', 'Async8', 'Sync1', 'Sync2', 'Sync3', 'Sync4', 'Sync5', 'Sync6', 'Sync7', 'Sync8', 'controle1', 'controle2', 'controle3', 'controle4', 'controle5', 'controle6', 'controle7', 'controle8']\n",
            "Not setting metadata\n",
            "24 matching events found\n",
            "Setting baseline interval to [-5.0, 0.0] sec\n",
            "Applying baseline correction (mode: mean)\n",
            "0 projection items activated\n",
            "Using data from preloaded Raw for 24 events and 201 original time points ...\n",
            "0 bad epochs dropped\n",
            "Loading /content/10_run1.snirf\n"
          ]
        },
        {
          "output_type": "stream",
          "name": "stderr",
          "text": [
            "[Parallel(n_jobs=1)]: Done  48 out of  48 | elapsed:    0.3s finished\n"
          ]
        },
        {
          "output_type": "stream",
          "name": "stdout",
          "text": [
            "Reading 0 ... 21652  =      0.000 ...  2165.200 secs...\n",
            "Filtering raw data in 1 contiguous segment\n",
            "Setting up band-pass filter from 0.05 - 0.7 Hz\n",
            "\n",
            "FIR filter parameters\n",
            "---------------------\n",
            "Designing a one-pass, zero-phase, non-causal bandpass filter:\n",
            "- Windowed time-domain design (firwin) method\n",
            "- Hamming window with 0.0194 passband ripple and 53 dB stopband attenuation\n",
            "- Lower passband edge: 0.05\n",
            "- Lower transition bandwidth: 0.02 Hz (-6 dB cutoff frequency: 0.04 Hz)\n",
            "- Upper passband edge: 0.70 Hz\n",
            "- Upper transition bandwidth: 0.20 Hz (-6 dB cutoff frequency: 0.80 Hz)\n",
            "- Filter length: 1651 samples (165.100 sec)\n",
            "\n"
          ]
        },
        {
          "output_type": "stream",
          "name": "stderr",
          "text": [
            "<ipython-input-10-4df4296734cb>:18: RuntimeWarning: Negative intensities encountered. Setting to abs(x)\n",
            "  raw_od = mne.preprocessing.nirs.optical_density(raw_intensity)\n"
          ]
        },
        {
          "output_type": "stream",
          "name": "stdout",
          "text": [
            "('/content/10_run1.snirf',)\n",
            "Used Annotations descriptions: ['Async1', 'Async2', 'Async3', 'Async4', 'Async5', 'Async6', 'Async7', 'Async8', 'Sync1', 'Sync2', 'Sync3', 'Sync4', 'Sync5', 'Sync6', 'Sync7', 'Sync8', 'controle1', 'controle2', 'controle3', 'controle4', 'controle5', 'controle6', 'controle7', 'controle8']\n",
            "Not setting metadata\n",
            "24 matching events found\n",
            "Setting baseline interval to [-5.0, 0.0] sec\n",
            "Applying baseline correction (mode: mean)\n",
            "0 projection items activated\n",
            "Using data from preloaded Raw for 24 events and 201 original time points ...\n"
          ]
        },
        {
          "output_type": "stream",
          "name": "stderr",
          "text": [
            "[Parallel(n_jobs=1)]: Using backend SequentialBackend with 1 concurrent workers.\n",
            "[Parallel(n_jobs=1)]: Done   1 out of   1 | elapsed:    0.0s remaining:    0.0s\n",
            "[Parallel(n_jobs=1)]: Done   2 out of   2 | elapsed:    0.0s remaining:    0.0s\n",
            "[Parallel(n_jobs=1)]: Done   3 out of   3 | elapsed:    0.0s remaining:    0.0s\n",
            "[Parallel(n_jobs=1)]: Done   4 out of   4 | elapsed:    0.0s remaining:    0.0s\n",
            "[Parallel(n_jobs=1)]: Done  48 out of  48 | elapsed:    0.1s finished\n"
          ]
        },
        {
          "output_type": "stream",
          "name": "stdout",
          "text": [
            "0 bad epochs dropped\n",
            "Loading /content/31_run1.snirf\n",
            "Reading 0 ... 21809  =      0.000 ...  2180.900 secs...\n",
            "Filtering raw data in 1 contiguous segment\n",
            "Setting up band-pass filter from 0.05 - 0.7 Hz\n",
            "\n",
            "FIR filter parameters\n",
            "---------------------\n",
            "Designing a one-pass, zero-phase, non-causal bandpass filter:\n",
            "- Windowed time-domain design (firwin) method\n",
            "- Hamming window with 0.0194 passband ripple and 53 dB stopband attenuation\n",
            "- Lower passband edge: 0.05\n",
            "- Lower transition bandwidth: 0.02 Hz (-6 dB cutoff frequency: 0.04 Hz)\n",
            "- Upper passband edge: 0.70 Hz\n",
            "- Upper transition bandwidth: 0.20 Hz (-6 dB cutoff frequency: 0.80 Hz)\n",
            "- Filter length: 1651 samples (165.100 sec)\n",
            "\n"
          ]
        },
        {
          "output_type": "stream",
          "name": "stderr",
          "text": [
            "<ipython-input-10-4df4296734cb>:18: RuntimeWarning: Negative intensities encountered. Setting to abs(x)\n",
            "  raw_od = mne.preprocessing.nirs.optical_density(raw_intensity)\n",
            "[Parallel(n_jobs=1)]: Using backend SequentialBackend with 1 concurrent workers.\n",
            "[Parallel(n_jobs=1)]: Done   1 out of   1 | elapsed:    0.0s remaining:    0.0s\n",
            "[Parallel(n_jobs=1)]: Done   2 out of   2 | elapsed:    0.0s remaining:    0.0s\n",
            "[Parallel(n_jobs=1)]: Done   3 out of   3 | elapsed:    0.0s remaining:    0.0s\n",
            "[Parallel(n_jobs=1)]: Done   4 out of   4 | elapsed:    0.0s remaining:    0.0s\n"
          ]
        },
        {
          "output_type": "stream",
          "name": "stdout",
          "text": [
            "('/content/31_run1.snirf',)\n",
            "Used Annotations descriptions: ['Async1', 'Async2', 'Async3', 'Async4', 'Async5', 'Async6', 'Async7', 'Async8', 'Sync1', 'Sync2', 'Sync3', 'Sync4', 'Sync5', 'Sync6', 'Sync7', 'Sync8', 'controle1', 'controle2', 'controle3', 'controle4', 'controle5', 'controle6', 'controle7', 'controle8']\n",
            "Not setting metadata\n",
            "24 matching events found\n",
            "Setting baseline interval to [-5.0, 0.0] sec\n",
            "Applying baseline correction (mode: mean)\n",
            "0 projection items activated\n",
            "Using data from preloaded Raw for 24 events and 201 original time points ...\n",
            "0 bad epochs dropped\n",
            "Loading /content/6_run1.snirf\n"
          ]
        },
        {
          "output_type": "stream",
          "name": "stderr",
          "text": [
            "[Parallel(n_jobs=1)]: Done  48 out of  48 | elapsed:    0.1s finished\n"
          ]
        },
        {
          "output_type": "stream",
          "name": "stdout",
          "text": [
            "Reading 0 ... 21767  =      0.000 ...  2176.700 secs...\n",
            "Filtering raw data in 1 contiguous segment\n",
            "Setting up band-pass filter from 0.05 - 0.7 Hz\n",
            "\n",
            "FIR filter parameters\n",
            "---------------------\n",
            "Designing a one-pass, zero-phase, non-causal bandpass filter:\n",
            "- Windowed time-domain design (firwin) method\n",
            "- Hamming window with 0.0194 passband ripple and 53 dB stopband attenuation\n",
            "- Lower passband edge: 0.05\n",
            "- Lower transition bandwidth: 0.02 Hz (-6 dB cutoff frequency: 0.04 Hz)\n",
            "- Upper passband edge: 0.70 Hz\n",
            "- Upper transition bandwidth: 0.20 Hz (-6 dB cutoff frequency: 0.80 Hz)\n",
            "- Filter length: 1651 samples (165.100 sec)\n",
            "\n",
            "('/content/6_run1.snirf',)\n",
            "Used Annotations descriptions: ['Async1', 'Async2', 'Async3', 'Async4', 'Async5', 'Async6', 'Async7', 'Async8', 'Sync1', 'Sync2', 'Sync3', 'Sync4', 'Sync5', 'Sync6', 'Sync7', 'Sync8', 'controle1', 'controle2', 'controle3', 'controle4', 'controle5', 'controle6', 'controle7', 'controle8']\n",
            "Not setting metadata\n",
            "24 matching events found\n",
            "Setting baseline interval to [-5.0, 0.0] sec\n",
            "Applying baseline correction (mode: mean)\n",
            "0 projection items activated\n",
            "Using data from preloaded Raw for 24 events and 201 original time points ...\n"
          ]
        },
        {
          "output_type": "stream",
          "name": "stderr",
          "text": [
            "<ipython-input-10-4df4296734cb>:18: RuntimeWarning: Negative intensities encountered. Setting to abs(x)\n",
            "  raw_od = mne.preprocessing.nirs.optical_density(raw_intensity)\n",
            "[Parallel(n_jobs=1)]: Using backend SequentialBackend with 1 concurrent workers.\n",
            "[Parallel(n_jobs=1)]: Done   1 out of   1 | elapsed:    0.0s remaining:    0.0s\n",
            "[Parallel(n_jobs=1)]: Done   2 out of   2 | elapsed:    0.0s remaining:    0.0s\n",
            "[Parallel(n_jobs=1)]: Done   3 out of   3 | elapsed:    0.0s remaining:    0.0s\n",
            "[Parallel(n_jobs=1)]: Done   4 out of   4 | elapsed:    0.0s remaining:    0.0s\n",
            "[Parallel(n_jobs=1)]: Done  48 out of  48 | elapsed:    0.1s finished\n"
          ]
        },
        {
          "output_type": "stream",
          "name": "stdout",
          "text": [
            "0 bad epochs dropped\n",
            "Loading /content/7_run1.snirf\n",
            "Reading 0 ... 21755  =      0.000 ...  2175.500 secs...\n",
            "Filtering raw data in 1 contiguous segment\n",
            "Setting up band-pass filter from 0.05 - 0.7 Hz\n",
            "\n",
            "FIR filter parameters\n",
            "---------------------\n",
            "Designing a one-pass, zero-phase, non-causal bandpass filter:\n",
            "- Windowed time-domain design (firwin) method\n",
            "- Hamming window with 0.0194 passband ripple and 53 dB stopband attenuation\n",
            "- Lower passband edge: 0.05\n",
            "- Lower transition bandwidth: 0.02 Hz (-6 dB cutoff frequency: 0.04 Hz)\n",
            "- Upper passband edge: 0.70 Hz\n",
            "- Upper transition bandwidth: 0.20 Hz (-6 dB cutoff frequency: 0.80 Hz)\n",
            "- Filter length: 1651 samples (165.100 sec)\n",
            "\n",
            "('/content/7_run1.snirf',)\n",
            "Used Annotations descriptions: ['Async1', 'Async2', 'Async3', 'Async4', 'Async5', 'Async6', 'Async7', 'Async8', 'Sync1', 'Sync2', 'Sync3', 'Sync4', 'Sync5', 'Sync6', 'Sync7', 'Sync8', 'controle1', 'controle2', 'controle3', 'controle4', 'controle5', 'controle6', 'controle7', 'controle8']\n",
            "Not setting metadata\n",
            "24 matching events found\n",
            "Setting baseline interval to [-5.0, 0.0] sec\n",
            "Applying baseline correction (mode: mean)\n",
            "0 projection items activated\n",
            "Using data from preloaded Raw for 24 events and 201 original time points ...\n"
          ]
        },
        {
          "output_type": "stream",
          "name": "stderr",
          "text": [
            "<ipython-input-10-4df4296734cb>:18: RuntimeWarning: Negative intensities encountered. Setting to abs(x)\n",
            "  raw_od = mne.preprocessing.nirs.optical_density(raw_intensity)\n",
            "[Parallel(n_jobs=1)]: Using backend SequentialBackend with 1 concurrent workers.\n",
            "[Parallel(n_jobs=1)]: Done   1 out of   1 | elapsed:    0.0s remaining:    0.0s\n",
            "[Parallel(n_jobs=1)]: Done   2 out of   2 | elapsed:    0.0s remaining:    0.0s\n",
            "[Parallel(n_jobs=1)]: Done   3 out of   3 | elapsed:    0.0s remaining:    0.0s\n",
            "[Parallel(n_jobs=1)]: Done   4 out of   4 | elapsed:    0.0s remaining:    0.0s\n",
            "[Parallel(n_jobs=1)]: Done  48 out of  48 | elapsed:    0.1s finished\n"
          ]
        },
        {
          "output_type": "stream",
          "name": "stdout",
          "text": [
            "1 bad epochs dropped\n",
            "Loading /content/32_run1.snirf\n",
            "Reading 0 ... 21748  =      0.000 ...  2174.800 secs...\n",
            "Filtering raw data in 1 contiguous segment\n",
            "Setting up band-pass filter from 0.05 - 0.7 Hz\n",
            "\n",
            "FIR filter parameters\n",
            "---------------------\n",
            "Designing a one-pass, zero-phase, non-causal bandpass filter:\n",
            "- Windowed time-domain design (firwin) method\n",
            "- Hamming window with 0.0194 passband ripple and 53 dB stopband attenuation\n",
            "- Lower passband edge: 0.05\n",
            "- Lower transition bandwidth: 0.02 Hz (-6 dB cutoff frequency: 0.04 Hz)\n",
            "- Upper passband edge: 0.70 Hz\n",
            "- Upper transition bandwidth: 0.20 Hz (-6 dB cutoff frequency: 0.80 Hz)\n",
            "- Filter length: 1651 samples (165.100 sec)\n",
            "\n",
            "('/content/32_run1.snirf',)\n",
            "Used Annotations descriptions: ['Async1', 'Async2', 'Async3', 'Async4', 'Async5', 'Async6', 'Async7', 'Async8', 'Sync1', 'Sync2', 'Sync3', 'Sync4', 'Sync5', 'Sync6', 'Sync7', 'Sync8', 'controle1', 'controle2', 'controle3', 'controle4', 'controle5', 'controle6', 'controle7', 'controle8']\n",
            "Not setting metadata\n",
            "24 matching events found\n",
            "Setting baseline interval to [-5.0, 0.0] sec\n",
            "Applying baseline correction (mode: mean)\n"
          ]
        },
        {
          "output_type": "stream",
          "name": "stderr",
          "text": [
            "<ipython-input-10-4df4296734cb>:18: RuntimeWarning: Negative intensities encountered. Setting to abs(x)\n",
            "  raw_od = mne.preprocessing.nirs.optical_density(raw_intensity)\n",
            "[Parallel(n_jobs=1)]: Using backend SequentialBackend with 1 concurrent workers.\n",
            "[Parallel(n_jobs=1)]: Done   1 out of   1 | elapsed:    0.0s remaining:    0.0s\n",
            "[Parallel(n_jobs=1)]: Done   2 out of   2 | elapsed:    0.0s remaining:    0.0s\n",
            "[Parallel(n_jobs=1)]: Done   3 out of   3 | elapsed:    0.0s remaining:    0.0s\n",
            "[Parallel(n_jobs=1)]: Done   4 out of   4 | elapsed:    0.0s remaining:    0.0s\n",
            "[Parallel(n_jobs=1)]: Done  48 out of  48 | elapsed:    0.1s finished\n"
          ]
        },
        {
          "output_type": "stream",
          "name": "stdout",
          "text": [
            "0 projection items activated\n",
            "Using data from preloaded Raw for 24 events and 201 original time points ...\n",
            "0 bad epochs dropped\n",
            "Loading /content/22_run1.snirf\n",
            "Reading 0 ... 21900  =      0.000 ...  2190.000 secs...\n",
            "Filtering raw data in 1 contiguous segment\n",
            "Setting up band-pass filter from 0.05 - 0.7 Hz\n",
            "\n",
            "FIR filter parameters\n",
            "---------------------\n",
            "Designing a one-pass, zero-phase, non-causal bandpass filter:\n",
            "- Windowed time-domain design (firwin) method\n",
            "- Hamming window with 0.0194 passband ripple and 53 dB stopband attenuation\n",
            "- Lower passband edge: 0.05\n",
            "- Lower transition bandwidth: 0.02 Hz (-6 dB cutoff frequency: 0.04 Hz)\n",
            "- Upper passband edge: 0.70 Hz\n",
            "- Upper transition bandwidth: 0.20 Hz (-6 dB cutoff frequency: 0.80 Hz)\n",
            "- Filter length: 1651 samples (165.100 sec)\n",
            "\n",
            "('/content/22_run1.snirf',)\n",
            "Used Annotations descriptions: ['Async1', 'Async2', 'Async3', 'Async4', 'Async5', 'Async6', 'Async7', 'Async8', 'Sync1', 'Sync2', 'Sync3', 'Sync4', 'Sync5', 'Sync6', 'Sync7', 'Sync8', 'controle1', 'controle2', 'controle3', 'controle4', 'controle5', 'controle6', 'controle7', 'controle8']\n",
            "Not setting metadata\n",
            "24 matching events found\n",
            "Setting baseline interval to [-5.0, 0.0] sec\n",
            "Applying baseline correction (mode: mean)\n",
            "0 projection items activated\n",
            "Using data from preloaded Raw for 24 events and 201 original time points ...\n"
          ]
        },
        {
          "output_type": "stream",
          "name": "stderr",
          "text": [
            "<ipython-input-10-4df4296734cb>:18: RuntimeWarning: Negative intensities encountered. Setting to abs(x)\n",
            "  raw_od = mne.preprocessing.nirs.optical_density(raw_intensity)\n",
            "[Parallel(n_jobs=1)]: Using backend SequentialBackend with 1 concurrent workers.\n",
            "[Parallel(n_jobs=1)]: Done   1 out of   1 | elapsed:    0.0s remaining:    0.0s\n",
            "[Parallel(n_jobs=1)]: Done   2 out of   2 | elapsed:    0.0s remaining:    0.0s\n",
            "[Parallel(n_jobs=1)]: Done   3 out of   3 | elapsed:    0.0s remaining:    0.0s\n",
            "[Parallel(n_jobs=1)]: Done   4 out of   4 | elapsed:    0.0s remaining:    0.0s\n",
            "[Parallel(n_jobs=1)]: Done  48 out of  48 | elapsed:    0.1s finished\n"
          ]
        },
        {
          "output_type": "stream",
          "name": "stdout",
          "text": [
            "0 bad epochs dropped\n",
            "Loading /content/19_run1.snirf\n",
            "Reading 0 ... 21998  =      0.000 ...  2199.800 secs...\n",
            "Filtering raw data in 1 contiguous segment\n",
            "Setting up band-pass filter from 0.05 - 0.7 Hz\n",
            "\n",
            "FIR filter parameters\n",
            "---------------------\n",
            "Designing a one-pass, zero-phase, non-causal bandpass filter:\n",
            "- Windowed time-domain design (firwin) method\n",
            "- Hamming window with 0.0194 passband ripple and 53 dB stopband attenuation\n",
            "- Lower passband edge: 0.05\n",
            "- Lower transition bandwidth: 0.02 Hz (-6 dB cutoff frequency: 0.04 Hz)\n",
            "- Upper passband edge: 0.70 Hz\n",
            "- Upper transition bandwidth: 0.20 Hz (-6 dB cutoff frequency: 0.80 Hz)\n",
            "- Filter length: 1651 samples (165.100 sec)\n",
            "\n",
            "('/content/19_run1.snirf',)\n",
            "Used Annotations descriptions: ['Async1', 'Async2', 'Async3', 'Async4', 'Async5', 'Async6', 'Async7', 'Async8', 'Sync1', 'Sync2', 'Sync3', 'Sync4', 'Sync5', 'Sync6', 'Sync7', 'Sync8', 'controle1', 'controle2', 'controle3', 'controle4', 'controle5', 'controle6', 'controle7', 'controle8']\n",
            "Not setting metadata\n",
            "24 matching events found\n"
          ]
        },
        {
          "output_type": "stream",
          "name": "stderr",
          "text": [
            "<ipython-input-10-4df4296734cb>:18: RuntimeWarning: Negative intensities encountered. Setting to abs(x)\n",
            "  raw_od = mne.preprocessing.nirs.optical_density(raw_intensity)\n",
            "[Parallel(n_jobs=1)]: Using backend SequentialBackend with 1 concurrent workers.\n",
            "[Parallel(n_jobs=1)]: Done   1 out of   1 | elapsed:    0.0s remaining:    0.0s\n",
            "[Parallel(n_jobs=1)]: Done   2 out of   2 | elapsed:    0.0s remaining:    0.0s\n",
            "[Parallel(n_jobs=1)]: Done   3 out of   3 | elapsed:    0.0s remaining:    0.0s\n",
            "[Parallel(n_jobs=1)]: Done   4 out of   4 | elapsed:    0.0s remaining:    0.0s\n",
            "[Parallel(n_jobs=1)]: Done  48 out of  48 | elapsed:    0.1s finished\n"
          ]
        },
        {
          "output_type": "stream",
          "name": "stdout",
          "text": [
            "Setting baseline interval to [-5.0, 0.0] sec\n",
            "Applying baseline correction (mode: mean)\n",
            "0 projection items activated\n",
            "Using data from preloaded Raw for 24 events and 201 original time points ...\n",
            "0 bad epochs dropped\n",
            "Loading /content/21_run1.snirf\n",
            "Reading 0 ... 21835  =      0.000 ...  2183.500 secs...\n",
            "Filtering raw data in 1 contiguous segment\n",
            "Setting up band-pass filter from 0.05 - 0.7 Hz\n",
            "\n",
            "FIR filter parameters\n",
            "---------------------\n",
            "Designing a one-pass, zero-phase, non-causal bandpass filter:\n",
            "- Windowed time-domain design (firwin) method\n",
            "- Hamming window with 0.0194 passband ripple and 53 dB stopband attenuation\n",
            "- Lower passband edge: 0.05\n",
            "- Lower transition bandwidth: 0.02 Hz (-6 dB cutoff frequency: 0.04 Hz)\n",
            "- Upper passband edge: 0.70 Hz\n",
            "- Upper transition bandwidth: 0.20 Hz (-6 dB cutoff frequency: 0.80 Hz)\n",
            "- Filter length: 1651 samples (165.100 sec)\n",
            "\n",
            "('/content/21_run1.snirf',)\n",
            "Used Annotations descriptions: ['Sync1', 'Sync2', 'Sync3', 'Sync4', 'Sync5', 'Sync6', 'Sync7', 'Sync8', 'controle1', 'controle2', 'controle3', 'controle4', 'controle5', 'controle6', 'controle7', 'controle8', 'descanso1', 'descanso10', 'descanso11', 'descanso12', 'descanso13', 'descanso14', 'descanso15', 'descanso16', 'descanso17', 'descanso18', 'descanso19', 'descanso2', 'descanso20', 'descanso21', 'descanso22', 'descanso23', 'descanso24', 'descanso3', 'descanso4', 'descanso5', 'descanso6', 'descanso7', 'descanso8', 'descanso9']\n",
            "Not setting metadata\n",
            "40 matching events found\n",
            "Setting baseline interval to [-5.0, 0.0] sec\n",
            "Applying baseline correction (mode: mean)\n",
            "0 projection items activated\n"
          ]
        },
        {
          "output_type": "stream",
          "name": "stderr",
          "text": [
            "<ipython-input-10-4df4296734cb>:18: RuntimeWarning: Negative intensities encountered. Setting to abs(x)\n",
            "  raw_od = mne.preprocessing.nirs.optical_density(raw_intensity)\n",
            "[Parallel(n_jobs=1)]: Using backend SequentialBackend with 1 concurrent workers.\n",
            "[Parallel(n_jobs=1)]: Done   1 out of   1 | elapsed:    0.0s remaining:    0.0s\n",
            "[Parallel(n_jobs=1)]: Done   2 out of   2 | elapsed:    0.0s remaining:    0.0s\n",
            "[Parallel(n_jobs=1)]: Done   3 out of   3 | elapsed:    0.0s remaining:    0.0s\n",
            "[Parallel(n_jobs=1)]: Done   4 out of   4 | elapsed:    0.0s remaining:    0.0s\n",
            "[Parallel(n_jobs=1)]: Done  48 out of  48 | elapsed:    0.1s finished\n"
          ]
        },
        {
          "output_type": "stream",
          "name": "stdout",
          "text": [
            "Using data from preloaded Raw for 40 events and 201 original time points ...\n",
            "0 bad epochs dropped\n",
            "Loading /content/25_run1.snirf\n",
            "Reading 0 ... 21724  =      0.000 ...  2172.400 secs...\n",
            "Filtering raw data in 1 contiguous segment\n",
            "Setting up band-pass filter from 0.05 - 0.7 Hz\n",
            "\n",
            "FIR filter parameters\n",
            "---------------------\n",
            "Designing a one-pass, zero-phase, non-causal bandpass filter:\n",
            "- Windowed time-domain design (firwin) method\n",
            "- Hamming window with 0.0194 passband ripple and 53 dB stopband attenuation\n",
            "- Lower passband edge: 0.05\n",
            "- Lower transition bandwidth: 0.02 Hz (-6 dB cutoff frequency: 0.04 Hz)\n",
            "- Upper passband edge: 0.70 Hz\n",
            "- Upper transition bandwidth: 0.20 Hz (-6 dB cutoff frequency: 0.80 Hz)\n",
            "- Filter length: 1651 samples (165.100 sec)\n",
            "\n",
            "('/content/25_run1.snirf',)\n",
            "Used Annotations descriptions: ['Async1', 'Async2', 'Async3', 'Async4', 'Async5', 'Async6', 'Async7', 'Async8', 'Sync1', 'Sync2', 'Sync3', 'Sync4', 'Sync5', 'Sync6', 'Sync7', 'Sync8', 'controle1', 'controle2', 'controle3', 'controle4', 'controle5', 'controle6', 'controle7', 'controle8']\n",
            "Not setting metadata\n",
            "24 matching events found\n",
            "Setting baseline interval to [-5.0, 0.0] sec\n",
            "Applying baseline correction (mode: mean)\n",
            "0 projection items activated\n",
            "Using data from preloaded Raw for 24 events and 201 original time points ...\n",
            "0 bad epochs dropped\n"
          ]
        },
        {
          "output_type": "stream",
          "name": "stderr",
          "text": [
            "[Parallel(n_jobs=1)]: Using backend SequentialBackend with 1 concurrent workers.\n",
            "[Parallel(n_jobs=1)]: Done   1 out of   1 | elapsed:    0.0s remaining:    0.0s\n",
            "[Parallel(n_jobs=1)]: Done   2 out of   2 | elapsed:    0.0s remaining:    0.0s\n",
            "[Parallel(n_jobs=1)]: Done   3 out of   3 | elapsed:    0.0s remaining:    0.0s\n",
            "[Parallel(n_jobs=1)]: Done   4 out of   4 | elapsed:    0.0s remaining:    0.0s\n",
            "[Parallel(n_jobs=1)]: Done  48 out of  48 | elapsed:    0.1s finished\n"
          ]
        }
      ]
    },
    {
      "cell_type": "code",
      "source": [
        "# raw_haemo_all "
      ],
      "metadata": {
        "id": "tVzbei9SUERL"
      },
      "execution_count": 11,
      "outputs": []
    },
    {
      "cell_type": "code",
      "source": [
        "# epochs_all"
      ],
      "metadata": {
        "id": "_XLmz8AcgzDt"
      },
      "execution_count": 12,
      "outputs": []
    },
    {
      "cell_type": "code",
      "source": [
        "for f in entries: \n",
        "  if len(epochs_all[f.split('.')[0]].events) == 24:\n",
        "    modelo = set(epochs_all[f.split('.')[0]].event_id.keys())\n",
        "    last_samp = raw_haemo_all[f.split('.')[0]].last_samp/10\n"
      ],
      "metadata": {
        "id": "hEsh0XdLVbGQ"
      },
      "execution_count": 21,
      "outputs": []
    },
    {
      "cell_type": "code",
      "source": [
        "def check(subject,detail=False):\n",
        "  \n",
        "  if detail:\n",
        "    print('número de eventos: ', len(epochs_all[subject].events))\n",
        "    print()\n",
        "    display(epochs_all[subject])\n",
        "    print()\n",
        "    print(epochs_all[subject].events)\n",
        "\n",
        "    for i in range(len(raw_haemo_all[subject].annotations[:][:])):\n",
        "      print(raw_haemo_all[subject].annotations[:][i]['description'].ljust(15),raw_haemo_all[subject].annotations[:][i]['onset'])\n",
        "\n",
        "    print()\n",
        "\n",
        "  for fname in [subject + '.snirf']: \n",
        "    path_out='/content/'\n",
        "\n",
        "    data = h5py.File(path_out + fname,'r+')\n",
        "\n",
        "    #\n",
        "    # create alias for data['nirs']\n",
        "    #\n",
        "    for key in data['nirs'].keys():\n",
        "      exp = key + ' = data[\"nirs\"][\"' + key + '\"] '\n",
        "    #  print(exp)\n",
        "      exec(exp)\n",
        "\n",
        "  if detail:\n",
        "    for k in data['nirs'].keys():\n",
        "      if k.count('stim') == 1:\n",
        "        print( k, data['nirs'][k]['name'][:] , data['nirs'][k]['data'][:] )\n",
        "\n",
        "    print()\n",
        "  \n",
        "  if len(epochs_all[subject].events) == 24:\n",
        "    print(subject.ljust(15), 'OK')\n",
        "    return subject, 'OK'\n",
        "\n",
        "  diff = modelo - modelo.intersection(epochs_all[subject].event_id.keys())\n",
        "\n",
        "  if len(epochs_all[subject].events) == 23 and len(diff) == 0:\n",
        "    if raw_haemo_all[subject].last_samp/10 < data['nirs']['stim16']['data'][0][0] + tmax*10:\n",
        "      print(subject.ljust(15), 'Tempo do Async8 ', data['nirs']['stim16']['data'][0][0], '+ tmax*10 deve ser menor que último sample ', last_samp)\n",
        "      return subject, 'Tempo do Async8 + tmax*10 deve ser menor que último sample' \n",
        "\n",
        "  if len(diff) >= 1: \n",
        "    print(subject.ljust(15), 'Falta eventos: ', diff)\n",
        "    return subject, 'Falta eventos: ' + str(diff) \n",
        "\n",
        "  print(subject.ljust(15), 'Com uma condição não prevista')\n",
        "  return subject, 'Com uma condição não prevista'\n",
        "  \n",
        "\n"
      ],
      "metadata": {
        "id": "YLl88-as5rH7"
      },
      "execution_count": 22,
      "outputs": []
    },
    {
      "cell_type": "code",
      "source": [
        "subject = []\n",
        "comment = []\n",
        "\n",
        "for f in entries: \n",
        "  s , c = check(f.split('.')[0])\n",
        "  subject.append(s)\n",
        "  comment.append(c)\n",
        "\n",
        "check_stim = pd.DataFrame()\n",
        "check_stim['subject'] = subject\n",
        "check_stim['comment'] = comment\n",
        "\n",
        "check_stim_view = check_stim.style.set_properties(**{'text-align': 'left'})\n"
      ],
      "metadata": {
        "colab": {
          "base_uri": "https://localhost:8080/"
        },
        "id": "QAtJJqyf-TDE",
        "outputId": "af79719f-5245-49b3-fcd7-b738e3f8b322"
      },
      "execution_count": 27,
      "outputs": [
        {
          "output_type": "stream",
          "name": "stdout",
          "text": [
            "18_run1         OK\n",
            "3_run1          OK\n",
            "11_run1         Falta eventos:  {'Async6', 'Async5', 'Async7', 'Async3', 'Async4', 'Async8', 'Async2'}\n",
            "20_run1         OK\n",
            "9_run1          OK\n",
            "24_run1         OK\n",
            "12_run1         OK\n",
            "39_run1         OK\n",
            "17_run1         OK\n",
            "37_run1         OK\n",
            "30_run1         OK\n",
            "36_run1         OK\n",
            "33_run1         OK\n",
            "1_run1          Falta eventos:  {'controle3', 'Sync3', 'controle7', 'controle1', 'controle5', 'Async4', 'controle4', 'Async2', 'Sync8', 'Sync2', 'Async1', 'Async6', 'Sync4', 'Sync7', 'Async7', 'Async5', 'Sync6', 'controle6', 'controle8', 'Async3', 'Async8', 'controle2', 'Sync5', 'Sync1'}\n",
            "13_run1         OK\n",
            "23_run1         OK\n",
            "27_run1         OK\n",
            "14_run1         OK\n",
            "34_run1         OK\n",
            "16_run1         OK\n",
            "29_run1         OK\n",
            "15_run1         OK\n",
            "2_run1          OK\n",
            "38_run1         OK\n",
            "26_run1         OK\n",
            "5_run1          OK\n",
            "10_run1         OK\n",
            "31_run1         OK\n",
            "6_run1          OK\n",
            "7_run1          Tempo do Async8  2164.0 + tmax*10 deve ser menor que último sample  2172.4\n",
            "32_run1         OK\n",
            "22_run1         OK\n",
            "19_run1         OK\n",
            "21_run1         Falta eventos:  {'Async1', 'Async6', 'Async5', 'Async7', 'Async3', 'Async4', 'Async8', 'Async2'}\n",
            "25_run1         OK\n"
          ]
        }
      ]
    },
    {
      "cell_type": "code",
      "source": [
        "display(check_stim_view)"
      ],
      "metadata": {
        "colab": {
          "base_uri": "https://localhost:8080/",
          "height": 1000
        },
        "id": "1gRhly80jQcy",
        "outputId": "50245a2f-0da0-4952-9a61-01c8b1275123"
      },
      "execution_count": 30,
      "outputs": [
        {
          "output_type": "display_data",
          "data": {
            "text/plain": [
              "<pandas.io.formats.style.Styler at 0x7fd6e855dd10>"
            ],
            "text/html": [
              "<style type=\"text/css\">\n",
              "#T_12194_row0_col0, #T_12194_row0_col1, #T_12194_row1_col0, #T_12194_row1_col1, #T_12194_row2_col0, #T_12194_row2_col1, #T_12194_row3_col0, #T_12194_row3_col1, #T_12194_row4_col0, #T_12194_row4_col1, #T_12194_row5_col0, #T_12194_row5_col1, #T_12194_row6_col0, #T_12194_row6_col1, #T_12194_row7_col0, #T_12194_row7_col1, #T_12194_row8_col0, #T_12194_row8_col1, #T_12194_row9_col0, #T_12194_row9_col1, #T_12194_row10_col0, #T_12194_row10_col1, #T_12194_row11_col0, #T_12194_row11_col1, #T_12194_row12_col0, #T_12194_row12_col1, #T_12194_row13_col0, #T_12194_row13_col1, #T_12194_row14_col0, #T_12194_row14_col1, #T_12194_row15_col0, #T_12194_row15_col1, #T_12194_row16_col0, #T_12194_row16_col1, #T_12194_row17_col0, #T_12194_row17_col1, #T_12194_row18_col0, #T_12194_row18_col1, #T_12194_row19_col0, #T_12194_row19_col1, #T_12194_row20_col0, #T_12194_row20_col1, #T_12194_row21_col0, #T_12194_row21_col1, #T_12194_row22_col0, #T_12194_row22_col1, #T_12194_row23_col0, #T_12194_row23_col1, #T_12194_row24_col0, #T_12194_row24_col1, #T_12194_row25_col0, #T_12194_row25_col1, #T_12194_row26_col0, #T_12194_row26_col1, #T_12194_row27_col0, #T_12194_row27_col1, #T_12194_row28_col0, #T_12194_row28_col1, #T_12194_row29_col0, #T_12194_row29_col1, #T_12194_row30_col0, #T_12194_row30_col1, #T_12194_row31_col0, #T_12194_row31_col1, #T_12194_row32_col0, #T_12194_row32_col1, #T_12194_row33_col0, #T_12194_row33_col1, #T_12194_row34_col0, #T_12194_row34_col1 {\n",
              "  text-align: left;\n",
              "}\n",
              "</style>\n",
              "<table id=\"T_12194_\" class=\"dataframe\">\n",
              "  <thead>\n",
              "    <tr>\n",
              "      <th class=\"blank level0\" >&nbsp;</th>\n",
              "      <th class=\"col_heading level0 col0\" >subject</th>\n",
              "      <th class=\"col_heading level0 col1\" >comment</th>\n",
              "    </tr>\n",
              "  </thead>\n",
              "  <tbody>\n",
              "    <tr>\n",
              "      <th id=\"T_12194_level0_row0\" class=\"row_heading level0 row0\" >0</th>\n",
              "      <td id=\"T_12194_row0_col0\" class=\"data row0 col0\" >18_run1</td>\n",
              "      <td id=\"T_12194_row0_col1\" class=\"data row0 col1\" >OK</td>\n",
              "    </tr>\n",
              "    <tr>\n",
              "      <th id=\"T_12194_level0_row1\" class=\"row_heading level0 row1\" >1</th>\n",
              "      <td id=\"T_12194_row1_col0\" class=\"data row1 col0\" >3_run1</td>\n",
              "      <td id=\"T_12194_row1_col1\" class=\"data row1 col1\" >OK</td>\n",
              "    </tr>\n",
              "    <tr>\n",
              "      <th id=\"T_12194_level0_row2\" class=\"row_heading level0 row2\" >2</th>\n",
              "      <td id=\"T_12194_row2_col0\" class=\"data row2 col0\" >11_run1</td>\n",
              "      <td id=\"T_12194_row2_col1\" class=\"data row2 col1\" >Falta eventos: {'Async6', 'Async5', 'Async7', 'Async3', 'Async4', 'Async8', 'Async2'}</td>\n",
              "    </tr>\n",
              "    <tr>\n",
              "      <th id=\"T_12194_level0_row3\" class=\"row_heading level0 row3\" >3</th>\n",
              "      <td id=\"T_12194_row3_col0\" class=\"data row3 col0\" >20_run1</td>\n",
              "      <td id=\"T_12194_row3_col1\" class=\"data row3 col1\" >OK</td>\n",
              "    </tr>\n",
              "    <tr>\n",
              "      <th id=\"T_12194_level0_row4\" class=\"row_heading level0 row4\" >4</th>\n",
              "      <td id=\"T_12194_row4_col0\" class=\"data row4 col0\" >9_run1</td>\n",
              "      <td id=\"T_12194_row4_col1\" class=\"data row4 col1\" >OK</td>\n",
              "    </tr>\n",
              "    <tr>\n",
              "      <th id=\"T_12194_level0_row5\" class=\"row_heading level0 row5\" >5</th>\n",
              "      <td id=\"T_12194_row5_col0\" class=\"data row5 col0\" >24_run1</td>\n",
              "      <td id=\"T_12194_row5_col1\" class=\"data row5 col1\" >OK</td>\n",
              "    </tr>\n",
              "    <tr>\n",
              "      <th id=\"T_12194_level0_row6\" class=\"row_heading level0 row6\" >6</th>\n",
              "      <td id=\"T_12194_row6_col0\" class=\"data row6 col0\" >12_run1</td>\n",
              "      <td id=\"T_12194_row6_col1\" class=\"data row6 col1\" >OK</td>\n",
              "    </tr>\n",
              "    <tr>\n",
              "      <th id=\"T_12194_level0_row7\" class=\"row_heading level0 row7\" >7</th>\n",
              "      <td id=\"T_12194_row7_col0\" class=\"data row7 col0\" >39_run1</td>\n",
              "      <td id=\"T_12194_row7_col1\" class=\"data row7 col1\" >OK</td>\n",
              "    </tr>\n",
              "    <tr>\n",
              "      <th id=\"T_12194_level0_row8\" class=\"row_heading level0 row8\" >8</th>\n",
              "      <td id=\"T_12194_row8_col0\" class=\"data row8 col0\" >17_run1</td>\n",
              "      <td id=\"T_12194_row8_col1\" class=\"data row8 col1\" >OK</td>\n",
              "    </tr>\n",
              "    <tr>\n",
              "      <th id=\"T_12194_level0_row9\" class=\"row_heading level0 row9\" >9</th>\n",
              "      <td id=\"T_12194_row9_col0\" class=\"data row9 col0\" >37_run1</td>\n",
              "      <td id=\"T_12194_row9_col1\" class=\"data row9 col1\" >OK</td>\n",
              "    </tr>\n",
              "    <tr>\n",
              "      <th id=\"T_12194_level0_row10\" class=\"row_heading level0 row10\" >10</th>\n",
              "      <td id=\"T_12194_row10_col0\" class=\"data row10 col0\" >30_run1</td>\n",
              "      <td id=\"T_12194_row10_col1\" class=\"data row10 col1\" >OK</td>\n",
              "    </tr>\n",
              "    <tr>\n",
              "      <th id=\"T_12194_level0_row11\" class=\"row_heading level0 row11\" >11</th>\n",
              "      <td id=\"T_12194_row11_col0\" class=\"data row11 col0\" >36_run1</td>\n",
              "      <td id=\"T_12194_row11_col1\" class=\"data row11 col1\" >OK</td>\n",
              "    </tr>\n",
              "    <tr>\n",
              "      <th id=\"T_12194_level0_row12\" class=\"row_heading level0 row12\" >12</th>\n",
              "      <td id=\"T_12194_row12_col0\" class=\"data row12 col0\" >33_run1</td>\n",
              "      <td id=\"T_12194_row12_col1\" class=\"data row12 col1\" >OK</td>\n",
              "    </tr>\n",
              "    <tr>\n",
              "      <th id=\"T_12194_level0_row13\" class=\"row_heading level0 row13\" >13</th>\n",
              "      <td id=\"T_12194_row13_col0\" class=\"data row13 col0\" >1_run1</td>\n",
              "      <td id=\"T_12194_row13_col1\" class=\"data row13 col1\" >Falta eventos: {'controle3', 'Sync3', 'controle7', 'controle1', 'controle5', 'Async4', 'controle4', 'Async2', 'Sync8', 'Sync2', 'Async1', 'Async6', 'Sync4', 'Sync7', 'Async7', 'Async5', 'Sync6', 'controle6', 'controle8', 'Async3', 'Async8', 'controle2', 'Sync5', 'Sync1'}</td>\n",
              "    </tr>\n",
              "    <tr>\n",
              "      <th id=\"T_12194_level0_row14\" class=\"row_heading level0 row14\" >14</th>\n",
              "      <td id=\"T_12194_row14_col0\" class=\"data row14 col0\" >13_run1</td>\n",
              "      <td id=\"T_12194_row14_col1\" class=\"data row14 col1\" >OK</td>\n",
              "    </tr>\n",
              "    <tr>\n",
              "      <th id=\"T_12194_level0_row15\" class=\"row_heading level0 row15\" >15</th>\n",
              "      <td id=\"T_12194_row15_col0\" class=\"data row15 col0\" >23_run1</td>\n",
              "      <td id=\"T_12194_row15_col1\" class=\"data row15 col1\" >OK</td>\n",
              "    </tr>\n",
              "    <tr>\n",
              "      <th id=\"T_12194_level0_row16\" class=\"row_heading level0 row16\" >16</th>\n",
              "      <td id=\"T_12194_row16_col0\" class=\"data row16 col0\" >27_run1</td>\n",
              "      <td id=\"T_12194_row16_col1\" class=\"data row16 col1\" >OK</td>\n",
              "    </tr>\n",
              "    <tr>\n",
              "      <th id=\"T_12194_level0_row17\" class=\"row_heading level0 row17\" >17</th>\n",
              "      <td id=\"T_12194_row17_col0\" class=\"data row17 col0\" >14_run1</td>\n",
              "      <td id=\"T_12194_row17_col1\" class=\"data row17 col1\" >OK</td>\n",
              "    </tr>\n",
              "    <tr>\n",
              "      <th id=\"T_12194_level0_row18\" class=\"row_heading level0 row18\" >18</th>\n",
              "      <td id=\"T_12194_row18_col0\" class=\"data row18 col0\" >34_run1</td>\n",
              "      <td id=\"T_12194_row18_col1\" class=\"data row18 col1\" >OK</td>\n",
              "    </tr>\n",
              "    <tr>\n",
              "      <th id=\"T_12194_level0_row19\" class=\"row_heading level0 row19\" >19</th>\n",
              "      <td id=\"T_12194_row19_col0\" class=\"data row19 col0\" >16_run1</td>\n",
              "      <td id=\"T_12194_row19_col1\" class=\"data row19 col1\" >OK</td>\n",
              "    </tr>\n",
              "    <tr>\n",
              "      <th id=\"T_12194_level0_row20\" class=\"row_heading level0 row20\" >20</th>\n",
              "      <td id=\"T_12194_row20_col0\" class=\"data row20 col0\" >29_run1</td>\n",
              "      <td id=\"T_12194_row20_col1\" class=\"data row20 col1\" >OK</td>\n",
              "    </tr>\n",
              "    <tr>\n",
              "      <th id=\"T_12194_level0_row21\" class=\"row_heading level0 row21\" >21</th>\n",
              "      <td id=\"T_12194_row21_col0\" class=\"data row21 col0\" >15_run1</td>\n",
              "      <td id=\"T_12194_row21_col1\" class=\"data row21 col1\" >OK</td>\n",
              "    </tr>\n",
              "    <tr>\n",
              "      <th id=\"T_12194_level0_row22\" class=\"row_heading level0 row22\" >22</th>\n",
              "      <td id=\"T_12194_row22_col0\" class=\"data row22 col0\" >2_run1</td>\n",
              "      <td id=\"T_12194_row22_col1\" class=\"data row22 col1\" >OK</td>\n",
              "    </tr>\n",
              "    <tr>\n",
              "      <th id=\"T_12194_level0_row23\" class=\"row_heading level0 row23\" >23</th>\n",
              "      <td id=\"T_12194_row23_col0\" class=\"data row23 col0\" >38_run1</td>\n",
              "      <td id=\"T_12194_row23_col1\" class=\"data row23 col1\" >OK</td>\n",
              "    </tr>\n",
              "    <tr>\n",
              "      <th id=\"T_12194_level0_row24\" class=\"row_heading level0 row24\" >24</th>\n",
              "      <td id=\"T_12194_row24_col0\" class=\"data row24 col0\" >26_run1</td>\n",
              "      <td id=\"T_12194_row24_col1\" class=\"data row24 col1\" >OK</td>\n",
              "    </tr>\n",
              "    <tr>\n",
              "      <th id=\"T_12194_level0_row25\" class=\"row_heading level0 row25\" >25</th>\n",
              "      <td id=\"T_12194_row25_col0\" class=\"data row25 col0\" >5_run1</td>\n",
              "      <td id=\"T_12194_row25_col1\" class=\"data row25 col1\" >OK</td>\n",
              "    </tr>\n",
              "    <tr>\n",
              "      <th id=\"T_12194_level0_row26\" class=\"row_heading level0 row26\" >26</th>\n",
              "      <td id=\"T_12194_row26_col0\" class=\"data row26 col0\" >10_run1</td>\n",
              "      <td id=\"T_12194_row26_col1\" class=\"data row26 col1\" >OK</td>\n",
              "    </tr>\n",
              "    <tr>\n",
              "      <th id=\"T_12194_level0_row27\" class=\"row_heading level0 row27\" >27</th>\n",
              "      <td id=\"T_12194_row27_col0\" class=\"data row27 col0\" >31_run1</td>\n",
              "      <td id=\"T_12194_row27_col1\" class=\"data row27 col1\" >OK</td>\n",
              "    </tr>\n",
              "    <tr>\n",
              "      <th id=\"T_12194_level0_row28\" class=\"row_heading level0 row28\" >28</th>\n",
              "      <td id=\"T_12194_row28_col0\" class=\"data row28 col0\" >6_run1</td>\n",
              "      <td id=\"T_12194_row28_col1\" class=\"data row28 col1\" >OK</td>\n",
              "    </tr>\n",
              "    <tr>\n",
              "      <th id=\"T_12194_level0_row29\" class=\"row_heading level0 row29\" >29</th>\n",
              "      <td id=\"T_12194_row29_col0\" class=\"data row29 col0\" >7_run1</td>\n",
              "      <td id=\"T_12194_row29_col1\" class=\"data row29 col1\" >Tempo do Async8 + tmax*10 deve ser menor que último sample</td>\n",
              "    </tr>\n",
              "    <tr>\n",
              "      <th id=\"T_12194_level0_row30\" class=\"row_heading level0 row30\" >30</th>\n",
              "      <td id=\"T_12194_row30_col0\" class=\"data row30 col0\" >32_run1</td>\n",
              "      <td id=\"T_12194_row30_col1\" class=\"data row30 col1\" >OK</td>\n",
              "    </tr>\n",
              "    <tr>\n",
              "      <th id=\"T_12194_level0_row31\" class=\"row_heading level0 row31\" >31</th>\n",
              "      <td id=\"T_12194_row31_col0\" class=\"data row31 col0\" >22_run1</td>\n",
              "      <td id=\"T_12194_row31_col1\" class=\"data row31 col1\" >OK</td>\n",
              "    </tr>\n",
              "    <tr>\n",
              "      <th id=\"T_12194_level0_row32\" class=\"row_heading level0 row32\" >32</th>\n",
              "      <td id=\"T_12194_row32_col0\" class=\"data row32 col0\" >19_run1</td>\n",
              "      <td id=\"T_12194_row32_col1\" class=\"data row32 col1\" >OK</td>\n",
              "    </tr>\n",
              "    <tr>\n",
              "      <th id=\"T_12194_level0_row33\" class=\"row_heading level0 row33\" >33</th>\n",
              "      <td id=\"T_12194_row33_col0\" class=\"data row33 col0\" >21_run1</td>\n",
              "      <td id=\"T_12194_row33_col1\" class=\"data row33 col1\" >Falta eventos: {'Async1', 'Async6', 'Async5', 'Async7', 'Async3', 'Async4', 'Async8', 'Async2'}</td>\n",
              "    </tr>\n",
              "    <tr>\n",
              "      <th id=\"T_12194_level0_row34\" class=\"row_heading level0 row34\" >34</th>\n",
              "      <td id=\"T_12194_row34_col0\" class=\"data row34 col0\" >25_run1</td>\n",
              "      <td id=\"T_12194_row34_col1\" class=\"data row34 col1\" >OK</td>\n",
              "    </tr>\n",
              "  </tbody>\n",
              "</table>\n"
            ]
          },
          "metadata": {}
        }
      ]
    },
    {
      "cell_type": "code",
      "source": [
        "if path_in == '/content/drive/MyDrive/Cond 2/snirf/':\n",
        "  check_stim.to_csv('check_stim_cond_2.csv',index=None)\n",
        "\n",
        "if path_in == '/content/drive/MyDrive/cond 1/snirf/':\n",
        "  check_stim.to_csv('check_stim_cond_1.csv',index=None)"
      ],
      "metadata": {
        "id": "m2VJcCN4jfoH"
      },
      "execution_count": 32,
      "outputs": []
    }
  ],
  "metadata": {
    "colab": {
      "collapsed_sections": [],
      "name": "A_Carol_check_stimulus.ipynb",
      "provenance": [],
      "authorship_tag": "ABX9TyN/aafWGIQUcowqWRjF+hR4",
      "include_colab_link": true
    },
    "kernelspec": {
      "display_name": "Python 3",
      "name": "python3"
    },
    "language_info": {
      "name": "python"
    }
  },
  "nbformat": 4,
  "nbformat_minor": 0
}