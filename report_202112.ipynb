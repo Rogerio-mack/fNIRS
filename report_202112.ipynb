{
  "nbformat": 4,
  "nbformat_minor": 0,
  "metadata": {
    "colab": {
      "name": "report_202112.ipynb",
      "provenance": [],
      "authorship_tag": "ABX9TyMQLt/rMdFm1Liy97FPORk5",
      "include_colab_link": true
    },
    "kernelspec": {
      "name": "python3",
      "display_name": "Python 3"
    },
    "language_info": {
      "name": "python"
    }
  },
  "cells": [
    {
      "cell_type": "markdown",
      "metadata": {
        "id": "view-in-github",
        "colab_type": "text"
      },
      "source": [
        "<a href=\"https://colab.research.google.com/github/Rogerio-mack/fNIRS/blob/main/report_202112.ipynb\" target=\"_parent\"><img src=\"https://colab.research.google.com/assets/colab-badge.svg\" alt=\"Open In Colab\"/></a>"
      ]
    },
    {
      "cell_type": "markdown",
      "source": [
        "# Relatório de Atividades do Grupo\n",
        "\n",
        "* **Participantes**: *Bianca Araújo dos Santos (LNCS), Fernanda Pantaleão (LNCS), Carolina Gudin (LNCS), Marília Lira (LNCS), Waldir Sampaio (LNCS), Rogério de Oliveira (FCI e EE)*\n",
        "\n",
        "* **Período**: 13.10.2021 a 13.12.2021\n",
        "\n",
        "* **Encontros**: semanais, 10 encontros\n",
        "\n",
        "\n"
      ],
      "metadata": {
        "id": "rXzmMTQrCtzI"
      }
    },
    {
      "cell_type": "markdown",
      "source": [
        "# Objetivo \n",
        "\n",
        "Validação de dados das coletas de fNIRS. Validar dados de algumas coletas e criar um procedimento para vallidação em experimentos futuros."
      ],
      "metadata": {
        "id": "MOzlmIsAEV4n"
      }
    },
    {
      "cell_type": "markdown",
      "source": [
        "# Resultados\n",
        "\n",
        "* Os formatos dos dados de fNIRS (`.nirs` e `.snirf`) são binários, não legíveies por humanos, sendo requerido um analisador para carregar o arquivo para o entendendimento de seu conteúdo (por exemplo, o `Homer3`). Isso dificulta uma validação prévia dos sinais para pré-processamento e posterior análise. Por outro lado, formatos legíveis (por exemplo, `.csv`) não apresentam ferramentas para as análises posteriores. \n",
        "\n",
        "* Foram empregados basicamente 2 conjuntos de dados (experimentos respectivamente da Carol e Fernanda) para validação.\n",
        "\n",
        "* A extração dos dados de canais, dados *raw* e estímulos em tabelas, permitiu identificarmos canais, sujeitos e intervalos de tempo que devem ser excluídos  como parte do pré-processamento dos sinais antes das análises de fNIRS. \n",
        "\n",
        "* Para a inspeção dos dados empregaram-se os formatos `.csv` (*readable* equivalente), `.nirs` e `.snirf`. O formato `.snirf` se mostra, entretanto, mais adequado sendo um formato aberto padrão e com maior possibilidade de uso de ferramentas programáticas como o pacote NME.\n",
        "\n",
        "\n",
        "\n",
        "\n",
        "\n"
      ],
      "metadata": {
        "id": "kLExQUgyFRpH"
      }
    },
    {
      "cell_type": "markdown",
      "source": [
        "![imagem](https://github.com/Rogerio-mack/fNIRS/blob/main/fNIRS_preproc.png?raw=true)"
      ],
      "metadata": {
        "id": "E2ugctLKOl-w"
      }
    },
    {
      "cell_type": "markdown",
      "source": [
        "# Códigos úteis\n",
        "\n",
        "\n",
        "* **`.snirf`** Tratamento dos dados de um único sujeito em formato `.snirf`, dados **benchmark BIDS_NIRS_Tapping** [aqui](https://github.com/Rogerio-mack/fNIRS/blob/main/fnirs_HDF5_BIDS_NIRS_Tapping.ipynb)\n",
        "\n",
        "* **`.snirf`** Tratamento dos dados de um único sujeito em formato `.snirf`, dados **Fernanda TCC** [aqui](https://github.com/Rogerio-mack/fNIRS/blob/main/fnirs_HDF5_Fernanda_TCC.ipynb)\n",
        "\n",
        "* **`.nirs`** Tratamento dos dados de um único sujeito e grupo em formato `.nirs`, dados **Carol** [aqui](https://github.com/Rogerio-mack/fNIRS/blob/main/read_nirs_Carol_2.ipynb)\n"
      ],
      "metadata": {
        "id": "UVbZzhEORIyB"
      }
    },
    {
      "cell_type": "markdown",
      "source": [
        "# Próximos passos\n",
        "\n",
        "* Revisão dos códigos para maior usabilidade, possivelmente empregando um experimento mais padrão como o Tapping\n",
        "* Verificar analisar dados em janelas de evento (dados da Fernanda TCC)\n",
        "* Próximos passos do pré-processamento Homer3, NME ou outro, Beer-Lambert, Correção de Sinais Biológicos, Filtros etc. \n",
        "\n",
        "\n"
      ],
      "metadata": {
        "id": "qQ92XYACSjOg"
      }
    },
    {
      "cell_type": "markdown",
      "source": [
        "# Backlog\n",
        "\n",
        "* Transformação de formatos `.nirs` para `.snirf`\n",
        "* Uso do formato `.jsnirf`"
      ],
      "metadata": {
        "id": "-T23ZhHSSqAP"
      }
    },
    {
      "cell_type": "markdown",
      "source": [
        "# Referências úteis\n",
        "\n",
        "* Yücel MA, Lühmann AV, Scholkmann F, et al. **Best practices for fNIRS publications** [published correction appears in Neurophotonics. 2021 Jan;8(1):019802]. Neurophotonics. 2021;8(1):012101. doi:10.1117/1.NPh.8.1.012101 [Acesse aqui.](https://www.ncbi.nlm.nih.gov/pmc/articles/PMC7793571/)\n",
        "\n",
        "* **Shared Near Infrared Spectroscopy Format (SNIRF)**. [Acesse aqui.](https://github.com/fNIRS/snirf) Especificação do formato `.snirf`. [snirf v1.0](https://github.com/fNIRS/snirf/blob/v1.0/snirf_specification.md).\n",
        "\n",
        "* Alexandre Gramfort, Martin Luessi, Eric Larson, Denis A. Engemann, Daniel Strohmeier, Christian Brodbeck, Roman Goj, Mainak Jas, Teon Brooks, Lauri Parkkonen, and Matti S. Hämäläinen. **MEG and EEG data analysis with MNE-Python**. Frontiers in Neuroscience, 7(267):1–13, 2013. doi:10.3389/fnins.2013.00267. [Acesse aqui.](https://mne.tools/stable/index.html)\n",
        "\n",
        "* Homer2. **Especificação do formato `.nirs`, Matlab Homer3** [Acesse aqui.](https://www.nmr.mgh.harvard.edu/martinos/software/homer/HOMER2_UsersGuide_121129.pdf)\n",
        "\n",
        "\n"
      ],
      "metadata": {
        "id": "Mw-KtoyET9Q_"
      }
    }
  ]
}