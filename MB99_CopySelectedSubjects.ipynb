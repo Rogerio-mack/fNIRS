{
  "nbformat": 4,
  "nbformat_minor": 0,
  "metadata": {
    "colab": {
      "name": "MB99_CopySelectedSubjects.ipynb",
      "provenance": [],
      "authorship_tag": "ABX9TyNvQ8ir3PSs/gVuuEyukjwf",
      "include_colab_link": true
    },
    "kernelspec": {
      "name": "python3",
      "display_name": "Python 3"
    },
    "language_info": {
      "name": "python"
    }
  },
  "cells": [
    {
      "cell_type": "markdown",
      "metadata": {
        "id": "view-in-github",
        "colab_type": "text"
      },
      "source": [
        "<a href=\"https://colab.research.google.com/github/Rogerio-mack/fNIRS/blob/main/MB99_CopySelectedSubjects.ipynb\" target=\"_parent\"><img src=\"https://colab.research.google.com/assets/colab-badge.svg\" alt=\"Open In Colab\"/></a>"
      ]
    },
    {
      "cell_type": "markdown",
      "metadata": {
        "id": "ZM8Z3aCamBiO"
      },
      "source": [
        "## Mount Google Drive"
      ]
    },
    {
      "cell_type": "code",
      "execution_count": 1,
      "metadata": {
        "cellView": "form",
        "colab": {
          "base_uri": "https://localhost:8080/"
        },
        "id": "DJhf1paQHjlw",
        "outputId": "b41d5b67-8df3-4f8a-cb20-c6cfb8d11606"
      },
      "outputs": [
        {
          "output_type": "stream",
          "name": "stdout",
          "text": [
            "Mounted at /content/drive\n"
          ]
        }
      ],
      "source": [
        "#@markdown\n",
        "from google.colab import drive\n",
        "drive.mount('/content/drive')"
      ]
    },
    {
      "cell_type": "markdown",
      "metadata": {
        "id": "k-rLSD2DmzFa"
      },
      "source": [
        "## Common Imports"
      ]
    },
    {
      "cell_type": "code",
      "execution_count": 2,
      "metadata": {
        "cellView": "form",
        "id": "AjKOJa7Im10i"
      },
      "outputs": [],
      "source": [
        "#@markdown \n",
        "import os\n",
        "import numpy as np\n",
        "import pandas as pd\n",
        "import matplotlib.pyplot as plt\n",
        "# %matplotlib inline\n",
        "import seaborn as sns\n",
        "\n",
        "import h5py\n",
        "from itertools import compress\n",
        "from sklearn.preprocessing import scale\n",
        "from google.colab import widgets"
      ]
    },
    {
      "cell_type": "code",
      "source": [
        "import pickle\n",
        "\n",
        "path_in = '/content/drive/MyDrive/cond 1/snirf/'\n",
        "\n",
        "infile = open(path_in + 'selected_sub_channels.pickle','rb')\n",
        "selected_sub_channels = pickle.load(infile)\n",
        "infile.close()\n",
        "\n",
        "selected_sub_channels.keys()"
      ],
      "metadata": {
        "colab": {
          "base_uri": "https://localhost:8080/"
        },
        "id": "oD3F9GIuM2ml",
        "outputId": "21834312-147f-4324-ca31-a65d5440e091"
      },
      "execution_count": 9,
      "outputs": [
        {
          "output_type": "execute_result",
          "data": {
            "text/plain": [
              "dict_keys(['selected_sub', 'good_list', 'bad_list', 'channel_SD_selected'])"
            ]
          },
          "metadata": {},
          "execution_count": 9
        }
      ]
    },
    {
      "cell_type": "code",
      "source": [
        "selected_sub = selected_sub_channels['selected_sub']\n",
        "\n",
        "entries = [ x + '.snirf' for x in selected_sub ]\n",
        "entries"
      ],
      "metadata": {
        "colab": {
          "base_uri": "https://localhost:8080/"
        },
        "id": "gEytgzMKjwfW",
        "outputId": "0cd26a59-435e-45ef-9069-295e0f01009f"
      },
      "execution_count": 7,
      "outputs": [
        {
          "output_type": "execute_result",
          "data": {
            "text/plain": [
              "['17_run1.snirf',\n",
              " '36_run1.snirf',\n",
              " '33_run1.snirf',\n",
              " '13_run1.snirf',\n",
              " '14_run1.snirf',\n",
              " '34_run1.snirf',\n",
              " '29_run1.snirf',\n",
              " '38_run1.snirf',\n",
              " '5_run1.snirf',\n",
              " '31_run1.snirf',\n",
              " '25_run1.snirf']"
            ]
          },
          "metadata": {},
          "execution_count": 7
        }
      ]
    },
    {
      "cell_type": "code",
      "execution_count": 17,
      "metadata": {
        "colab": {
          "base_uri": "https://localhost:8080/"
        },
        "id": "ExBAMuze7-Ed",
        "outputId": "74c44df7-7374-4136-8671-9cf30f0a8486"
      },
      "outputs": [
        {
          "output_type": "stream",
          "name": "stdout",
          "text": [
            "Warning: directory  /content/drive/MyDrive/cond 1/snirf/snirf2/  already exists\n",
            "cp '/content/drive/MyDrive/cond 1/snirf/17_run1.snirf' '/content/drive/MyDrive/cond 1/snirf/snirf2/17_run1.snirf'\n",
            "cp '/content/drive/MyDrive/cond 1/snirf/36_run1.snirf' '/content/drive/MyDrive/cond 1/snirf/snirf2/36_run1.snirf'\n",
            "cp '/content/drive/MyDrive/cond 1/snirf/33_run1.snirf' '/content/drive/MyDrive/cond 1/snirf/snirf2/33_run1.snirf'\n",
            "cp '/content/drive/MyDrive/cond 1/snirf/13_run1.snirf' '/content/drive/MyDrive/cond 1/snirf/snirf2/13_run1.snirf'\n",
            "cp '/content/drive/MyDrive/cond 1/snirf/14_run1.snirf' '/content/drive/MyDrive/cond 1/snirf/snirf2/14_run1.snirf'\n",
            "cp '/content/drive/MyDrive/cond 1/snirf/34_run1.snirf' '/content/drive/MyDrive/cond 1/snirf/snirf2/34_run1.snirf'\n",
            "cp '/content/drive/MyDrive/cond 1/snirf/29_run1.snirf' '/content/drive/MyDrive/cond 1/snirf/snirf2/29_run1.snirf'\n",
            "cp '/content/drive/MyDrive/cond 1/snirf/38_run1.snirf' '/content/drive/MyDrive/cond 1/snirf/snirf2/38_run1.snirf'\n",
            "cp '/content/drive/MyDrive/cond 1/snirf/5_run1.snirf' '/content/drive/MyDrive/cond 1/snirf/snirf2/5_run1.snirf'\n",
            "cp '/content/drive/MyDrive/cond 1/snirf/31_run1.snirf' '/content/drive/MyDrive/cond 1/snirf/snirf2/31_run1.snirf'\n",
            "cp '/content/drive/MyDrive/cond 1/snirf/25_run1.snirf' '/content/drive/MyDrive/cond 1/snirf/snirf2/25_run1.snirf'\n"
          ]
        }
      ],
      "source": [
        "if not os.path.exists(path_in + 'snirf2/'):\n",
        "  os.mkdir(path_in + 'snirf2/')\n",
        "  print(\"Directory \" , path_in + 'snirf2/' ,  \"was created\")\n",
        "else:    \n",
        "  print(\"Warning: directory \" , path_in + 'snirf2/' ,  \" already exists\")\n",
        "\n",
        "path_out = path_in + 'snirf2/'\n",
        "\n",
        "for f in entries:\n",
        "  print('cp ' + \"'\" + path_in + f + \"'\" + ' ' + \"'\" + path_out + f  + \"'\")\n",
        "  os.system('cp ' + \"'\" + path_in + f + \"'\" + ' ' + \"'\" + path_out + f  + \"'\")"
      ]
    }
  ]
}