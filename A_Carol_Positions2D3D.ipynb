{
  "cells": [
    {
      "cell_type": "markdown",
      "metadata": {
        "id": "view-in-github",
        "colab_type": "text"
      },
      "source": [
        "<a href=\"https://colab.research.google.com/github/Rogerio-mack/fNIRS/blob/main/A_Carol_Positions2D3D.ipynb\" target=\"_parent\"><img src=\"https://colab.research.google.com/assets/colab-badge.svg\" alt=\"Open In Colab\"/></a>"
      ]
    },
    {
      "cell_type": "markdown",
      "metadata": {
        "id": "ZM8Z3aCamBiO"
      },
      "source": [
        "## Mount Google Drive"
      ]
    },
    {
      "cell_type": "code",
      "execution_count": 2,
      "metadata": {
        "cellView": "form",
        "colab": {
          "base_uri": "https://localhost:8080/"
        },
        "id": "DJhf1paQHjlw",
        "outputId": "1ce9c86f-ecef-4ae5-a646-85f8e98c346b"
      },
      "outputs": [
        {
          "output_type": "stream",
          "name": "stdout",
          "text": [
            "Mounted at /content/drive\n"
          ]
        }
      ],
      "source": [
        "#@markdown\n",
        "from google.colab import drive\n",
        "drive.mount('/content/drive')"
      ]
    },
    {
      "cell_type": "markdown",
      "metadata": {
        "id": "k-rLSD2DmzFa"
      },
      "source": [
        "## Common Imports"
      ]
    },
    {
      "cell_type": "code",
      "execution_count": 3,
      "metadata": {
        "cellView": "form",
        "id": "AjKOJa7Im10i"
      },
      "outputs": [],
      "source": [
        "#@markdown \n",
        "import os\n",
        "import numpy as np\n",
        "import pandas as pd\n",
        "import matplotlib.pyplot as plt\n",
        "# %matplotlib inline\n",
        "import seaborn as sns\n",
        "\n",
        "import h5py\n",
        "from itertools import compress\n",
        "from sklearn.preprocessing import scale\n",
        "from google.colab import widgets"
      ]
    },
    {
      "cell_type": "markdown",
      "source": [
        "# Routines"
      ],
      "metadata": {
        "id": "GhcnDsPEjf1A"
      }
    },
    {
      "cell_type": "code",
      "source": [
        "#@markdown `def clone_snirf(path_in, path_out, fname='out.snirf')`\n",
        "def clone_snirf(path_in, path_out, fname='out.snirf'):\n",
        "  \n",
        "  if path_in == path_out:\n",
        "    print('Error: path_in and path_out can not be the same.') \n",
        "    return\n",
        "\n",
        "  if not os.path.exists(path_out):\n",
        "      os.mkdir(path_out)\n",
        "      print(\"Directory \" , path_out ,  \"was created\")\n",
        "  else:    \n",
        "      print(\"Warning: directory \" , path_out ,  \" already exists\")\n",
        "\n",
        "  if os.path.exists(path_out + fname):\n",
        "    os.remove(path_out + fname)\n",
        "    print('Warning: previous output file was deleted.')\n",
        "  \n",
        "  print('Input snirf file: ' + path_in + fname)\n",
        "\n",
        "  fs = h5py.File(path_in + fname,'r')\n",
        "  fd = h5py.File(path_out + fname,'w')\n",
        "\n",
        "  if list(fs.keys()).count('formatVersion') >= 1:\n",
        "    fs.copy('formatVersion',fd,'formatVersion') \n",
        "  else:\n",
        "    print('Warning: there is no formatVersion key in snirf input.')\n",
        "\n",
        "  if list(fs.keys()).count('nirs') >= 1:\n",
        "    fs.copy('nirs',fd,'nirs') \n",
        "  else:\n",
        "    print('Error: Invalid snirf file. There is no nirs key in snirf input.')  \n",
        "  \n",
        "  print('Output snirf file: ' + path_out + fname)\n",
        "  \n",
        "  fd.close()\n",
        "  fs.close()\n",
        "\n",
        "  return"
      ],
      "metadata": {
        "cellView": "form",
        "id": "kRNGIOKB3v2G"
      },
      "execution_count": 4,
      "outputs": []
    },
    {
      "cell_type": "markdown",
      "source": [
        "# Dados da Fernanda"
      ],
      "metadata": {
        "id": "ZWqb6VB2c7LT"
      }
    },
    {
      "cell_type": "code",
      "source": [
        "import os\n",
        "path_in = '/content/drive/MyDrive/coletas IC TCC/dadosaqui/'\n",
        "path_out= '/content/snirf/'\n",
        "\n",
        "print('\\n\\n Alguns files no diretório... \\n\\n')\n",
        "print( os.listdir(path_in + 'snirf/')[0:5] )\n",
        "\n",
        "fname = 'JMVR_TCC_50.snirf'\n",
        "clone_snirf(path_in + 'snirf/', path_out, fname=fname)\n",
        "data = h5py.File(path_out + fname,'r+')\n",
        "\n",
        "print('\\n\\n ' + fname + ' sourcePos2D e sourcePos3D... \\n\\n')\n",
        "print( data['nirs']['probe']['sourcePos2D'][:] )\n",
        "print()\n",
        "print( data['nirs']['probe']['sourcePos3D'][:] )\n",
        "print()\n",
        "\n",
        "fname = 'JMVR_TCC_14.snirf'\n",
        "clone_snirf(path_in + 'snirf/', path_out, fname=fname)\n",
        "data = h5py.File(path_out + fname,'r+')\n",
        "\n",
        "print('\\n\\n ' + fname + ' sourcePos2D e sourcePos3D... \\n\\n')\n",
        "print( data['nirs']['probe']['sourcePos2D'][:] )\n",
        "print()\n",
        "print( data['nirs']['probe']['sourcePos3D'][:] )\n",
        "print()\n"
      ],
      "metadata": {
        "colab": {
          "base_uri": "https://localhost:8080/"
        },
        "id": "Z5ckY-jI9QRa",
        "outputId": "ae1a9b3e-a867-4496-c79c-9ba03b40265e"
      },
      "execution_count": 7,
      "outputs": [
        {
          "output_type": "stream",
          "name": "stdout",
          "text": [
            "\n",
            "\n",
            " Alguns files no diretório... \n",
            "\n",
            "\n",
            "['JMVR_TCC_50.snirf', 'JMVR_TCC_41.snirf', 'JMVR_TCC_14.snirf', 'JMVR_TCC_28.snirf', 'JMVR_TCC_44.snirf']\n",
            "Warning: directory  /content/snirf/  already exists\n",
            "Warning: previous output file was deleted.\n",
            "Input snirf file: /content/drive/MyDrive/coletas IC TCC/dadosaqui/snirf/JMVR_TCC_50.snirf\n",
            "Output snirf file: /content/snirf/JMVR_TCC_50.snirf\n",
            "\n",
            "\n",
            " JMVR_TCC_50.snirf sourcePos2D e sourcePos3D... \n",
            "\n",
            "\n",
            "[[-0.71483462 -0.27727633]\n",
            " [-0.35501285  0.20489667]\n",
            " [ 0.74574185 -0.30838679]\n",
            " [ 0.37013878  0.21963974]]\n",
            "\n",
            "[[-0.71483462 -0.27727633  0.06287737]\n",
            " [-0.35501285  0.20489667  0.1159869 ]\n",
            " [ 0.74574185 -0.30838679  0.09993959]\n",
            " [ 0.37013878  0.21963974  0.08378406]]\n",
            "\n",
            "Warning: directory  /content/snirf/  already exists\n",
            "Warning: previous output file was deleted.\n",
            "Input snirf file: /content/drive/MyDrive/coletas IC TCC/dadosaqui/snirf/JMVR_TCC_14.snirf\n",
            "Output snirf file: /content/snirf/JMVR_TCC_14.snirf\n",
            "\n",
            "\n",
            " JMVR_TCC_14.snirf sourcePos2D e sourcePos3D... \n",
            "\n",
            "\n",
            "[[-0.73120815 -0.27216029]\n",
            " [-0.30366807  0.21175215]\n",
            " [ 0.72204567 -0.30613718]\n",
            " [ 0.32516399  0.19784874]]\n",
            "\n",
            "[[-0.73120815 -0.27216029  0.07292681]\n",
            " [-0.30366807  0.21175215  0.12993451]\n",
            " [ 0.72204567 -0.30613718  0.07591164]\n",
            " [ 0.32516399  0.19784874  0.11245139]]\n",
            "\n"
          ]
        }
      ]
    },
    {
      "cell_type": "markdown",
      "source": [
        "# Dados da Carol"
      ],
      "metadata": {
        "id": "mDJr5NvGjCxw"
      }
    },
    {
      "cell_type": "code",
      "source": [
        "import os\n",
        "path_in = '/content/drive/MyDrive/Cond 2/'\n",
        "path_out= '/content/snirf/'\n",
        "\n",
        "print('\\n\\n Alguns files no diretório... \\n\\n')\n",
        "print( os.listdir(path_in + 'snirf/')[0:5] )\n",
        "\n",
        "fname = '26_run2.snirf'\n",
        "clone_snirf(path_in + 'snirf/', path_out, fname=fname)\n",
        "data = h5py.File(path_out + fname,'r+')\n",
        "\n",
        "print('\\n\\n ' + fname + ' sourcePos2D e sourcePos3D... \\n\\n')\n",
        "print( data['nirs']['probe']['sourcePos2D'][:] )\n",
        "print()\n",
        "print( data['nirs']['probe']['sourcePos3D'][:] )\n",
        "print()\n",
        "\n",
        "fname = '19_run2.snirf'\n",
        "clone_snirf(path_in + 'snirf/', path_out, fname=fname)\n",
        "data = h5py.File(path_out + fname,'r+')\n",
        "\n",
        "print('\\n\\n ' + fname + ' sourcePos2D e sourcePos3D... \\n\\n')\n",
        "print( data['nirs']['probe']['sourcePos2D'][:] )\n",
        "print()\n",
        "print( data['nirs']['probe']['sourcePos3D'][:] )\n",
        "print()"
      ],
      "metadata": {
        "colab": {
          "base_uri": "https://localhost:8080/"
        },
        "outputId": "20b59367-3b23-4d99-f05c-0f453d6dadc9",
        "id": "JoryYjCFjCxx"
      },
      "execution_count": 8,
      "outputs": [
        {
          "output_type": "stream",
          "name": "stdout",
          "text": [
            "\n",
            "\n",
            " Alguns files no diretório... \n",
            "\n",
            "\n",
            "['26_run2.snirf', '14_run2.snirf', '19_run2.snirf', '31_run2.snirf', '3_run2.snirf']\n",
            "Warning: directory  /content/snirf/  already exists\n",
            "Warning: previous output file was deleted.\n",
            "Input snirf file: /content/drive/MyDrive/Cond 2/snirf/26_run2.snirf\n",
            "Output snirf file: /content/snirf/26_run2.snirf\n",
            "\n",
            "\n",
            " 26_run2.snirf sourcePos2D e sourcePos3D... \n",
            "\n",
            "\n",
            "[[17.   3. ]\n",
            " [12.   7.5]\n",
            " [ 6.   7.5]\n",
            " [ 1.5  3. ]\n",
            " [13.5  3. ]\n",
            " [ 4.5  3. ]]\n",
            "\n",
            "[[17.   3.   0. ]\n",
            " [12.   7.5  0. ]\n",
            " [ 6.   7.5  0. ]\n",
            " [ 1.5  3.   0. ]\n",
            " [13.5  3.   0. ]\n",
            " [ 4.5  3.   0. ]]\n",
            "\n",
            "Warning: directory  /content/snirf/  already exists\n",
            "Warning: previous output file was deleted.\n",
            "Input snirf file: /content/drive/MyDrive/Cond 2/snirf/19_run2.snirf\n",
            "Output snirf file: /content/snirf/19_run2.snirf\n",
            "\n",
            "\n",
            " 19_run2.snirf sourcePos2D e sourcePos3D... \n",
            "\n",
            "\n",
            "[[17.   3. ]\n",
            " [12.   7.5]\n",
            " [ 6.   7.5]\n",
            " [ 1.5  3. ]\n",
            " [13.5  3. ]\n",
            " [ 4.5  3. ]]\n",
            "\n",
            "[[17.   3.   0. ]\n",
            " [12.   7.5  0. ]\n",
            " [ 6.   7.5  0. ]\n",
            " [ 1.5  3.   0. ]\n",
            " [13.5  3.   0. ]\n",
            " [ 4.5  3.   0. ]]\n",
            "\n"
          ]
        }
      ]
    }
  ],
  "metadata": {
    "colab": {
      "name": "A_Carol_Positions2D3D.ipynb",
      "provenance": [],
      "include_colab_link": true
    },
    "kernelspec": {
      "display_name": "Python 3",
      "name": "python3"
    }
  },
  "nbformat": 4,
  "nbformat_minor": 0
}