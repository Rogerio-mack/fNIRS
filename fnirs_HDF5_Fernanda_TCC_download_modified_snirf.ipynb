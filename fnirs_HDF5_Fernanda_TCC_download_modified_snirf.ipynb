{
  "nbformat": 4,
  "nbformat_minor": 0,
  "metadata": {
    "colab": {
      "name": "fnirs_HDF5_Fernanda_TCC_download_modified_snirf.ipynb",
      "provenance": [],
      "collapsed_sections": [],
      "authorship_tag": "ABX9TyNhHU6D9bRQhDoA6O+tvJhI",
      "include_colab_link": true
    },
    "kernelspec": {
      "display_name": "Python 3",
      "name": "python3"
    },
    "language_info": {
      "name": "python"
    }
  },
  "cells": [
    {
      "cell_type": "markdown",
      "metadata": {
        "id": "view-in-github",
        "colab_type": "text"
      },
      "source": [
        "<a href=\"https://colab.research.google.com/github/Rogerio-mack/fNIRS/blob/main/fnirs_HDF5_Fernanda_TCC_download_modified_snirf.ipynb\" target=\"_parent\"><img src=\"https://colab.research.google.com/assets/colab-badge.svg\" alt=\"Open In Colab\"/></a>"
      ]
    },
    {
      "cell_type": "markdown",
      "metadata": {
        "id": "YzF-2pwGQpjJ"
      },
      "source": [
        "# Tratamento dos dados em formato `.snirf`. \n",
        "\n",
        "Acesse [Shared Near Infrared Spectroscopy Format (SNIRF)](https://github.com/fNIRS/snirf) para especificação do formato `.snirf`. Aqui empregamos a versão [snirf v1.0](https://github.com/fNIRS/snirf/blob/v1.0/snirf_specification.md).\n",
        "\n",
        "**Entrada:**\n",
        "\n",
        "> * Dados `.snirf` \n",
        "\n",
        "**Saída:**\n",
        "\n",
        "> Faz as seguintes alterações criando novos arquivos `.snirf` (dentre outros, ajustes requeridos para uso no `NME-nirs`):\n",
        "\n",
        "> * Inclui registro AppName b'snirf-Mack' para identificar os dados tratados nos arquivos\n",
        "> * ZERA canais com sinais < 0\n",
        "> * Ajusta `time` para intervalos de tempo constante\n",
        "> * Cria a partir dos registros `aux` do `.snirf` registros `.stim` de estímulos\n",
        "> * Correção dos estímulos `aux1` (4 estímulos) e `aux3` (6 estímulos) (experimento da Fernanda) \n",
        "> * Retifica estímulos para tempo de 18s (experimento da Fernanda) \n",
        "> * Cria o estímulo `rest` complementar de intervalo entre os estímulos retificados\n",
        "> * Valida a carga dos dados com o `NME-nirs`\n",
        "> * Exibe ao final a média de HbO/HbR dos estímulos `aux1` $\\times$ `rest`\n",
        "> * Download new `.snirf` file\n",
        "\n",
        "\n",
        "\n",
        "\n",
        "\n"
      ]
    },
    {
      "cell_type": "markdown",
      "metadata": {
        "id": "ZM8Z3aCamBiO"
      },
      "source": [
        "## Mount Google Drive"
      ]
    },
    {
      "cell_type": "code",
      "metadata": {
        "colab": {
          "base_uri": "https://localhost:8080/"
        },
        "id": "DJhf1paQHjlw",
        "outputId": "72f9041a-4d66-46e4-9c3a-a086d9b22bd6"
      },
      "source": [
        "from google.colab import drive\n",
        "drive.mount('/content/drive')"
      ],
      "execution_count": 1,
      "outputs": [
        {
          "output_type": "stream",
          "name": "stdout",
          "text": [
            "Drive already mounted at /content/drive; to attempt to forcibly remount, call drive.mount(\"/content/drive\", force_remount=True).\n"
          ]
        }
      ]
    },
    {
      "cell_type": "markdown",
      "metadata": {
        "id": "k-rLSD2DmzFa"
      },
      "source": [
        "## Common Imports"
      ]
    },
    {
      "cell_type": "code",
      "metadata": {
        "id": "AjKOJa7Im10i"
      },
      "source": [
        "import os\n",
        "import numpy as np\n",
        "import pandas as pd\n",
        "import matplotlib.pyplot as plt\n",
        "%matplotlib inline\n",
        "import seaborn as sns\n",
        "from itertools import compress"
      ],
      "execution_count": 2,
      "outputs": []
    },
    {
      "cell_type": "code",
      "metadata": {
        "id": "CB4MA6veCMuf"
      },
      "source": [
        "import h5py\n",
        "import numpy as np"
      ],
      "execution_count": 3,
      "outputs": []
    },
    {
      "cell_type": "markdown",
      "source": [
        "## Copiando o arquivo original para um novo arquivo local\n",
        "\n",
        "A ideia é que possamos modificar um arquivo `.snirf` original eliminando coletas indesejadas e fazendo ajustes para análise."
      ],
      "metadata": {
        "id": "JOenQywod4hC"
      }
    },
    {
      "cell_type": "code",
      "metadata": {
        "id": "IkKpZ5dRCQCa",
        "colab": {
          "base_uri": "https://localhost:8080/"
        },
        "outputId": "5179c45c-ebe1-475e-a848-3bf7699907b2"
      },
      "source": [
        "path_in = '/content/drive/MyDrive/coletas IC TCC/dados em .snirf/'\n",
        "path_out = '/content/new_'\n",
        "\n",
        "print('Path file: ' + path_in )\n",
        "\n",
        "file = input('Entre com arquivo .snirf do diretório acima que deseja processar ou <enter> para processar JMVR_TCC_40.snirf')\n",
        "if file == '':\n",
        "  file = 'JMVR_TCC_40.snirf'\n",
        "\n",
        "print('Processing file: ' + path_in + file)\n",
        "\n",
        "fs = h5py.File(path_in + file,'r')\n",
        "fd = h5py.File(path_out + file,'w')\n",
        "\n",
        "fs.copy('formatVersion',fd,'formatVersion')\n",
        "fs.copy('nirs',fd,'nirs')\n",
        "\n",
        "fd.close()\n",
        "fs.close()"
      ],
      "execution_count": 4,
      "outputs": [
        {
          "output_type": "stream",
          "name": "stdout",
          "text": [
            "Path file: /content/drive/MyDrive/coletas IC TCC/dados em .snirf/\n",
            "Entre com arquivo .snirf do diretório acima que deseja processar ou <enter> para processar JMVR_TCC_40.snirfJMVR_TCC_39.snirf\n",
            "Processing file: /content/drive/MyDrive/coletas IC TCC/dados em .snirf/JMVR_TCC_39.snirf\n"
          ]
        }
      ]
    },
    {
      "cell_type": "markdown",
      "source": [
        "## Lendo o novo arquivo "
      ],
      "metadata": {
        "id": "nyAQUCv9eWfK"
      }
    },
    {
      "cell_type": "code",
      "source": [
        "data = h5py.File(path_out + file,'r+')"
      ],
      "metadata": {
        "id": "TfWrcn_mFUSa"
      },
      "execution_count": 5,
      "outputs": []
    },
    {
      "cell_type": "code",
      "source": [
        "if data.keys() != h5py.File(path_in + file,'r').keys():\n",
        "  print('Error: new snirf file with different keys from source')"
      ],
      "metadata": {
        "id": "PC6-OwLaE9iC"
      },
      "execution_count": 6,
      "outputs": []
    },
    {
      "cell_type": "code",
      "source": [
        "list(data.keys())"
      ],
      "metadata": {
        "colab": {
          "base_uri": "https://localhost:8080/"
        },
        "id": "3vsSAM7RgjN3",
        "outputId": "50470bd2-31a0-474d-e5f4-e85e972ce92a"
      },
      "execution_count": 7,
      "outputs": [
        {
          "output_type": "execute_result",
          "data": {
            "text/plain": [
              "['formatVersion', 'nirs']"
            ]
          },
          "metadata": {},
          "execution_count": 7
        }
      ]
    },
    {
      "cell_type": "markdown",
      "source": [
        "## Explorando os dados do `.snirf`\n",
        "\n",
        "Aqui várias explorações úteis dos dados do `.snirf`."
      ],
      "metadata": {
        "id": "DrVyxPT8fA_K"
      }
    },
    {
      "cell_type": "code",
      "source": [
        "data['formatVersion'][0]"
      ],
      "metadata": {
        "colab": {
          "base_uri": "https://localhost:8080/"
        },
        "id": "9xGLAa3nldYO",
        "outputId": "89cdaab6-f6b3-47d5-ec84-fdbc509d2aef"
      },
      "execution_count": 8,
      "outputs": [
        {
          "output_type": "execute_result",
          "data": {
            "text/plain": [
              "b'1.0'"
            ]
          },
          "metadata": {},
          "execution_count": 8
        }
      ]
    },
    {
      "cell_type": "code",
      "source": [
        "list(data['nirs'].keys())"
      ],
      "metadata": {
        "colab": {
          "base_uri": "https://localhost:8080/"
        },
        "id": "_sQsnIKoaxY-",
        "outputId": "b0f515de-2f25-406b-ccc0-a0f1402b938c"
      },
      "execution_count": 9,
      "outputs": [
        {
          "output_type": "execute_result",
          "data": {
            "text/plain": [
              "['aux1',\n",
              " 'aux2',\n",
              " 'aux3',\n",
              " 'aux4',\n",
              " 'aux5',\n",
              " 'aux6',\n",
              " 'aux7',\n",
              " 'aux8',\n",
              " 'data1',\n",
              " 'metaDataTags',\n",
              " 'probe',\n",
              " 'stim01',\n",
              " 'stim1']"
            ]
          },
          "metadata": {},
          "execution_count": 9
        }
      ]
    },
    {
      "cell_type": "markdown",
      "source": [
        "### Criando *alias* para os dados"
      ],
      "metadata": {
        "id": "-IgdjVxJfY3q"
      }
    },
    {
      "cell_type": "code",
      "source": [
        "for key in data['nirs'].keys():\n",
        "  exp = key + ' = data[\"nirs\"][\"' + key + '\"] '\n",
        "  print(exp)\n",
        "  exec(exp)"
      ],
      "metadata": {
        "colab": {
          "base_uri": "https://localhost:8080/"
        },
        "id": "p0qhJ8k5uoke",
        "outputId": "f71b5252-d523-4423-890d-e02991f959af"
      },
      "execution_count": 10,
      "outputs": [
        {
          "output_type": "stream",
          "name": "stdout",
          "text": [
            "aux1 = data[\"nirs\"][\"aux1\"] \n",
            "aux2 = data[\"nirs\"][\"aux2\"] \n",
            "aux3 = data[\"nirs\"][\"aux3\"] \n",
            "aux4 = data[\"nirs\"][\"aux4\"] \n",
            "aux5 = data[\"nirs\"][\"aux5\"] \n",
            "aux6 = data[\"nirs\"][\"aux6\"] \n",
            "aux7 = data[\"nirs\"][\"aux7\"] \n",
            "aux8 = data[\"nirs\"][\"aux8\"] \n",
            "data1 = data[\"nirs\"][\"data1\"] \n",
            "metaDataTags = data[\"nirs\"][\"metaDataTags\"] \n",
            "probe = data[\"nirs\"][\"probe\"] \n",
            "stim01 = data[\"nirs\"][\"stim01\"] \n",
            "stim1 = data[\"nirs\"][\"stim1\"] \n"
          ]
        }
      ]
    },
    {
      "cell_type": "code",
      "source": [
        "list(metaDataTags.keys())"
      ],
      "metadata": {
        "colab": {
          "base_uri": "https://localhost:8080/"
        },
        "id": "9lC6wF3WhI_R",
        "outputId": "5da81133-4e07-4322-ba67-e5b7af4ec046"
      },
      "execution_count": 11,
      "outputs": [
        {
          "output_type": "execute_result",
          "data": {
            "text/plain": [
              "['AppName',\n",
              " 'FrequencyUnit',\n",
              " 'LengthUnit',\n",
              " 'MeasurementDate',\n",
              " 'MeasurementTime',\n",
              " 'SnirfDraft',\n",
              " 'SubjectID',\n",
              " 'TimeUnit']"
            ]
          },
          "metadata": {},
          "execution_count": 11
        }
      ]
    },
    {
      "cell_type": "markdown",
      "source": [
        "### Alterando o arquivo com a informação `snirf-Mack` \n",
        "\n",
        "Metadados podem variar bastante de arquivo para arquivo. Por exemplo, para dados `.snirf` gerados pelo `Homer3` você encontrará o campo `Appname` com `Homer3`."
      ],
      "metadata": {
        "id": "YZ4XhTkHfozq"
      }
    },
    {
      "cell_type": "code",
      "source": [
        "if list(metaDataTags.keys()).count('AppName') == 1:\n",
        "  metaDataTags['AppName'][...] = ['snirf-Mack']\n",
        "else:\n",
        "  metaDataTags['AppName'] = np.array(['snirf-Mack'],dtype='|S13')\n",
        "\n",
        "for key, item in metaDataTags.items():\n",
        "  print(key, item[0])"
      ],
      "metadata": {
        "colab": {
          "base_uri": "https://localhost:8080/"
        },
        "id": "tC6MkBm249lx",
        "outputId": "351ea21f-ccc5-4b78-c935-d0a19ef4b73b"
      },
      "execution_count": 12,
      "outputs": [
        {
          "output_type": "stream",
          "name": "stdout",
          "text": [
            "AppName b'snirf-Mack'\n",
            "FrequencyUnit b'unknown'\n",
            "LengthUnit b'mm'\n",
            "MeasurementDate b'2021-12-04'\n",
            "MeasurementTime b'15:12:45'\n",
            "SnirfDraft b'3'\n",
            "SubjectID b'default'\n",
            "TimeUnit b'unknown'\n"
          ]
        }
      ]
    },
    {
      "cell_type": "code",
      "source": [
        "list(data1.keys())"
      ],
      "metadata": {
        "colab": {
          "base_uri": "https://localhost:8080/"
        },
        "id": "imYgahnJhbiG",
        "outputId": "0afb6fac-6455-472e-8e51-2fac0ccac314"
      },
      "execution_count": 13,
      "outputs": [
        {
          "output_type": "execute_result",
          "data": {
            "text/plain": [
              "['dataTimeSeries',\n",
              " 'measurementList1',\n",
              " 'measurementList10',\n",
              " 'measurementList11',\n",
              " 'measurementList12',\n",
              " 'measurementList13',\n",
              " 'measurementList14',\n",
              " 'measurementList15',\n",
              " 'measurementList16',\n",
              " 'measurementList17',\n",
              " 'measurementList18',\n",
              " 'measurementList19',\n",
              " 'measurementList2',\n",
              " 'measurementList20',\n",
              " 'measurementList21',\n",
              " 'measurementList22',\n",
              " 'measurementList23',\n",
              " 'measurementList24',\n",
              " 'measurementList25',\n",
              " 'measurementList26',\n",
              " 'measurementList27',\n",
              " 'measurementList28',\n",
              " 'measurementList29',\n",
              " 'measurementList3',\n",
              " 'measurementList30',\n",
              " 'measurementList31',\n",
              " 'measurementList32',\n",
              " 'measurementList4',\n",
              " 'measurementList5',\n",
              " 'measurementList6',\n",
              " 'measurementList7',\n",
              " 'measurementList8',\n",
              " 'measurementList9',\n",
              " 'time']"
            ]
          },
          "metadata": {},
          "execution_count": 13
        }
      ]
    },
    {
      "cell_type": "code",
      "source": [
        "aux_list = [x for x in list(data['nirs'].keys()) if x.find('aux') == 0]\n",
        "aux_list"
      ],
      "metadata": {
        "colab": {
          "base_uri": "https://localhost:8080/"
        },
        "id": "AkTlJUqPj7oU",
        "outputId": "bbe969eb-9b50-44c4-f171-21f113335a3e"
      },
      "execution_count": 14,
      "outputs": [
        {
          "output_type": "execute_result",
          "data": {
            "text/plain": [
              "['aux1', 'aux2', 'aux3', 'aux4', 'aux5', 'aux6', 'aux7', 'aux8']"
            ]
          },
          "metadata": {},
          "execution_count": 14
        }
      ]
    },
    {
      "cell_type": "code",
      "source": [
        "if len(aux_list) > 0:\n",
        "  for a in aux_list:\n",
        "    for key, item in data['nirs'][a].items():\n",
        "      print(key, item[:])\n",
        "else:\n",
        "  print('Warning: no aux records in .snirf')      "
      ],
      "metadata": {
        "colab": {
          "base_uri": "https://localhost:8080/"
        },
        "id": "zzn_oLssqZw_",
        "outputId": "927df046-5e15-43a2-bd5e-e68ad5c4e8ea"
      },
      "execution_count": 15,
      "outputs": [
        {
          "output_type": "stream",
          "name": "stdout",
          "text": [
            "dataTimeSeries [0.00305176 0.00274658 0.00213623 ... 0.00274658 0.00244141 0.00244141]\n",
            "name [b'aux1']\n",
            "time [0.00000000e+00 1.00000001e-01 2.00000003e-01 ... 2.02390002e+03\n",
            " 2.02400000e+03 2.02409998e+03]\n",
            "timeOffset [0.]\n",
            "dataTimeSeries [0.00244141 0.00274658 0.00244141 ... 0.00213623 0.00274658 0.00244141]\n",
            "name [b'aux2']\n",
            "time [0.00000000e+00 1.00000001e-01 2.00000003e-01 ... 2.02390002e+03\n",
            " 2.02400000e+03 2.02409998e+03]\n",
            "timeOffset [0.]\n",
            "dataTimeSeries [0.00183105 0.00213623 0.00244141 ... 0.00274658 0.00213623 0.00183105]\n",
            "name [b'aux3']\n",
            "time [0.00000000e+00 1.00000001e-01 2.00000003e-01 ... 2.02390002e+03\n",
            " 2.02400000e+03 2.02409998e+03]\n",
            "timeOffset [0.]\n",
            "dataTimeSeries [0.00213623 0.00183105 0.00213623 ... 0.00274658 0.00274658 0.00183105]\n",
            "name [b'aux4']\n",
            "time [0.00000000e+00 1.00000001e-01 2.00000003e-01 ... 2.02390002e+03\n",
            " 2.02400000e+03 2.02409998e+03]\n",
            "timeOffset [0.]\n",
            "dataTimeSeries [0.00213623 0.00213623 0.00213623 ... 0.00244141 0.00244141 0.00274658]\n",
            "name [b'aux5']\n",
            "time [0.00000000e+00 1.00000001e-01 2.00000003e-01 ... 2.02390002e+03\n",
            " 2.02400000e+03 2.02409998e+03]\n",
            "timeOffset [0.]\n",
            "dataTimeSeries [0.00152588 0.00274658 0.00152588 ... 0.00305176 0.00183105 0.00213623]\n",
            "name [b'aux6']\n",
            "time [0.00000000e+00 1.00000001e-01 2.00000003e-01 ... 2.02390002e+03\n",
            " 2.02400000e+03 2.02409998e+03]\n",
            "timeOffset [0.]\n",
            "dataTimeSeries [0.00213623 0.00244141 0.00213623 ... 0.00183105 0.00213623 0.00213623]\n",
            "name [b'aux7']\n",
            "time [0.00000000e+00 1.00000001e-01 2.00000003e-01 ... 2.02390002e+03\n",
            " 2.02400000e+03 2.02409998e+03]\n",
            "timeOffset [0.]\n",
            "dataTimeSeries [0.00183105 0.00183105 0.00213623 ... 0.00213623 0.00213623 0.00152588]\n",
            "name [b'aux8']\n",
            "time [0.00000000e+00 1.00000001e-01 2.00000003e-01 ... 2.02390002e+03\n",
            " 2.02400000e+03 2.02409998e+03]\n",
            "timeOffset [0.]\n"
          ]
        }
      ]
    },
    {
      "cell_type": "code",
      "metadata": {
        "id": "2abNu6RSYSDA",
        "colab": {
          "base_uri": "https://localhost:8080/"
        },
        "outputId": "279ccc6d-dba8-4318-81eb-83ea77167e22"
      },
      "source": [
        "print( probe['detectorLabels'][ int(data['nirs']['data1']['measurementList1']['detectorIndex'][0]) - 1 ] )\n",
        "print( probe['sourceLabels'][ int(data['nirs']['data1']['measurementList1']['sourceIndex'][0]) - 1 ] )"
      ],
      "execution_count": 16,
      "outputs": [
        {
          "output_type": "stream",
          "name": "stdout",
          "text": [
            "b'D2'\n",
            "b'S1'\n"
          ]
        }
      ]
    },
    {
      "cell_type": "code",
      "metadata": {
        "id": "2sof1nPUehoa",
        "colab": {
          "base_uri": "https://localhost:8080/"
        },
        "outputId": "d7aa2ce1-9026-4579-fd60-85dd45c1240e"
      },
      "source": [
        "measurements = [ x for x in list( data['nirs']['data1'].keys() ) if x.find('measurementList') == 0 ]\n",
        "\n",
        "for m in measurements:\n",
        "  print( m,\n",
        "         str(data['nirs']['probe']['detectorLabels'][ int(data['nirs']['data1'][m]['detectorIndex'][0]) - 1 ],'UTF-8'), \n",
        "         data['nirs']['probe']['sourceLabels'][ int(data['nirs']['data1'][m]['sourceIndex'][0]) - 1 ].decode('UTF-8') )\n",
        "  "
      ],
      "execution_count": 17,
      "outputs": [
        {
          "output_type": "stream",
          "name": "stdout",
          "text": [
            "measurementList1 D2 S1\n",
            "measurementList10 D1 S2\n",
            "measurementList11 D4 S2\n",
            "measurementList12 D4 S2\n",
            "measurementList13 D5 S2\n",
            "measurementList14 D5 S2\n",
            "measurementList15 D13 S2\n",
            "measurementList16 D13 S2\n",
            "measurementList17 D10 S3\n",
            "measurementList18 D10 S3\n",
            "measurementList19 D6 S3\n",
            "measurementList2 D2 S1\n",
            "measurementList20 D6 S3\n",
            "measurementList21 D7 S3\n",
            "measurementList22 D7 S3\n",
            "measurementList23 D8 S3\n",
            "measurementList24 D8 S3\n",
            "measurementList25 D1 S4\n",
            "measurementList26 D1 S4\n",
            "measurementList27 D11 S4\n",
            "measurementList28 D11 S4\n",
            "measurementList29 D8 S4\n",
            "measurementList3 D3 S1\n",
            "measurementList30 D8 S4\n",
            "measurementList31 D9 S4\n",
            "measurementList32 D9 S4\n",
            "measurementList4 D3 S1\n",
            "measurementList5 D4 S1\n",
            "measurementList6 D4 S1\n",
            "measurementList7 D12 S1\n",
            "measurementList8 D12 S1\n",
            "measurementList9 D1 S2\n"
          ]
        }
      ]
    },
    {
      "cell_type": "markdown",
      "source": [
        "## Create Channels Table"
      ],
      "metadata": {
        "id": "mZOK22KOlyvb"
      }
    },
    {
      "cell_type": "code",
      "source": [
        "measurements = [ x for x in list( data1.keys() ) if x.find('measurementList') == 0 ]\n",
        "\n",
        "measure_idx = []\n",
        "name = []\n",
        "source =  []\n",
        "detector = []\n",
        "source_pos = []\n",
        "detector_pos = []\n",
        "source_pos_3D = []\n",
        "detector_pos_3D = []\n",
        "flag_2D = True\n",
        "flag_3D = True\n",
        "frequencies = []\n",
        "\n",
        "for m in measurements:\n",
        "  measure_idx.append( int( m[ len('measurementList'):: ] ) )\n",
        "  \n",
        "  e_name = probe['sourceLabels'][ int(data1[m]['sourceIndex'][0]) - 1 ].decode('UTF-8') + '_' + probe['detectorLabels'][ int(data1[m]['detectorIndex'][0]) - 1 ].decode('UTF-8') \n",
        "  e_source = int(data1[m]['sourceIndex'][0])   \n",
        "  e_detector = int(data1[m]['detectorIndex'][0]) \n",
        "  \n",
        "  if list(probe.keys()).count('sourcePos2D') > 0 and list(probe.keys()).count('detectorPos2D') > 0: \n",
        "    e_source_pos = probe['sourcePos2D'][ int(data1[m]['sourceIndex'][0]) - 1 ] # .decode('UTF-8')\n",
        "    e_detector_pos = probe['detectorPos2D'][ int(data1[m]['detectorIndex'][0]) - 1 ] # .decode('UTF-8')\n",
        "  else:\n",
        "    flag_2D = False\n",
        "    e_source_pos = e_detector_pos = np.array([0,0],dtype=float)\n",
        "\n",
        "  # e_frequencies = probe['frequencies'][0]\n",
        "\n",
        "  if list(probe.keys()).count('sourcePos3D') > 0 and list(probe.keys()).count('detectorPos3D') > 0:\n",
        "    e_source_pos_3D = probe['sourcePos3D'][ int(data1[m]['sourceIndex'][0]) - 1 ] # .decode('UTF-8')\n",
        "    e_detector_pos_3D = probe['detectorPos3D'][ int(data1[m]['detectorIndex'][0]) - 1 ] # .decode('UTF-8')\n",
        "  else:\n",
        "    flag_3D = False\n",
        "    e_source_pos_3D = e_detector_pos_3D = np.array([0,0,0],dtype=float)\n",
        "\n",
        "  name.append( e_name )\n",
        "  source.append( e_source )\n",
        "  detector.append( e_detector )\n",
        "  source_pos.append( e_source_pos )\n",
        "  detector_pos.append( e_detector_pos )\n",
        "#  frequencies.append( e_frequencies )\n",
        "  source_pos_3D.append( e_source_pos_3D )\n",
        "  detector_pos_3D.append( e_detector_pos_3D )\n",
        "\n",
        "if not flag_2D:\n",
        "  print('\\nWARNING: no source, detector pos 2D available\\n')\n",
        "\n",
        "if not flag_3D:\n",
        "  print('\\nWARNING: no source, detector pos 3D available\\n')\n",
        "\n",
        "print(measure_idx)  \n",
        "print(name)  \n",
        "print(source)\n",
        "print(detector)\n",
        "print(source_pos)\n",
        "print(detector_pos)\n",
        "print(frequencies)\n",
        "print(source_pos_3D)\n",
        "print(detector_pos_3D)"
      ],
      "metadata": {
        "colab": {
          "base_uri": "https://localhost:8080/"
        },
        "id": "np7ZfswlvVCx",
        "outputId": "6b57070b-c54b-4f46-c7dc-d2089908d47f"
      },
      "execution_count": 18,
      "outputs": [
        {
          "output_type": "stream",
          "name": "stdout",
          "text": [
            "[1, 10, 11, 12, 13, 14, 15, 16, 17, 18, 19, 2, 20, 21, 22, 23, 24, 25, 26, 27, 28, 29, 3, 30, 31, 32, 4, 5, 6, 7, 8, 9]\n",
            "['S1_D2', 'S2_D1', 'S2_D4', 'S2_D4', 'S2_D5', 'S2_D5', 'S2_D13', 'S2_D13', 'S3_D10', 'S3_D10', 'S3_D6', 'S1_D2', 'S3_D6', 'S3_D7', 'S3_D7', 'S3_D8', 'S3_D8', 'S4_D1', 'S4_D1', 'S4_D11', 'S4_D11', 'S4_D8', 'S1_D3', 'S4_D8', 'S4_D9', 'S4_D9', 'S1_D3', 'S1_D4', 'S1_D4', 'S1_D12', 'S1_D12', 'S2_D1']\n",
            "[1, 2, 2, 2, 2, 2, 2, 2, 3, 3, 3, 1, 3, 3, 3, 3, 3, 4, 4, 4, 4, 4, 1, 4, 4, 4, 1, 1, 1, 1, 1, 2]\n",
            "[2, 1, 4, 4, 5, 5, 13, 13, 10, 10, 6, 2, 6, 7, 7, 8, 8, 1, 1, 11, 11, 8, 3, 8, 9, 9, 3, 4, 4, 12, 12, 1]\n",
            "[array([-0.73568031, -0.31736099]), array([-0.39062417,  0.238856  ]), array([-0.39062417,  0.238856  ]), array([-0.39062417,  0.238856  ]), array([-0.39062417,  0.238856  ]), array([-0.39062417,  0.238856  ]), array([-0.39062417,  0.238856  ]), array([-0.39062417,  0.238856  ]), array([ 0.7869124 , -0.30189636]), array([ 0.7869124 , -0.30189636]), array([ 0.7869124 , -0.30189636]), array([-0.73568031, -0.31736099]), array([ 0.7869124 , -0.30189636]), array([ 0.7869124 , -0.30189636]), array([ 0.7869124 , -0.30189636]), array([ 0.7869124 , -0.30189636]), array([ 0.7869124 , -0.30189636]), array([0.3453062 , 0.22935143]), array([0.3453062 , 0.22935143]), array([0.3453062 , 0.22935143]), array([0.3453062 , 0.22935143]), array([0.3453062 , 0.22935143]), array([-0.73568031, -0.31736099]), array([0.3453062 , 0.22935143]), array([0.3453062 , 0.22935143]), array([0.3453062 , 0.22935143]), array([-0.73568031, -0.31736099]), array([-0.73568031, -0.31736099]), array([-0.73568031, -0.31736099]), array([-0.73568031, -0.31736099]), array([-0.73568031, -0.31736099]), array([-0.39062417,  0.238856  ])]\n",
            "[array([-0.79941629, -0.50782377]), array([-0.01972043,  0.37111558]), array([-0.6391637 ,  0.00930356]), array([-0.6391637 ,  0.00930356]), array([-0.42961637,  0.26581976]), array([-0.42961637,  0.26581976]), array([-0.2654575 ,  0.32741235]), array([-0.2654575 ,  0.32741235]), array([ 0.73667529, -0.13812632]), array([ 0.73667529, -0.13812632]), array([ 0.88590358, -0.49578572]), array([-0.79941629, -0.50782377]), array([ 0.88590358, -0.49578572]), array([ 0.61658681, -0.08570734]), array([ 0.61658681, -0.08570734]), array([0.61299776, 0.05592655]), array([0.61299776, 0.05592655]), array([-0.01972043,  0.37111558]), array([-0.01972043,  0.37111558]), array([0.23454444, 0.33989537]), array([0.23454444, 0.33989537]), array([0.61299776, 0.05592655]), array([-0.56720101, -0.08144576]), array([0.61299776, 0.05592655]), array([0.36380375, 0.29718573]), array([0.36380375, 0.29718573]), array([-0.56720101, -0.08144576]), array([-0.6391637 ,  0.00930356]), array([-0.6391637 ,  0.00930356]), array([-0.73585045, -0.20672006]), array([-0.73585045, -0.20672006]), array([-0.01972043,  0.37111558])]\n",
            "[]\n",
            "[array([-0.73568031, -0.31736099,  0.08080265]), array([-0.39062417,  0.238856  ,  0.06841536]), array([-0.39062417,  0.238856  ,  0.06841536]), array([-0.39062417,  0.238856  ,  0.06841536]), array([-0.39062417,  0.238856  ,  0.06841536]), array([-0.39062417,  0.238856  ,  0.06841536]), array([-0.39062417,  0.238856  ,  0.06841536]), array([-0.39062417,  0.238856  ,  0.06841536]), array([ 0.7869124 , -0.30189636,  0.06039521]), array([ 0.7869124 , -0.30189636,  0.06039521]), array([ 0.7869124 , -0.30189636,  0.06039521]), array([-0.73568031, -0.31736099,  0.08080265]), array([ 0.7869124 , -0.30189636,  0.06039521]), array([ 0.7869124 , -0.30189636,  0.06039521]), array([ 0.7869124 , -0.30189636,  0.06039521]), array([ 0.7869124 , -0.30189636,  0.06039521]), array([ 0.7869124 , -0.30189636,  0.06039521]), array([0.3453062 , 0.22935143, 0.1225948 ]), array([0.3453062 , 0.22935143, 0.1225948 ]), array([0.3453062 , 0.22935143, 0.1225948 ]), array([0.3453062 , 0.22935143, 0.1225948 ]), array([0.3453062 , 0.22935143, 0.1225948 ]), array([-0.73568031, -0.31736099,  0.08080265]), array([0.3453062 , 0.22935143, 0.1225948 ]), array([0.3453062 , 0.22935143, 0.1225948 ]), array([0.3453062 , 0.22935143, 0.1225948 ]), array([-0.73568031, -0.31736099,  0.08080265]), array([-0.73568031, -0.31736099,  0.08080265]), array([-0.73568031, -0.31736099,  0.08080265]), array([-0.73568031, -0.31736099,  0.08080265]), array([-0.73568031, -0.31736099,  0.08080265]), array([-0.39062417,  0.238856  ,  0.06841536])]\n",
            "[array([-0.79941629, -0.50782377, -0.09857982]), array([-0.01972043,  0.37111558,  0.00997342]), array([-0.6391637 ,  0.00930356, -0.06814121]), array([-0.6391637 ,  0.00930356, -0.06814121]), array([-0.42961637,  0.26581976, -0.15463568]), array([-0.42961637,  0.26581976, -0.15463568]), array([-0.2654575 ,  0.32741235, -0.01668604]), array([-0.2654575 ,  0.32741235, -0.01668604]), array([ 0.73667529, -0.13812632, -0.08136967]), array([ 0.73667529, -0.13812632, -0.08136967]), array([ 0.88590358, -0.49578572, -0.10497611]), array([-0.79941629, -0.50782377, -0.09857982]), array([ 0.88590358, -0.49578572, -0.10497611]), array([ 0.61658681, -0.08570734,  0.20782895]), array([ 0.61658681, -0.08570734,  0.20782895]), array([ 0.61299776,  0.05592655, -0.0523656 ]), array([ 0.61299776,  0.05592655, -0.0523656 ]), array([-0.01972043,  0.37111558,  0.00997342]), array([-0.01972043,  0.37111558,  0.00997342]), array([ 0.23454444,  0.33989537, -0.01395451]), array([ 0.23454444,  0.33989537, -0.01395451]), array([ 0.61299776,  0.05592655, -0.0523656 ]), array([-0.56720101, -0.08144576,  0.25665555]), array([ 0.61299776,  0.05592655, -0.0523656 ]), array([ 0.36380375,  0.29718573, -0.13629943]), array([ 0.36380375,  0.29718573, -0.13629943]), array([-0.56720101, -0.08144576,  0.25665555]), array([-0.6391637 ,  0.00930356, -0.06814121]), array([-0.6391637 ,  0.00930356, -0.06814121]), array([-0.73585045, -0.20672006, -0.07965788]), array([-0.73585045, -0.20672006, -0.07965788]), array([-0.01972043,  0.37111558,  0.00997342])]\n"
          ]
        }
      ]
    },
    {
      "cell_type": "code",
      "metadata": {
        "id": "HFAbA116jf_T"
      },
      "source": [
        "measures = pd.DataFrame({'measure_idx':measure_idx,\n",
        "                         'name':name,\n",
        "                         'source':source,\n",
        "                         'detector':detector,\n",
        "#                         'frequencies':frequencies,\n",
        "                         'source_pos':source_pos,\n",
        "                         'detector_pos':detector_pos,\n",
        "                         'source_pos_3D':source_pos_3D,\n",
        "                         'detector_pos_3d':detector_pos_3D}) # .sort_values('measure_idx').reset_index(drop=True)\n",
        "# measures.head()\n"
      ],
      "execution_count": 19,
      "outputs": []
    },
    {
      "cell_type": "code",
      "metadata": {
        "id": "jXjWSLUCl3n8"
      },
      "source": [
        "wavelength = []\n",
        "\n",
        "for m in measurements:\n",
        "  wavelength.append( str(int(probe['wavelengths'][ int(data1[m]['wavelengthIndex'][0]) - 1 ])) )\n",
        "#  print( m,str(int(probe['wavelengths'][ int(data1[m]['wavelengthIndex'][0]) - 1 ]))  )\n",
        "\n",
        "# wavelength\n",
        "measures['wavelength'] = wavelength \n",
        "measures['name'] = measures['name'] + '_' + wavelength \n",
        "measures.set_index('measure_idx',inplace=True) "
      ],
      "execution_count": 20,
      "outputs": []
    },
    {
      "cell_type": "code",
      "source": [
        "measures = measures[['name', 'source', 'detector', 'wavelength', 'source_pos', 'detector_pos',\n",
        "       'source_pos_3D', 'detector_pos_3d']]\n",
        "measures = measures.rename_axis('')\n",
        "measures.head()"
      ],
      "metadata": {
        "colab": {
          "base_uri": "https://localhost:8080/",
          "height": 351
        },
        "id": "zvoOc7R_4dMg",
        "outputId": "2c43b30b-9a07-4022-9b43-a20aca9fff60"
      },
      "execution_count": 21,
      "outputs": [
        {
          "output_type": "execute_result",
          "data": {
            "text/html": [
              "\n",
              "  <div id=\"df-a1ec559d-ce8c-47ad-869d-97cfde7408d0\">\n",
              "    <div class=\"colab-df-container\">\n",
              "      <div>\n",
              "<style scoped>\n",
              "    .dataframe tbody tr th:only-of-type {\n",
              "        vertical-align: middle;\n",
              "    }\n",
              "\n",
              "    .dataframe tbody tr th {\n",
              "        vertical-align: top;\n",
              "    }\n",
              "\n",
              "    .dataframe thead th {\n",
              "        text-align: right;\n",
              "    }\n",
              "</style>\n",
              "<table border=\"1\" class=\"dataframe\">\n",
              "  <thead>\n",
              "    <tr style=\"text-align: right;\">\n",
              "      <th></th>\n",
              "      <th>name</th>\n",
              "      <th>source</th>\n",
              "      <th>detector</th>\n",
              "      <th>wavelength</th>\n",
              "      <th>source_pos</th>\n",
              "      <th>detector_pos</th>\n",
              "      <th>source_pos_3D</th>\n",
              "      <th>detector_pos_3d</th>\n",
              "    </tr>\n",
              "    <tr>\n",
              "      <th></th>\n",
              "      <th></th>\n",
              "      <th></th>\n",
              "      <th></th>\n",
              "      <th></th>\n",
              "      <th></th>\n",
              "      <th></th>\n",
              "      <th></th>\n",
              "      <th></th>\n",
              "    </tr>\n",
              "  </thead>\n",
              "  <tbody>\n",
              "    <tr>\n",
              "      <th>1</th>\n",
              "      <td>S1_D2_685</td>\n",
              "      <td>1</td>\n",
              "      <td>2</td>\n",
              "      <td>685</td>\n",
              "      <td>[-0.7356803125467147, -0.31736099489885317]</td>\n",
              "      <td>[-0.7994162867219375, -0.5078237711487235]</td>\n",
              "      <td>[-0.7356803125467147, -0.31736099489885317, 0....</td>\n",
              "      <td>[-0.7994162867219375, -0.5078237711487235, -0....</td>\n",
              "    </tr>\n",
              "    <tr>\n",
              "      <th>10</th>\n",
              "      <td>S2_D1_830</td>\n",
              "      <td>2</td>\n",
              "      <td>1</td>\n",
              "      <td>830</td>\n",
              "      <td>[-0.3906241672439174, 0.2388560049021952]</td>\n",
              "      <td>[-0.019720429240986857, 0.3711155846322631]</td>\n",
              "      <td>[-0.3906241672439174, 0.2388560049021952, 0.06...</td>\n",
              "      <td>[-0.019720429240986857, 0.3711155846322631, 0....</td>\n",
              "    </tr>\n",
              "    <tr>\n",
              "      <th>11</th>\n",
              "      <td>S2_D4_685</td>\n",
              "      <td>2</td>\n",
              "      <td>4</td>\n",
              "      <td>685</td>\n",
              "      <td>[-0.3906241672439174, 0.2388560049021952]</td>\n",
              "      <td>[-0.6391637018867674, 0.00930356002602185]</td>\n",
              "      <td>[-0.3906241672439174, 0.2388560049021952, 0.06...</td>\n",
              "      <td>[-0.6391637018867674, 0.00930356002602185, -0....</td>\n",
              "    </tr>\n",
              "    <tr>\n",
              "      <th>12</th>\n",
              "      <td>S2_D4_830</td>\n",
              "      <td>2</td>\n",
              "      <td>4</td>\n",
              "      <td>830</td>\n",
              "      <td>[-0.3906241672439174, 0.2388560049021952]</td>\n",
              "      <td>[-0.6391637018867674, 0.00930356002602185]</td>\n",
              "      <td>[-0.3906241672439174, 0.2388560049021952, 0.06...</td>\n",
              "      <td>[-0.6391637018867674, 0.00930356002602185, -0....</td>\n",
              "    </tr>\n",
              "    <tr>\n",
              "      <th>13</th>\n",
              "      <td>S2_D5_685</td>\n",
              "      <td>2</td>\n",
              "      <td>5</td>\n",
              "      <td>685</td>\n",
              "      <td>[-0.3906241672439174, 0.2388560049021952]</td>\n",
              "      <td>[-0.4296163680476065, 0.2658197590046889]</td>\n",
              "      <td>[-0.3906241672439174, 0.2388560049021952, 0.06...</td>\n",
              "      <td>[-0.4296163680476065, 0.2658197590046889, -0.1...</td>\n",
              "    </tr>\n",
              "  </tbody>\n",
              "</table>\n",
              "</div>\n",
              "      <button class=\"colab-df-convert\" onclick=\"convertToInteractive('df-a1ec559d-ce8c-47ad-869d-97cfde7408d0')\"\n",
              "              title=\"Convert this dataframe to an interactive table.\"\n",
              "              style=\"display:none;\">\n",
              "        \n",
              "  <svg xmlns=\"http://www.w3.org/2000/svg\" height=\"24px\"viewBox=\"0 0 24 24\"\n",
              "       width=\"24px\">\n",
              "    <path d=\"M0 0h24v24H0V0z\" fill=\"none\"/>\n",
              "    <path d=\"M18.56 5.44l.94 2.06.94-2.06 2.06-.94-2.06-.94-.94-2.06-.94 2.06-2.06.94zm-11 1L8.5 8.5l.94-2.06 2.06-.94-2.06-.94L8.5 2.5l-.94 2.06-2.06.94zm10 10l.94 2.06.94-2.06 2.06-.94-2.06-.94-.94-2.06-.94 2.06-2.06.94z\"/><path d=\"M17.41 7.96l-1.37-1.37c-.4-.4-.92-.59-1.43-.59-.52 0-1.04.2-1.43.59L10.3 9.45l-7.72 7.72c-.78.78-.78 2.05 0 2.83L4 21.41c.39.39.9.59 1.41.59.51 0 1.02-.2 1.41-.59l7.78-7.78 2.81-2.81c.8-.78.8-2.07 0-2.86zM5.41 20L4 18.59l7.72-7.72 1.47 1.35L5.41 20z\"/>\n",
              "  </svg>\n",
              "      </button>\n",
              "      \n",
              "  <style>\n",
              "    .colab-df-container {\n",
              "      display:flex;\n",
              "      flex-wrap:wrap;\n",
              "      gap: 12px;\n",
              "    }\n",
              "\n",
              "    .colab-df-convert {\n",
              "      background-color: #E8F0FE;\n",
              "      border: none;\n",
              "      border-radius: 50%;\n",
              "      cursor: pointer;\n",
              "      display: none;\n",
              "      fill: #1967D2;\n",
              "      height: 32px;\n",
              "      padding: 0 0 0 0;\n",
              "      width: 32px;\n",
              "    }\n",
              "\n",
              "    .colab-df-convert:hover {\n",
              "      background-color: #E2EBFA;\n",
              "      box-shadow: 0px 1px 2px rgba(60, 64, 67, 0.3), 0px 1px 3px 1px rgba(60, 64, 67, 0.15);\n",
              "      fill: #174EA6;\n",
              "    }\n",
              "\n",
              "    [theme=dark] .colab-df-convert {\n",
              "      background-color: #3B4455;\n",
              "      fill: #D2E3FC;\n",
              "    }\n",
              "\n",
              "    [theme=dark] .colab-df-convert:hover {\n",
              "      background-color: #434B5C;\n",
              "      box-shadow: 0px 1px 3px 1px rgba(0, 0, 0, 0.15);\n",
              "      filter: drop-shadow(0px 1px 2px rgba(0, 0, 0, 0.3));\n",
              "      fill: #FFFFFF;\n",
              "    }\n",
              "  </style>\n",
              "\n",
              "      <script>\n",
              "        const buttonEl =\n",
              "          document.querySelector('#df-a1ec559d-ce8c-47ad-869d-97cfde7408d0 button.colab-df-convert');\n",
              "        buttonEl.style.display =\n",
              "          google.colab.kernel.accessAllowed ? 'block' : 'none';\n",
              "\n",
              "        async function convertToInteractive(key) {\n",
              "          const element = document.querySelector('#df-a1ec559d-ce8c-47ad-869d-97cfde7408d0');\n",
              "          const dataTable =\n",
              "            await google.colab.kernel.invokeFunction('convertToInteractive',\n",
              "                                                     [key], {});\n",
              "          if (!dataTable) return;\n",
              "\n",
              "          const docLinkHtml = 'Like what you see? Visit the ' +\n",
              "            '<a target=\"_blank\" href=https://colab.research.google.com/notebooks/data_table.ipynb>data table notebook</a>'\n",
              "            + ' to learn more about interactive tables.';\n",
              "          element.innerHTML = '';\n",
              "          dataTable['output_type'] = 'display_data';\n",
              "          await google.colab.output.renderOutput(dataTable, element);\n",
              "          const docLink = document.createElement('div');\n",
              "          docLink.innerHTML = docLinkHtml;\n",
              "          element.appendChild(docLink);\n",
              "        }\n",
              "      </script>\n",
              "    </div>\n",
              "  </div>\n",
              "  "
            ],
            "text/plain": [
              "         name  ...                                    detector_pos_3d\n",
              "               ...                                                   \n",
              "1   S1_D2_685  ...  [-0.7994162867219375, -0.5078237711487235, -0....\n",
              "10  S2_D1_830  ...  [-0.019720429240986857, 0.3711155846322631, 0....\n",
              "11  S2_D4_685  ...  [-0.6391637018867674, 0.00930356002602185, -0....\n",
              "12  S2_D4_830  ...  [-0.6391637018867674, 0.00930356002602185, -0....\n",
              "13  S2_D5_685  ...  [-0.4296163680476065, 0.2658197590046889, -0.1...\n",
              "\n",
              "[5 rows x 8 columns]"
            ]
          },
          "metadata": {},
          "execution_count": 21
        }
      ]
    },
    {
      "cell_type": "markdown",
      "source": [
        "## Create Raw Table"
      ],
      "metadata": {
        "id": "qeF1OdJkma2T"
      }
    },
    {
      "cell_type": "code",
      "source": [
        "raw = pd.concat([pd.DataFrame(data1['time']), pd.DataFrame(data1['dataTimeSeries'])], axis=1)\n",
        "raw.columns = ['time'] + list(measures.name) \n",
        "raw.head()"
      ],
      "metadata": {
        "colab": {
          "base_uri": "https://localhost:8080/",
          "height": 270
        },
        "id": "twxr4pXd7lzA",
        "outputId": "522ffb91-9020-4cc0-e28d-0b7453e824d4"
      },
      "execution_count": 22,
      "outputs": [
        {
          "output_type": "execute_result",
          "data": {
            "text/html": [
              "\n",
              "  <div id=\"df-b39cfdc6-602a-483c-8ca3-ec1378d33458\">\n",
              "    <div class=\"colab-df-container\">\n",
              "      <div>\n",
              "<style scoped>\n",
              "    .dataframe tbody tr th:only-of-type {\n",
              "        vertical-align: middle;\n",
              "    }\n",
              "\n",
              "    .dataframe tbody tr th {\n",
              "        vertical-align: top;\n",
              "    }\n",
              "\n",
              "    .dataframe thead th {\n",
              "        text-align: right;\n",
              "    }\n",
              "</style>\n",
              "<table border=\"1\" class=\"dataframe\">\n",
              "  <thead>\n",
              "    <tr style=\"text-align: right;\">\n",
              "      <th></th>\n",
              "      <th>time</th>\n",
              "      <th>S1_D2_685</th>\n",
              "      <th>S2_D1_830</th>\n",
              "      <th>S2_D4_685</th>\n",
              "      <th>S2_D4_830</th>\n",
              "      <th>S2_D5_685</th>\n",
              "      <th>S2_D5_830</th>\n",
              "      <th>S2_D13_685</th>\n",
              "      <th>S2_D13_830</th>\n",
              "      <th>S3_D10_685</th>\n",
              "      <th>S3_D10_830</th>\n",
              "      <th>S3_D6_685</th>\n",
              "      <th>S1_D2_830</th>\n",
              "      <th>S3_D6_830</th>\n",
              "      <th>S3_D7_685</th>\n",
              "      <th>S3_D7_830</th>\n",
              "      <th>S3_D8_685</th>\n",
              "      <th>S3_D8_830</th>\n",
              "      <th>S4_D1_685</th>\n",
              "      <th>S4_D1_830</th>\n",
              "      <th>S4_D11_685</th>\n",
              "      <th>S4_D11_830</th>\n",
              "      <th>S4_D8_685</th>\n",
              "      <th>S1_D3_685</th>\n",
              "      <th>S4_D8_830</th>\n",
              "      <th>S4_D9_685</th>\n",
              "      <th>S4_D9_830</th>\n",
              "      <th>S1_D3_830</th>\n",
              "      <th>S1_D4_685</th>\n",
              "      <th>S1_D4_830</th>\n",
              "      <th>S1_D12_685</th>\n",
              "      <th>S1_D12_830</th>\n",
              "      <th>S2_D1_685</th>\n",
              "    </tr>\n",
              "  </thead>\n",
              "  <tbody>\n",
              "    <tr>\n",
              "      <th>0</th>\n",
              "      <td>0.0</td>\n",
              "      <td>8252.912109</td>\n",
              "      <td>52562.117188</td>\n",
              "      <td>1300.206665</td>\n",
              "      <td>14096.754883</td>\n",
              "      <td>5420.255371</td>\n",
              "      <td>35773.769531</td>\n",
              "      <td>3426.891846</td>\n",
              "      <td>17720.560547</td>\n",
              "      <td>430.986755</td>\n",
              "      <td>1481.375488</td>\n",
              "      <td>1084.673218</td>\n",
              "      <td>6293.525391</td>\n",
              "      <td>8338.804688</td>\n",
              "      <td>32351.064453</td>\n",
              "      <td>542.619690</td>\n",
              "      <td>2530.424805</td>\n",
              "      <td>899.483154</td>\n",
              "      <td>5419.706543</td>\n",
              "      <td>8939.895508</td>\n",
              "      <td>37235.007812</td>\n",
              "      <td>2852.900146</td>\n",
              "      <td>16319.877930</td>\n",
              "      <td>2691.202637</td>\n",
              "      <td>18369.376953</td>\n",
              "      <td>11026.172852</td>\n",
              "      <td>33346.824219</td>\n",
              "      <td>2705.045166</td>\n",
              "      <td>6444.630371</td>\n",
              "      <td>3014.802246</td>\n",
              "      <td>10765.773438</td>\n",
              "      <td>13172.582031</td>\n",
              "      <td>30798.843750</td>\n",
              "    </tr>\n",
              "    <tr>\n",
              "      <th>1</th>\n",
              "      <td>0.1</td>\n",
              "      <td>7592.035156</td>\n",
              "      <td>49904.746094</td>\n",
              "      <td>1158.938477</td>\n",
              "      <td>13884.893555</td>\n",
              "      <td>5294.812500</td>\n",
              "      <td>34793.574219</td>\n",
              "      <td>3472.167969</td>\n",
              "      <td>17957.759766</td>\n",
              "      <td>356.349518</td>\n",
              "      <td>1576.356567</td>\n",
              "      <td>1213.738892</td>\n",
              "      <td>6263.340332</td>\n",
              "      <td>8620.742188</td>\n",
              "      <td>33782.871094</td>\n",
              "      <td>589.084045</td>\n",
              "      <td>2787.306152</td>\n",
              "      <td>958.088684</td>\n",
              "      <td>5458.232422</td>\n",
              "      <td>8812.347656</td>\n",
              "      <td>34618.523438</td>\n",
              "      <td>3018.903809</td>\n",
              "      <td>17727.355469</td>\n",
              "      <td>2763.215332</td>\n",
              "      <td>17649.779297</td>\n",
              "      <td>10421.363281</td>\n",
              "      <td>32851.914062</td>\n",
              "      <td>2728.173340</td>\n",
              "      <td>6645.173340</td>\n",
              "      <td>2724.812500</td>\n",
              "      <td>10159.783203</td>\n",
              "      <td>12816.060547</td>\n",
              "      <td>31034.431641</td>\n",
              "    </tr>\n",
              "    <tr>\n",
              "      <th>2</th>\n",
              "      <td>0.2</td>\n",
              "      <td>7806.838379</td>\n",
              "      <td>50757.148438</td>\n",
              "      <td>1229.424072</td>\n",
              "      <td>13971.141602</td>\n",
              "      <td>5323.121094</td>\n",
              "      <td>35363.679688</td>\n",
              "      <td>3495.104492</td>\n",
              "      <td>18179.287109</td>\n",
              "      <td>301.552002</td>\n",
              "      <td>1577.901489</td>\n",
              "      <td>1164.146606</td>\n",
              "      <td>6444.322266</td>\n",
              "      <td>8622.803711</td>\n",
              "      <td>34233.957031</td>\n",
              "      <td>587.684021</td>\n",
              "      <td>2834.211914</td>\n",
              "      <td>967.276611</td>\n",
              "      <td>5498.581055</td>\n",
              "      <td>9057.722656</td>\n",
              "      <td>35191.839844</td>\n",
              "      <td>3112.246826</td>\n",
              "      <td>17980.371094</td>\n",
              "      <td>2819.403320</td>\n",
              "      <td>17920.154297</td>\n",
              "      <td>10584.108398</td>\n",
              "      <td>33159.882812</td>\n",
              "      <td>2738.663574</td>\n",
              "      <td>6709.832031</td>\n",
              "      <td>2812.317139</td>\n",
              "      <td>10314.124023</td>\n",
              "      <td>12879.951172</td>\n",
              "      <td>31389.568359</td>\n",
              "    </tr>\n",
              "    <tr>\n",
              "      <th>3</th>\n",
              "      <td>0.3</td>\n",
              "      <td>7832.388184</td>\n",
              "      <td>50923.476562</td>\n",
              "      <td>1172.728271</td>\n",
              "      <td>13939.741211</td>\n",
              "      <td>5282.297363</td>\n",
              "      <td>35358.328125</td>\n",
              "      <td>3490.140625</td>\n",
              "      <td>18183.322266</td>\n",
              "      <td>392.067047</td>\n",
              "      <td>1588.546265</td>\n",
              "      <td>1178.789062</td>\n",
              "      <td>6447.038086</td>\n",
              "      <td>8608.253906</td>\n",
              "      <td>34211.789062</td>\n",
              "      <td>587.790283</td>\n",
              "      <td>2826.756104</td>\n",
              "      <td>965.268494</td>\n",
              "      <td>5485.475586</td>\n",
              "      <td>9070.246094</td>\n",
              "      <td>35121.339844</td>\n",
              "      <td>3010.352051</td>\n",
              "      <td>17971.714844</td>\n",
              "      <td>2747.456787</td>\n",
              "      <td>17836.015625</td>\n",
              "      <td>10513.363281</td>\n",
              "      <td>33188.238281</td>\n",
              "      <td>2731.593994</td>\n",
              "      <td>6722.302246</td>\n",
              "      <td>2789.634277</td>\n",
              "      <td>10454.127930</td>\n",
              "      <td>12911.707031</td>\n",
              "      <td>31413.550781</td>\n",
              "    </tr>\n",
              "    <tr>\n",
              "      <th>4</th>\n",
              "      <td>0.4</td>\n",
              "      <td>7851.699219</td>\n",
              "      <td>50846.230469</td>\n",
              "      <td>1185.281006</td>\n",
              "      <td>14011.913086</td>\n",
              "      <td>5277.338867</td>\n",
              "      <td>35377.632812</td>\n",
              "      <td>3486.728027</td>\n",
              "      <td>18243.167969</td>\n",
              "      <td>362.060547</td>\n",
              "      <td>1797.701904</td>\n",
              "      <td>1067.134399</td>\n",
              "      <td>6588.869141</td>\n",
              "      <td>8633.307617</td>\n",
              "      <td>34220.796875</td>\n",
              "      <td>583.019409</td>\n",
              "      <td>2829.911377</td>\n",
              "      <td>974.716858</td>\n",
              "      <td>5499.685547</td>\n",
              "      <td>9081.237305</td>\n",
              "      <td>35668.765625</td>\n",
              "      <td>3141.687012</td>\n",
              "      <td>17929.378906</td>\n",
              "      <td>2808.352051</td>\n",
              "      <td>17951.964844</td>\n",
              "      <td>10454.154297</td>\n",
              "      <td>33364.359375</td>\n",
              "      <td>2737.253174</td>\n",
              "      <td>6737.093262</td>\n",
              "      <td>2740.896973</td>\n",
              "      <td>10386.346680</td>\n",
              "      <td>12909.279297</td>\n",
              "      <td>31489.972656</td>\n",
              "    </tr>\n",
              "  </tbody>\n",
              "</table>\n",
              "</div>\n",
              "      <button class=\"colab-df-convert\" onclick=\"convertToInteractive('df-b39cfdc6-602a-483c-8ca3-ec1378d33458')\"\n",
              "              title=\"Convert this dataframe to an interactive table.\"\n",
              "              style=\"display:none;\">\n",
              "        \n",
              "  <svg xmlns=\"http://www.w3.org/2000/svg\" height=\"24px\"viewBox=\"0 0 24 24\"\n",
              "       width=\"24px\">\n",
              "    <path d=\"M0 0h24v24H0V0z\" fill=\"none\"/>\n",
              "    <path d=\"M18.56 5.44l.94 2.06.94-2.06 2.06-.94-2.06-.94-.94-2.06-.94 2.06-2.06.94zm-11 1L8.5 8.5l.94-2.06 2.06-.94-2.06-.94L8.5 2.5l-.94 2.06-2.06.94zm10 10l.94 2.06.94-2.06 2.06-.94-2.06-.94-.94-2.06-.94 2.06-2.06.94z\"/><path d=\"M17.41 7.96l-1.37-1.37c-.4-.4-.92-.59-1.43-.59-.52 0-1.04.2-1.43.59L10.3 9.45l-7.72 7.72c-.78.78-.78 2.05 0 2.83L4 21.41c.39.39.9.59 1.41.59.51 0 1.02-.2 1.41-.59l7.78-7.78 2.81-2.81c.8-.78.8-2.07 0-2.86zM5.41 20L4 18.59l7.72-7.72 1.47 1.35L5.41 20z\"/>\n",
              "  </svg>\n",
              "      </button>\n",
              "      \n",
              "  <style>\n",
              "    .colab-df-container {\n",
              "      display:flex;\n",
              "      flex-wrap:wrap;\n",
              "      gap: 12px;\n",
              "    }\n",
              "\n",
              "    .colab-df-convert {\n",
              "      background-color: #E8F0FE;\n",
              "      border: none;\n",
              "      border-radius: 50%;\n",
              "      cursor: pointer;\n",
              "      display: none;\n",
              "      fill: #1967D2;\n",
              "      height: 32px;\n",
              "      padding: 0 0 0 0;\n",
              "      width: 32px;\n",
              "    }\n",
              "\n",
              "    .colab-df-convert:hover {\n",
              "      background-color: #E2EBFA;\n",
              "      box-shadow: 0px 1px 2px rgba(60, 64, 67, 0.3), 0px 1px 3px 1px rgba(60, 64, 67, 0.15);\n",
              "      fill: #174EA6;\n",
              "    }\n",
              "\n",
              "    [theme=dark] .colab-df-convert {\n",
              "      background-color: #3B4455;\n",
              "      fill: #D2E3FC;\n",
              "    }\n",
              "\n",
              "    [theme=dark] .colab-df-convert:hover {\n",
              "      background-color: #434B5C;\n",
              "      box-shadow: 0px 1px 3px 1px rgba(0, 0, 0, 0.15);\n",
              "      filter: drop-shadow(0px 1px 2px rgba(0, 0, 0, 0.3));\n",
              "      fill: #FFFFFF;\n",
              "    }\n",
              "  </style>\n",
              "\n",
              "      <script>\n",
              "        const buttonEl =\n",
              "          document.querySelector('#df-b39cfdc6-602a-483c-8ca3-ec1378d33458 button.colab-df-convert');\n",
              "        buttonEl.style.display =\n",
              "          google.colab.kernel.accessAllowed ? 'block' : 'none';\n",
              "\n",
              "        async function convertToInteractive(key) {\n",
              "          const element = document.querySelector('#df-b39cfdc6-602a-483c-8ca3-ec1378d33458');\n",
              "          const dataTable =\n",
              "            await google.colab.kernel.invokeFunction('convertToInteractive',\n",
              "                                                     [key], {});\n",
              "          if (!dataTable) return;\n",
              "\n",
              "          const docLinkHtml = 'Like what you see? Visit the ' +\n",
              "            '<a target=\"_blank\" href=https://colab.research.google.com/notebooks/data_table.ipynb>data table notebook</a>'\n",
              "            + ' to learn more about interactive tables.';\n",
              "          element.innerHTML = '';\n",
              "          dataTable['output_type'] = 'display_data';\n",
              "          await google.colab.output.renderOutput(dataTable, element);\n",
              "          const docLink = document.createElement('div');\n",
              "          docLink.innerHTML = docLinkHtml;\n",
              "          element.appendChild(docLink);\n",
              "        }\n",
              "      </script>\n",
              "    </div>\n",
              "  </div>\n",
              "  "
            ],
            "text/plain": [
              "   time    S1_D2_685     S2_D1_830  ...    S1_D12_685    S1_D12_830     S2_D1_685\n",
              "0   0.0  8252.912109  52562.117188  ...  10765.773438  13172.582031  30798.843750\n",
              "1   0.1  7592.035156  49904.746094  ...  10159.783203  12816.060547  31034.431641\n",
              "2   0.2  7806.838379  50757.148438  ...  10314.124023  12879.951172  31389.568359\n",
              "3   0.3  7832.388184  50923.476562  ...  10454.127930  12911.707031  31413.550781\n",
              "4   0.4  7851.699219  50846.230469  ...  10386.346680  12909.279297  31489.972656\n",
              "\n",
              "[5 rows x 33 columns]"
            ]
          },
          "metadata": {},
          "execution_count": 22
        }
      ]
    },
    {
      "cell_type": "code",
      "metadata": {
        "id": "I100z5wfBeI9"
      },
      "source": [
        "def plotchannels(df, ncols_display=4, title='Display Channels',reds=False):\n",
        "  nr_channels = len(df.columns) - 1\n",
        "  ncols= ncols_display\n",
        "  if nr_channels%ncols == 0:\n",
        "    nrows= int(nr_channels/ncols)\n",
        "  else:\n",
        "    nrows= int(nr_channels/ncols + 1)\n",
        "\n",
        "  fig, ax = plt.subplots(nrows=nrows, ncols=ncols, sharex=True, sharey=False, figsize=(ncols*5,nrows*3.5))\n",
        "\n",
        "  i = 0\n",
        "  for c in df.drop(columns='time'):\n",
        "    if reds:\n",
        "      ax[i//ncols,i%ncols].plot(df.index, df[c], color=['blue','red'][df[c].min() < 0] )\n",
        "    else:\n",
        "      ax[i//ncols,i%ncols].plot(df.index, df[c], color='blue')\n",
        "    ax[i//ncols,i%ncols].set_title(c, fontsize=12, weight='bold')\n",
        "    i = i + 1\n",
        "    plt.xticks([])\n",
        "  \n",
        "  plt.suptitle(title, fontsize=14, weight='bold',y=0.90)\n",
        "  plt.show()\n",
        "\n",
        "  return\n",
        "\n",
        "def remove_outlier(df_in, col_name):\n",
        "    q1 = df_in[col_name].quantile(0.25)\n",
        "    q3 = df_in[col_name].quantile(0.75)\n",
        "    iqr = q3-q1 #Interquartile range\n",
        "    fence_low  = q1-1.5*iqr\n",
        "    fence_high = q3+1.5*iqr\n",
        "    df_out = df_in.loc[(df_in[col_name] > fence_low) & (df_in[col_name] < fence_high)]\n",
        "    return df_out  "
      ],
      "execution_count": 23,
      "outputs": []
    },
    {
      "cell_type": "code",
      "source": [
        "plotchannels(raw,reds=True)"
      ],
      "metadata": {
        "colab": {
          "base_uri": "https://localhost:8080/",
          "height": 1000
        },
        "id": "g5uvoTep-XtJ",
        "outputId": "74804665-0658-40c9-d0bd-8290424f692e"
      },
      "execution_count": 24,
      "outputs": [
        {
          "output_type": "display_data",
          "data": {
            "image/png": "[encoded data removed]",
            "text/plain": [
              "<Figure size 1440x2016 with 32 Axes>"
            ]
          },
          "metadata": {
            "needs_background": "light"
          }
        }
      ]
    },
    {
      "cell_type": "markdown",
      "source": [
        "### Correct `time` \n",
        "\n",
        "Only regular steps for time (in NME causes `sfreq` error)."
      ],
      "metadata": {
        "id": "RR62OOJnqH30"
      }
    },
    {
      "cell_type": "code",
      "source": [
        "data1['time'][0:10]"
      ],
      "metadata": {
        "colab": {
          "base_uri": "https://localhost:8080/"
        },
        "id": "e6ZH-Q0affrL",
        "outputId": "2025207c-b54d-4df7-f616-cd87ff013a46"
      },
      "execution_count": 25,
      "outputs": [
        {
          "output_type": "execute_result",
          "data": {
            "text/plain": [
              "array([0.        , 0.1       , 0.2       , 0.30000001, 0.40000001,\n",
              "       0.5       , 0.60000002, 0.69999999, 0.80000001, 0.89999998])"
            ]
          },
          "metadata": {},
          "execution_count": 25
        }
      ]
    },
    {
      "cell_type": "code",
      "source": [
        "data1['time'].shape[0]"
      ],
      "metadata": {
        "colab": {
          "base_uri": "https://localhost:8080/"
        },
        "id": "YILfm7KrgBP0",
        "outputId": "3f40526e-73d9-413a-9ffe-3f8849ae488c"
      },
      "execution_count": 26,
      "outputs": [
        {
          "output_type": "execute_result",
          "data": {
            "text/plain": [
              "20242"
            ]
          },
          "metadata": {},
          "execution_count": 26
        }
      ]
    },
    {
      "cell_type": "code",
      "source": [
        "data1['time'][...] = np.arange(1, data1['time'].shape[0]+1, 1) / 10"
      ],
      "metadata": {
        "id": "RPxLmgcgfwUL"
      },
      "execution_count": 27,
      "outputs": []
    },
    {
      "cell_type": "markdown",
      "source": [
        "### Raw with bad signals (negative) receive all $0$"
      ],
      "metadata": {
        "id": "kBeWlcURpo99"
      }
    },
    {
      "cell_type": "code",
      "source": [
        "for c in raw.drop(columns='time'):\n",
        "  if raw[c].min() < 0:\n",
        "    print( c, list(raw.columns).index(c) - 1 )"
      ],
      "metadata": {
        "id": "d5YGvVTDM9hU"
      },
      "execution_count": 28,
      "outputs": []
    },
    {
      "cell_type": "code",
      "source": [
        "for c in raw.drop(columns='time'):\n",
        "  if raw[c].min() < 0:\n",
        "#    raw[c] = 0\n",
        "    print( c, list(raw.columns).index(c) - 1 )\n",
        "    data1['dataTimeSeries'][:, list(raw.columns).index(c) - 1 ] = .0 "
      ],
      "metadata": {
        "id": "W-DF5RJCNDoS"
      },
      "execution_count": 29,
      "outputs": []
    },
    {
      "cell_type": "code",
      "source": [
        "for c in raw.drop(columns='time'):\n",
        "  if raw[c].min() < 0:\n",
        "    raw[c] = .0 \n",
        "    print( c, list(raw.columns).index(c) - 1 )\n",
        "#   data1['dataTimeSeries'][:, list(raw.columns).index(c) - 1 ] = 0"
      ],
      "metadata": {
        "id": "8smFcFIDUud3"
      },
      "execution_count": 30,
      "outputs": []
    },
    {
      "cell_type": "markdown",
      "source": [
        "## Create Stimulus from Stimulus or Aux"
      ],
      "metadata": {
        "id": "mLqbtLLMqyjz"
      }
    },
    {
      "cell_type": "code",
      "source": [
        "stim_list = [x for x in list(data['nirs'].keys()) if x.find('stim') == 0]"
      ],
      "metadata": {
        "id": "wo_WdX8NVjIZ"
      },
      "execution_count": 31,
      "outputs": []
    },
    {
      "cell_type": "code",
      "source": [
        "stim_list"
      ],
      "metadata": {
        "colab": {
          "base_uri": "https://localhost:8080/"
        },
        "id": "1SIvNkslMNnx",
        "outputId": "99e9b25e-3b47-4e1d-d5cf-fc3f89d7c930"
      },
      "execution_count": 32,
      "outputs": [
        {
          "output_type": "execute_result",
          "data": {
            "text/plain": [
              "['stim01', 'stim1']"
            ]
          },
          "metadata": {},
          "execution_count": 32
        }
      ]
    },
    {
      "cell_type": "code",
      "source": [
        "stim_true = False\n",
        "\n",
        "for s in stim_list:\n",
        "  if list(data['nirs'][s].keys()) == ['data','name']: # data, name\n",
        "    if data['nirs'][s]['data'].shape[1] == 3: # start, duration, value\n",
        "      stim_true = True\n",
        "\n",
        "if not stim_true:\n",
        "  print('\\nWARNING: it seems there is no valid stim records. At least a stim record without start, duration, value. Trying to use stimulus from aux channels.\\n')\n",
        "else:\n",
        "  print('\\nWARNING: using stim records for stimulus.\\n') "
      ],
      "metadata": {
        "colab": {
          "base_uri": "https://localhost:8080/"
        },
        "id": "iKNEnNzftQgZ",
        "outputId": "72342e2a-f355-45dc-e07b-257f62848563"
      },
      "execution_count": 33,
      "outputs": [
        {
          "output_type": "stream",
          "name": "stdout",
          "text": [
            "\n",
            "WARNING: it seems there is no valid stim records. At least a stim record without start, duration, value. Trying to use stimulus from aux channels.\n",
            "\n"
          ]
        }
      ]
    },
    {
      "cell_type": "code",
      "source": [
        "if not stim_true:\n",
        "  for s in stim_list:\n",
        "    del data['nirs'][s]\n",
        "    print('WARNING: stimulus record ' + s + ' deleted')"
      ],
      "metadata": {
        "id": "HNjnX05XMmuN",
        "outputId": "ceb482e6-a2f8-4f5a-c85a-da2bba20ce97",
        "colab": {
          "base_uri": "https://localhost:8080/"
        }
      },
      "execution_count": 34,
      "outputs": [
        {
          "output_type": "stream",
          "name": "stdout",
          "text": [
            "WARNING: stimulus record stim01 deleted\n",
            "WARNING: stimulus record stim1 deleted\n"
          ]
        }
      ]
    },
    {
      "cell_type": "code",
      "source": [
        "aux_list = [x for x in list(data['nirs'].keys()) if x.find('aux') == 0]\n",
        "aux_list"
      ],
      "metadata": {
        "colab": {
          "base_uri": "https://localhost:8080/"
        },
        "id": "2GqtRQF8kXLp",
        "outputId": "b7ffa973-eef1-441c-acf4-c30602be20e3"
      },
      "execution_count": 35,
      "outputs": [
        {
          "output_type": "execute_result",
          "data": {
            "text/plain": [
              "['aux1', 'aux2', 'aux3', 'aux4', 'aux5', 'aux6', 'aux7', 'aux8']"
            ]
          },
          "metadata": {},
          "execution_count": 35
        }
      ]
    },
    {
      "cell_type": "code",
      "source": [
        "for a in aux_list:\n",
        "  print( data['nirs'][a].keys() )\n",
        "\n",
        "stim_aux = False\n",
        "\n",
        "for a in aux_list:\n",
        "  if list(data['nirs'][a].keys()) == ['dataTimeSeries', 'name', 'time', 'timeOffset']: \n",
        "    stim_aux = True\n",
        "\n",
        "if not stim_aux:\n",
        "  print('\\nWARNING: it seems there is no valid aux stim records. At least a aux record without dataTimeSeries, name, time or timeOffset. No stimulus data available.\\n')\n",
        "else:\n",
        "  print('\\nWARNING: using aux stim records for stimulus.\\n') "
      ],
      "metadata": {
        "colab": {
          "base_uri": "https://localhost:8080/"
        },
        "id": "J4s-vxE7ke7Q",
        "outputId": "df3afdd1-95a7-4be3-9974-af14e23442b3"
      },
      "execution_count": 36,
      "outputs": [
        {
          "output_type": "stream",
          "name": "stdout",
          "text": [
            "<KeysViewHDF5 ['dataTimeSeries', 'name', 'time', 'timeOffset']>\n",
            "<KeysViewHDF5 ['dataTimeSeries', 'name', 'time', 'timeOffset']>\n",
            "<KeysViewHDF5 ['dataTimeSeries', 'name', 'time', 'timeOffset']>\n",
            "<KeysViewHDF5 ['dataTimeSeries', 'name', 'time', 'timeOffset']>\n",
            "<KeysViewHDF5 ['dataTimeSeries', 'name', 'time', 'timeOffset']>\n",
            "<KeysViewHDF5 ['dataTimeSeries', 'name', 'time', 'timeOffset']>\n",
            "<KeysViewHDF5 ['dataTimeSeries', 'name', 'time', 'timeOffset']>\n",
            "<KeysViewHDF5 ['dataTimeSeries', 'name', 'time', 'timeOffset']>\n",
            "\n",
            "WARNING: using aux stim records for stimulus.\n",
            "\n"
          ]
        }
      ]
    },
    {
      "cell_type": "code",
      "source": [
        "if stim_true:\n",
        "\n",
        "  stim_name_set = set() \n",
        "\n",
        "  for s in stim_list: \n",
        "    stim_name_set.add( data['nirs'][s]['name'][0].decode('utf8') )\n",
        "\n",
        "  stim_name_set = list(stim_name_set)\n",
        "  stim_name_set "
      ],
      "metadata": {
        "id": "DbJAFketuayU"
      },
      "execution_count": 37,
      "outputs": []
    },
    {
      "cell_type": "code",
      "source": [
        "for a in aux_list:\n",
        "  data['nirs'][a]['time'][...] = data1['time'][:] # ajusta o tempo\n",
        "  data['nirs'][a]['dataTimeSeries'][:] = np.round(   data['nirs'][a]['dataTimeSeries'][:], 0) # ajusta o impulso"
      ],
      "metadata": {
        "id": "X-UH0AIqOCVm"
      },
      "execution_count": 38,
      "outputs": []
    },
    {
      "cell_type": "markdown",
      "source": [
        "# Create Stimulus from Aux"
      ],
      "metadata": {
        "id": "Rzr35kXkIAHl"
      }
    },
    {
      "cell_type": "code",
      "source": [
        "for a in aux_list:\n",
        "\n",
        "  stim = 'stim' + a.split('aux')[1]\n",
        "  data['nirs'].create_group(stim)\n",
        "  data['nirs'][stim].create_dataset('name', data=np.array([data['nirs'][a]['name'][0]]).astype('|O'))\n",
        "\n",
        "  start = []\n",
        "  end = []\n",
        "  value = []\n",
        "\n",
        "  start_bool = False\n",
        "\n",
        "  for i in range( len( aux1['dataTimeSeries'] ) ):\n",
        "    if data['nirs'][a]['dataTimeSeries'][i] != 0 and not start_bool:\n",
        "      value.append( data['nirs'][a]['dataTimeSeries'][i] )\n",
        "      start.append( data['nirs'][a]['time'][i] )\n",
        "      start_bool = True\n",
        "    else: \n",
        "      if data['nirs'][a]['dataTimeSeries'][i] == 0 and start_bool:  \n",
        "        end.append( data['nirs'][a]['time'][i-1] )\n",
        "        start_bool = False\n",
        "\n",
        "  data['nirs'][stim].create_dataset('data', data=np.array( [np.array(start) , np.array(end) - np.array(start) , np.array(value)] ).T)\n"
      ],
      "metadata": {
        "id": "AJeSzuTQqP6V"
      },
      "execution_count": 39,
      "outputs": []
    },
    {
      "cell_type": "code",
      "source": [
        "for a in aux_list:\n",
        "  if data['nirs'][a]['timeOffset'][0] != 0:\n",
        "    print('WARNING: aux record ' + a + ' with timeOffset different from 0. timeOffset will be ignored when transformed to stim records.')"
      ],
      "metadata": {
        "id": "Ktz7IcemVQfN"
      },
      "execution_count": 40,
      "outputs": []
    },
    {
      "cell_type": "code",
      "source": [
        "data['nirs']['stim2']['data'][:]"
      ],
      "metadata": {
        "id": "zSs0MHawS10l",
        "outputId": "5cfa3faa-54dc-4077-eb03-4123c8d747b5",
        "colab": {
          "base_uri": "https://localhost:8080/"
        }
      },
      "execution_count": 41,
      "outputs": [
        {
          "output_type": "execute_result",
          "data": {
            "text/plain": [
              "array([[ 249.6,   36.1,    5. ],\n",
              "       [ 577.9,   49. ,    5. ],\n",
              "       [1328.4,   22.2,    5. ],\n",
              "       [1368.7,   22.2,    5. ],\n",
              "       [1719.8,   23. ,    5. ]])"
            ]
          },
          "metadata": {},
          "execution_count": 41
        }
      ]
    },
    {
      "cell_type": "code",
      "source": [
        "data['nirs']['stim2']['name'][0]"
      ],
      "metadata": {
        "id": "5jS6sy-tr8zE",
        "outputId": "84f33c96-d208-403b-840d-7ecd0ca95e9d",
        "colab": {
          "base_uri": "https://localhost:8080/"
        }
      },
      "execution_count": 42,
      "outputs": [
        {
          "output_type": "execute_result",
          "data": {
            "text/plain": [
              "b'aux2'"
            ]
          },
          "metadata": {},
          "execution_count": 42
        }
      ]
    },
    {
      "cell_type": "code",
      "source": [
        "stim_true = True\n",
        "\n",
        "stim_list = [x for x in list(data['nirs'].keys()) if x.find('stim') == 0]\n",
        "\n",
        "\n",
        "\n",
        "  "
      ],
      "metadata": {
        "id": "DQg36StfVDtt"
      },
      "execution_count": 43,
      "outputs": []
    },
    {
      "cell_type": "code",
      "source": [
        "# del data['nirs']['stim9']\n",
        "stim_list = [x for x in list(data['nirs'].keys()) if x.find('stim') == 0]"
      ],
      "metadata": {
        "id": "ZLDenH0GmSLk"
      },
      "execution_count": 44,
      "outputs": []
    },
    {
      "cell_type": "markdown",
      "source": [
        "# Retifica estímulos para 18s"
      ],
      "metadata": {
        "id": "xLkCqbB4eRDr"
      }
    },
    {
      "cell_type": "code",
      "source": [
        "if stim_true:\n",
        "  for s in stim_list:\n",
        "    data['nirs'][s]['data'][:,1] = np.ones( data['nirs'][s]['data'].shape[0] )*18\n",
        "  \n",
        "  data['nirs']['stim1']['data'][:] "
      ],
      "metadata": {
        "id": "Mcs-XDulfYW7"
      },
      "execution_count": 45,
      "outputs": []
    },
    {
      "cell_type": "code",
      "source": [
        "start = []\n",
        "stim_ = []\n",
        "\n",
        "if stim_true:\n",
        "  for s in stim_list[0:-1]:\n",
        "    for i in range( data['nirs'][s]['data'].shape[0] ):\n",
        "      start.append( data['nirs'][s]['data'][i,0] )\n",
        "      stim_.append(s)\n",
        "\n",
        "\n",
        "  df_temp = pd.DataFrame({'stim_':stim_, 'start':start}) \n"
      ],
      "metadata": {
        "id": "z_uYdf8447bP"
      },
      "execution_count": 46,
      "outputs": []
    },
    {
      "cell_type": "code",
      "source": [
        "df_temp = df_temp.sort_values('start')"
      ],
      "metadata": {
        "id": "6p5ID9Vn8M7t"
      },
      "execution_count": 47,
      "outputs": []
    },
    {
      "cell_type": "code",
      "source": [
        "df_temp.reset_index(drop=True, inplace=True)\n",
        "df_temp"
      ],
      "metadata": {
        "colab": {
          "base_uri": "https://localhost:8080/",
          "height": 1000
        },
        "id": "YRe2eOyf8X_U",
        "outputId": "05bbc113-dc0f-4c61-e037-95fea7a237f7"
      },
      "execution_count": 48,
      "outputs": [
        {
          "output_type": "execute_result",
          "data": {
            "text/html": [
              "\n",
              "  <div id=\"df-48258840-2416-41b2-a694-e646877f8003\">\n",
              "    <div class=\"colab-df-container\">\n",
              "      <div>\n",
              "<style scoped>\n",
              "    .dataframe tbody tr th:only-of-type {\n",
              "        vertical-align: middle;\n",
              "    }\n",
              "\n",
              "    .dataframe tbody tr th {\n",
              "        vertical-align: top;\n",
              "    }\n",
              "\n",
              "    .dataframe thead th {\n",
              "        text-align: right;\n",
              "    }\n",
              "</style>\n",
              "<table border=\"1\" class=\"dataframe\">\n",
              "  <thead>\n",
              "    <tr style=\"text-align: right;\">\n",
              "      <th></th>\n",
              "      <th>stim_</th>\n",
              "      <th>start</th>\n",
              "    </tr>\n",
              "  </thead>\n",
              "  <tbody>\n",
              "    <tr>\n",
              "      <th>0</th>\n",
              "      <td>stim6</td>\n",
              "      <td>76.3</td>\n",
              "    </tr>\n",
              "    <tr>\n",
              "      <th>1</th>\n",
              "      <td>stim6</td>\n",
              "      <td>130.8</td>\n",
              "    </tr>\n",
              "    <tr>\n",
              "      <th>2</th>\n",
              "      <td>stim5</td>\n",
              "      <td>182.7</td>\n",
              "    </tr>\n",
              "    <tr>\n",
              "      <th>3</th>\n",
              "      <td>stim2</td>\n",
              "      <td>249.6</td>\n",
              "    </tr>\n",
              "    <tr>\n",
              "      <th>4</th>\n",
              "      <td>stim5</td>\n",
              "      <td>303.8</td>\n",
              "    </tr>\n",
              "    <tr>\n",
              "      <th>5</th>\n",
              "      <td>stim7</td>\n",
              "      <td>355.0</td>\n",
              "    </tr>\n",
              "    <tr>\n",
              "      <th>6</th>\n",
              "      <td>stim4</td>\n",
              "      <td>411.5</td>\n",
              "    </tr>\n",
              "    <tr>\n",
              "      <th>7</th>\n",
              "      <td>stim6</td>\n",
              "      <td>524.8</td>\n",
              "    </tr>\n",
              "    <tr>\n",
              "      <th>8</th>\n",
              "      <td>stim2</td>\n",
              "      <td>577.9</td>\n",
              "    </tr>\n",
              "    <tr>\n",
              "      <th>9</th>\n",
              "      <td>stim5</td>\n",
              "      <td>645.0</td>\n",
              "    </tr>\n",
              "    <tr>\n",
              "      <th>10</th>\n",
              "      <td>stim7</td>\n",
              "      <td>691.3</td>\n",
              "    </tr>\n",
              "    <tr>\n",
              "      <th>11</th>\n",
              "      <td>stim6</td>\n",
              "      <td>791.4</td>\n",
              "    </tr>\n",
              "    <tr>\n",
              "      <th>12</th>\n",
              "      <td>stim5</td>\n",
              "      <td>894.2</td>\n",
              "    </tr>\n",
              "    <tr>\n",
              "      <th>13</th>\n",
              "      <td>stim7</td>\n",
              "      <td>940.0</td>\n",
              "    </tr>\n",
              "    <tr>\n",
              "      <th>14</th>\n",
              "      <td>stim3</td>\n",
              "      <td>1045.7</td>\n",
              "    </tr>\n",
              "    <tr>\n",
              "      <th>15</th>\n",
              "      <td>stim7</td>\n",
              "      <td>1100.0</td>\n",
              "    </tr>\n",
              "    <tr>\n",
              "      <th>16</th>\n",
              "      <td>stim3</td>\n",
              "      <td>1146.7</td>\n",
              "    </tr>\n",
              "    <tr>\n",
              "      <th>17</th>\n",
              "      <td>stim1</td>\n",
              "      <td>1195.7</td>\n",
              "    </tr>\n",
              "    <tr>\n",
              "      <th>18</th>\n",
              "      <td>stim4</td>\n",
              "      <td>1284.2</td>\n",
              "    </tr>\n",
              "    <tr>\n",
              "      <th>19</th>\n",
              "      <td>stim2</td>\n",
              "      <td>1328.4</td>\n",
              "    </tr>\n",
              "    <tr>\n",
              "      <th>20</th>\n",
              "      <td>stim2</td>\n",
              "      <td>1368.7</td>\n",
              "    </tr>\n",
              "    <tr>\n",
              "      <th>21</th>\n",
              "      <td>stim4</td>\n",
              "      <td>1409.0</td>\n",
              "    </tr>\n",
              "    <tr>\n",
              "      <th>22</th>\n",
              "      <td>stim3</td>\n",
              "      <td>1448.3</td>\n",
              "    </tr>\n",
              "    <tr>\n",
              "      <th>23</th>\n",
              "      <td>stim3</td>\n",
              "      <td>1495.0</td>\n",
              "    </tr>\n",
              "    <tr>\n",
              "      <th>24</th>\n",
              "      <td>stim1</td>\n",
              "      <td>1542.4</td>\n",
              "    </tr>\n",
              "    <tr>\n",
              "      <th>25</th>\n",
              "      <td>stim3</td>\n",
              "      <td>1584.2</td>\n",
              "    </tr>\n",
              "    <tr>\n",
              "      <th>26</th>\n",
              "      <td>stim1</td>\n",
              "      <td>1626.8</td>\n",
              "    </tr>\n",
              "    <tr>\n",
              "      <th>27</th>\n",
              "      <td>stim3</td>\n",
              "      <td>1666.8</td>\n",
              "    </tr>\n",
              "    <tr>\n",
              "      <th>28</th>\n",
              "      <td>stim2</td>\n",
              "      <td>1719.8</td>\n",
              "    </tr>\n",
              "    <tr>\n",
              "      <th>29</th>\n",
              "      <td>stim5</td>\n",
              "      <td>1760.9</td>\n",
              "    </tr>\n",
              "    <tr>\n",
              "      <th>30</th>\n",
              "      <td>stim4</td>\n",
              "      <td>1806.2</td>\n",
              "    </tr>\n",
              "    <tr>\n",
              "      <th>31</th>\n",
              "      <td>stim4</td>\n",
              "      <td>1846.8</td>\n",
              "    </tr>\n",
              "    <tr>\n",
              "      <th>32</th>\n",
              "      <td>stim6</td>\n",
              "      <td>1887.6</td>\n",
              "    </tr>\n",
              "    <tr>\n",
              "      <th>33</th>\n",
              "      <td>stim7</td>\n",
              "      <td>1929.4</td>\n",
              "    </tr>\n",
              "    <tr>\n",
              "      <th>34</th>\n",
              "      <td>stim1</td>\n",
              "      <td>1971.1</td>\n",
              "    </tr>\n",
              "  </tbody>\n",
              "</table>\n",
              "</div>\n",
              "      <button class=\"colab-df-convert\" onclick=\"convertToInteractive('df-48258840-2416-41b2-a694-e646877f8003')\"\n",
              "              title=\"Convert this dataframe to an interactive table.\"\n",
              "              style=\"display:none;\">\n",
              "        \n",
              "  <svg xmlns=\"http://www.w3.org/2000/svg\" height=\"24px\"viewBox=\"0 0 24 24\"\n",
              "       width=\"24px\">\n",
              "    <path d=\"M0 0h24v24H0V0z\" fill=\"none\"/>\n",
              "    <path d=\"M18.56 5.44l.94 2.06.94-2.06 2.06-.94-2.06-.94-.94-2.06-.94 2.06-2.06.94zm-11 1L8.5 8.5l.94-2.06 2.06-.94-2.06-.94L8.5 2.5l-.94 2.06-2.06.94zm10 10l.94 2.06.94-2.06 2.06-.94-2.06-.94-.94-2.06-.94 2.06-2.06.94z\"/><path d=\"M17.41 7.96l-1.37-1.37c-.4-.4-.92-.59-1.43-.59-.52 0-1.04.2-1.43.59L10.3 9.45l-7.72 7.72c-.78.78-.78 2.05 0 2.83L4 21.41c.39.39.9.59 1.41.59.51 0 1.02-.2 1.41-.59l7.78-7.78 2.81-2.81c.8-.78.8-2.07 0-2.86zM5.41 20L4 18.59l7.72-7.72 1.47 1.35L5.41 20z\"/>\n",
              "  </svg>\n",
              "      </button>\n",
              "      \n",
              "  <style>\n",
              "    .colab-df-container {\n",
              "      display:flex;\n",
              "      flex-wrap:wrap;\n",
              "      gap: 12px;\n",
              "    }\n",
              "\n",
              "    .colab-df-convert {\n",
              "      background-color: #E8F0FE;\n",
              "      border: none;\n",
              "      border-radius: 50%;\n",
              "      cursor: pointer;\n",
              "      display: none;\n",
              "      fill: #1967D2;\n",
              "      height: 32px;\n",
              "      padding: 0 0 0 0;\n",
              "      width: 32px;\n",
              "    }\n",
              "\n",
              "    .colab-df-convert:hover {\n",
              "      background-color: #E2EBFA;\n",
              "      box-shadow: 0px 1px 2px rgba(60, 64, 67, 0.3), 0px 1px 3px 1px rgba(60, 64, 67, 0.15);\n",
              "      fill: #174EA6;\n",
              "    }\n",
              "\n",
              "    [theme=dark] .colab-df-convert {\n",
              "      background-color: #3B4455;\n",
              "      fill: #D2E3FC;\n",
              "    }\n",
              "\n",
              "    [theme=dark] .colab-df-convert:hover {\n",
              "      background-color: #434B5C;\n",
              "      box-shadow: 0px 1px 3px 1px rgba(0, 0, 0, 0.15);\n",
              "      filter: drop-shadow(0px 1px 2px rgba(0, 0, 0, 0.3));\n",
              "      fill: #FFFFFF;\n",
              "    }\n",
              "  </style>\n",
              "\n",
              "      <script>\n",
              "        const buttonEl =\n",
              "          document.querySelector('#df-48258840-2416-41b2-a694-e646877f8003 button.colab-df-convert');\n",
              "        buttonEl.style.display =\n",
              "          google.colab.kernel.accessAllowed ? 'block' : 'none';\n",
              "\n",
              "        async function convertToInteractive(key) {\n",
              "          const element = document.querySelector('#df-48258840-2416-41b2-a694-e646877f8003');\n",
              "          const dataTable =\n",
              "            await google.colab.kernel.invokeFunction('convertToInteractive',\n",
              "                                                     [key], {});\n",
              "          if (!dataTable) return;\n",
              "\n",
              "          const docLinkHtml = 'Like what you see? Visit the ' +\n",
              "            '<a target=\"_blank\" href=https://colab.research.google.com/notebooks/data_table.ipynb>data table notebook</a>'\n",
              "            + ' to learn more about interactive tables.';\n",
              "          element.innerHTML = '';\n",
              "          dataTable['output_type'] = 'display_data';\n",
              "          await google.colab.output.renderOutput(dataTable, element);\n",
              "          const docLink = document.createElement('div');\n",
              "          docLink.innerHTML = docLinkHtml;\n",
              "          element.appendChild(docLink);\n",
              "        }\n",
              "      </script>\n",
              "    </div>\n",
              "  </div>\n",
              "  "
            ],
            "text/plain": [
              "    stim_   start\n",
              "0   stim6    76.3\n",
              "1   stim6   130.8\n",
              "2   stim5   182.7\n",
              "3   stim2   249.6\n",
              "4   stim5   303.8\n",
              "5   stim7   355.0\n",
              "6   stim4   411.5\n",
              "7   stim6   524.8\n",
              "8   stim2   577.9\n",
              "9   stim5   645.0\n",
              "10  stim7   691.3\n",
              "11  stim6   791.4\n",
              "12  stim5   894.2\n",
              "13  stim7   940.0\n",
              "14  stim3  1045.7\n",
              "15  stim7  1100.0\n",
              "16  stim3  1146.7\n",
              "17  stim1  1195.7\n",
              "18  stim4  1284.2\n",
              "19  stim2  1328.4\n",
              "20  stim2  1368.7\n",
              "21  stim4  1409.0\n",
              "22  stim3  1448.3\n",
              "23  stim3  1495.0\n",
              "24  stim1  1542.4\n",
              "25  stim3  1584.2\n",
              "26  stim1  1626.8\n",
              "27  stim3  1666.8\n",
              "28  stim2  1719.8\n",
              "29  stim5  1760.9\n",
              "30  stim4  1806.2\n",
              "31  stim4  1846.8\n",
              "32  stim6  1887.6\n",
              "33  stim7  1929.4\n",
              "34  stim1  1971.1"
            ]
          },
          "metadata": {},
          "execution_count": 48
        }
      ]
    },
    {
      "cell_type": "markdown",
      "source": [
        "# Ajusta os estímulos 1 e 3"
      ],
      "metadata": {
        "id": "cydRR_Vutybl"
      }
    },
    {
      "cell_type": "code",
      "source": [
        "df_temp[df_temp.stim_ == 'stim1']"
      ],
      "metadata": {
        "colab": {
          "base_uri": "https://localhost:8080/",
          "height": 175
        },
        "id": "8XTU-XEZ9Uo_",
        "outputId": "e274f73d-f1f5-4925-84f6-713fb7b8c3a9"
      },
      "execution_count": 49,
      "outputs": [
        {
          "output_type": "execute_result",
          "data": {
            "text/html": [
              "\n",
              "  <div id=\"df-122e9101-1059-4fa1-8b8f-c4cbca0f7860\">\n",
              "    <div class=\"colab-df-container\">\n",
              "      <div>\n",
              "<style scoped>\n",
              "    .dataframe tbody tr th:only-of-type {\n",
              "        vertical-align: middle;\n",
              "    }\n",
              "\n",
              "    .dataframe tbody tr th {\n",
              "        vertical-align: top;\n",
              "    }\n",
              "\n",
              "    .dataframe thead th {\n",
              "        text-align: right;\n",
              "    }\n",
              "</style>\n",
              "<table border=\"1\" class=\"dataframe\">\n",
              "  <thead>\n",
              "    <tr style=\"text-align: right;\">\n",
              "      <th></th>\n",
              "      <th>stim_</th>\n",
              "      <th>start</th>\n",
              "    </tr>\n",
              "  </thead>\n",
              "  <tbody>\n",
              "    <tr>\n",
              "      <th>17</th>\n",
              "      <td>stim1</td>\n",
              "      <td>1195.7</td>\n",
              "    </tr>\n",
              "    <tr>\n",
              "      <th>24</th>\n",
              "      <td>stim1</td>\n",
              "      <td>1542.4</td>\n",
              "    </tr>\n",
              "    <tr>\n",
              "      <th>26</th>\n",
              "      <td>stim1</td>\n",
              "      <td>1626.8</td>\n",
              "    </tr>\n",
              "    <tr>\n",
              "      <th>34</th>\n",
              "      <td>stim1</td>\n",
              "      <td>1971.1</td>\n",
              "    </tr>\n",
              "  </tbody>\n",
              "</table>\n",
              "</div>\n",
              "      <button class=\"colab-df-convert\" onclick=\"convertToInteractive('df-122e9101-1059-4fa1-8b8f-c4cbca0f7860')\"\n",
              "              title=\"Convert this dataframe to an interactive table.\"\n",
              "              style=\"display:none;\">\n",
              "        \n",
              "  <svg xmlns=\"http://www.w3.org/2000/svg\" height=\"24px\"viewBox=\"0 0 24 24\"\n",
              "       width=\"24px\">\n",
              "    <path d=\"M0 0h24v24H0V0z\" fill=\"none\"/>\n",
              "    <path d=\"M18.56 5.44l.94 2.06.94-2.06 2.06-.94-2.06-.94-.94-2.06-.94 2.06-2.06.94zm-11 1L8.5 8.5l.94-2.06 2.06-.94-2.06-.94L8.5 2.5l-.94 2.06-2.06.94zm10 10l.94 2.06.94-2.06 2.06-.94-2.06-.94-.94-2.06-.94 2.06-2.06.94z\"/><path d=\"M17.41 7.96l-1.37-1.37c-.4-.4-.92-.59-1.43-.59-.52 0-1.04.2-1.43.59L10.3 9.45l-7.72 7.72c-.78.78-.78 2.05 0 2.83L4 21.41c.39.39.9.59 1.41.59.51 0 1.02-.2 1.41-.59l7.78-7.78 2.81-2.81c.8-.78.8-2.07 0-2.86zM5.41 20L4 18.59l7.72-7.72 1.47 1.35L5.41 20z\"/>\n",
              "  </svg>\n",
              "      </button>\n",
              "      \n",
              "  <style>\n",
              "    .colab-df-container {\n",
              "      display:flex;\n",
              "      flex-wrap:wrap;\n",
              "      gap: 12px;\n",
              "    }\n",
              "\n",
              "    .colab-df-convert {\n",
              "      background-color: #E8F0FE;\n",
              "      border: none;\n",
              "      border-radius: 50%;\n",
              "      cursor: pointer;\n",
              "      display: none;\n",
              "      fill: #1967D2;\n",
              "      height: 32px;\n",
              "      padding: 0 0 0 0;\n",
              "      width: 32px;\n",
              "    }\n",
              "\n",
              "    .colab-df-convert:hover {\n",
              "      background-color: #E2EBFA;\n",
              "      box-shadow: 0px 1px 2px rgba(60, 64, 67, 0.3), 0px 1px 3px 1px rgba(60, 64, 67, 0.15);\n",
              "      fill: #174EA6;\n",
              "    }\n",
              "\n",
              "    [theme=dark] .colab-df-convert {\n",
              "      background-color: #3B4455;\n",
              "      fill: #D2E3FC;\n",
              "    }\n",
              "\n",
              "    [theme=dark] .colab-df-convert:hover {\n",
              "      background-color: #434B5C;\n",
              "      box-shadow: 0px 1px 3px 1px rgba(0, 0, 0, 0.15);\n",
              "      filter: drop-shadow(0px 1px 2px rgba(0, 0, 0, 0.3));\n",
              "      fill: #FFFFFF;\n",
              "    }\n",
              "  </style>\n",
              "\n",
              "      <script>\n",
              "        const buttonEl =\n",
              "          document.querySelector('#df-122e9101-1059-4fa1-8b8f-c4cbca0f7860 button.colab-df-convert');\n",
              "        buttonEl.style.display =\n",
              "          google.colab.kernel.accessAllowed ? 'block' : 'none';\n",
              "\n",
              "        async function convertToInteractive(key) {\n",
              "          const element = document.querySelector('#df-122e9101-1059-4fa1-8b8f-c4cbca0f7860');\n",
              "          const dataTable =\n",
              "            await google.colab.kernel.invokeFunction('convertToInteractive',\n",
              "                                                     [key], {});\n",
              "          if (!dataTable) return;\n",
              "\n",
              "          const docLinkHtml = 'Like what you see? Visit the ' +\n",
              "            '<a target=\"_blank\" href=https://colab.research.google.com/notebooks/data_table.ipynb>data table notebook</a>'\n",
              "            + ' to learn more about interactive tables.';\n",
              "          element.innerHTML = '';\n",
              "          dataTable['output_type'] = 'display_data';\n",
              "          await google.colab.output.renderOutput(dataTable, element);\n",
              "          const docLink = document.createElement('div');\n",
              "          docLink.innerHTML = docLinkHtml;\n",
              "          element.appendChild(docLink);\n",
              "        }\n",
              "      </script>\n",
              "    </div>\n",
              "  </div>\n",
              "  "
            ],
            "text/plain": [
              "    stim_   start\n",
              "17  stim1  1195.7\n",
              "24  stim1  1542.4\n",
              "26  stim1  1626.8\n",
              "34  stim1  1971.1"
            ]
          },
          "metadata": {},
          "execution_count": 49
        }
      ]
    },
    {
      "cell_type": "code",
      "source": [
        "df_temp.groupby('stim_').stim_.count()"
      ],
      "metadata": {
        "colab": {
          "base_uri": "https://localhost:8080/"
        },
        "id": "vjXlXVok77pO",
        "outputId": "e275effd-6446-4526-9780-e75173517592"
      },
      "execution_count": 50,
      "outputs": [
        {
          "output_type": "execute_result",
          "data": {
            "text/plain": [
              "stim_\n",
              "stim1    4\n",
              "stim2    5\n",
              "stim3    6\n",
              "stim4    5\n",
              "stim5    5\n",
              "stim6    5\n",
              "stim7    5\n",
              "Name: stim_, dtype: int64"
            ]
          },
          "metadata": {},
          "execution_count": 50
        }
      ]
    },
    {
      "cell_type": "code",
      "source": [
        "data['nirs']['stim3']['data'][:]"
      ],
      "metadata": {
        "colab": {
          "base_uri": "https://localhost:8080/"
        },
        "id": "-lcTllPA9fyV",
        "outputId": "4cd01054-c37a-4b57-9c37-6b7016836741"
      },
      "execution_count": 51,
      "outputs": [
        {
          "output_type": "execute_result",
          "data": {
            "text/plain": [
              "array([[1045.7,   18. ,    5. ],\n",
              "       [1146.7,   18. ,    5. ],\n",
              "       [1448.3,   18. ,    5. ],\n",
              "       [1495. ,   18. ,    5. ],\n",
              "       [1584.2,   18. ,    5. ],\n",
              "       [1666.8,   18. ,    5. ]])"
            ]
          },
          "metadata": {},
          "execution_count": 51
        }
      ]
    },
    {
      "cell_type": "code",
      "source": [
        "data['nirs']['stim1']['data'][:] "
      ],
      "metadata": {
        "colab": {
          "base_uri": "https://localhost:8080/"
        },
        "id": "PgEjgtem9rRF",
        "outputId": "92f69173-d329-4c9a-89dc-2537d4a3a2a4"
      },
      "execution_count": 52,
      "outputs": [
        {
          "output_type": "execute_result",
          "data": {
            "text/plain": [
              "array([[1195.7,   18. ,    5. ],\n",
              "       [1542.4,   18. ,    5. ],\n",
              "       [1626.8,   18. ,    5. ],\n",
              "       [1971.1,   18. ,    5. ]])"
            ]
          },
          "metadata": {},
          "execution_count": 52
        }
      ]
    },
    {
      "cell_type": "code",
      "source": [
        "stim_new =   np.array([np.array(data['nirs']['stim1']['data'][0]),\n",
        "             np.array(data['nirs']['stim3']['data'][3]),\n",
        "             np.array(data['nirs']['stim1']['data'][1]),\n",
        "             np.array(data['nirs']['stim1']['data'][2]),\n",
        "             np.array(data['nirs']['stim1']['data'][3])])\n",
        "\n",
        "del data['nirs']['stim1']['data']\n",
        "data['nirs']['stim1'].create_dataset('data', data=stim_new)\n",
        "\n",
        "data['nirs']['stim1']['data'][:]"
      ],
      "metadata": {
        "colab": {
          "base_uri": "https://localhost:8080/"
        },
        "id": "_Zj0kKGNKRWs",
        "outputId": "0155325a-813f-4729-de7d-371ed44d269f"
      },
      "execution_count": 53,
      "outputs": [
        {
          "output_type": "execute_result",
          "data": {
            "text/plain": [
              "array([[1195.7,   18. ,    5. ],\n",
              "       [1495. ,   18. ,    5. ],\n",
              "       [1542.4,   18. ,    5. ],\n",
              "       [1626.8,   18. ,    5. ],\n",
              "       [1971.1,   18. ,    5. ]])"
            ]
          },
          "metadata": {},
          "execution_count": 53
        }
      ]
    },
    {
      "cell_type": "code",
      "source": [
        "stim_new =   np.array([np.array(data['nirs']['stim3']['data'][0]),\n",
        "             np.array(data['nirs']['stim3']['data'][1]),\n",
        "             np.array(data['nirs']['stim3']['data'][2]),\n",
        "             np.array(data['nirs']['stim3']['data'][4]),\n",
        "             np.array(data['nirs']['stim3']['data'][5])])\n",
        "\n",
        "del data['nirs']['stim3']['data']\n",
        "data['nirs']['stim3'].create_dataset('data', data=stim_new)\n",
        "\n",
        "data['nirs']['stim3']['data'][:]"
      ],
      "metadata": {
        "colab": {
          "base_uri": "https://localhost:8080/"
        },
        "id": "B_A2ffG5928V",
        "outputId": "230d542a-0b13-47ef-9d75-08dde58854c2"
      },
      "execution_count": 54,
      "outputs": [
        {
          "output_type": "execute_result",
          "data": {
            "text/plain": [
              "array([[1045.7,   18. ,    5. ],\n",
              "       [1146.7,   18. ,    5. ],\n",
              "       [1448.3,   18. ,    5. ],\n",
              "       [1584.2,   18. ,    5. ],\n",
              "       [1666.8,   18. ,    5. ]])"
            ]
          },
          "metadata": {},
          "execution_count": 54
        }
      ]
    },
    {
      "cell_type": "markdown",
      "source": [
        "# Complemento dos estímulos `rest`"
      ],
      "metadata": {
        "id": "mFrbuLV3hAxn"
      }
    },
    {
      "cell_type": "code",
      "source": [
        "if stim_true:\n",
        "\n",
        "  stim = 'stim' + str( len(stim_list)+1 )\n",
        "  data['nirs'].create_group(stim)\n",
        "  data['nirs'][stim].create_dataset('name', data=np.array(['rest']).astype('|O'))\n",
        "\n",
        "  start = []\n",
        "  start_stim = []\n",
        "  end = []\n",
        "  value = []\n",
        "\n",
        "  start_bool = False\n",
        "\n",
        "  for s in stim_list:\n",
        "    for i in range( data['nirs'][s]['data'].shape[0] ):\n",
        "      start_stim.append( data['nirs'][s]['data'][i,0] )\n",
        "      start.append( data['nirs'][s]['data'][i,0] + data['nirs'][s]['data'][i,1] )\n",
        "      value.append(-1)\n",
        "\n",
        "  start_stim = sorted(start_stim)\n",
        "  start = sorted(start)\n",
        "\n",
        "  for i in range(len(start_stim) - 1):\n",
        "    end.append( start_stim[i+1] )\n",
        "\n",
        "  start = start[0:-1]\n",
        "  value = value[0:-1]\n",
        "\n",
        "  data['nirs'][stim].create_dataset('data', data=np.array( [np.array(start) , np.array(end) - np.array(start) , np.array(value)] ).T)\n",
        "\n",
        "print(start)\n",
        "print(end)\n",
        "print(start_stim)\n",
        "print(value)"
      ],
      "metadata": {
        "colab": {
          "base_uri": "https://localhost:8080/"
        },
        "id": "_7h3Nw8xh2UN",
        "outputId": "f9cd7781-272b-4203-c6f6-09ff596f4801"
      },
      "execution_count": 55,
      "outputs": [
        {
          "output_type": "stream",
          "name": "stdout",
          "text": [
            "[94.3, 148.8, 200.7, 267.6, 321.8, 373.0, 429.5, 478.8, 542.8, 595.9, 663.0, 709.3, 756.9, 809.4, 859.1, 912.2, 958.0, 1015.9, 1063.7, 1118.0, 1164.7, 1213.7, 1257.2, 1302.2, 1346.4, 1386.7, 1427.0, 1466.3, 1513.0, 1560.4, 1602.2, 1644.8, 1684.8, 1737.8, 1778.9, 1824.2, 1864.8, 1905.6, 1947.4]\n",
            "[130.8, 182.7, 249.6, 303.8, 355.0, 411.5, 460.8, 524.8, 577.9, 645.0, 691.3, 738.9, 791.4, 841.1, 894.2, 940.0, 997.9, 1045.7, 1100.0, 1146.7, 1195.7, 1239.2, 1284.2, 1328.4, 1368.7, 1409.0, 1448.3, 1495.0, 1542.4, 1584.2, 1626.8, 1666.8, 1719.8, 1760.9, 1806.2, 1846.8, 1887.6, 1929.4, 1971.1]\n",
            "[76.3, 130.8, 182.7, 249.6, 303.8, 355.0, 411.5, 460.8, 524.8, 577.9, 645.0, 691.3, 738.9, 791.4, 841.1, 894.2, 940.0, 997.9, 1045.7, 1100.0, 1146.7, 1195.7, 1239.2, 1284.2, 1328.4, 1368.7, 1409.0, 1448.3, 1495.0, 1542.4, 1584.2, 1626.8, 1666.8, 1719.8, 1760.9, 1806.2, 1846.8, 1887.6, 1929.4, 1971.1]\n",
            "[-1, -1, -1, -1, -1, -1, -1, -1, -1, -1, -1, -1, -1, -1, -1, -1, -1, -1, -1, -1, -1, -1, -1, -1, -1, -1, -1, -1, -1, -1, -1, -1, -1, -1, -1, -1, -1, -1, -1]\n"
          ]
        }
      ]
    },
    {
      "cell_type": "code",
      "source": [
        "stim_list = [x for x in list(data['nirs'].keys()) if x.find('stim') == 0]\n",
        "\n",
        "stim_name_set = set() \n",
        "\n",
        "for s in stim_list: \n",
        "  stim_name_set.add( data['nirs'][s]['name'][0].decode('utf8') )\n",
        "\n",
        "stim_name_set = list(stim_name_set)\n",
        "stim_name_set \n",
        "\n",
        "if stim_true:\n",
        "  print( data['nirs'][stim_list[-1]]['data'][:] )"
      ],
      "metadata": {
        "colab": {
          "base_uri": "https://localhost:8080/"
        },
        "id": "ruQCWiankw7Y",
        "outputId": "55b2f224-15a0-430b-b083-abd58e9498a6"
      },
      "execution_count": 56,
      "outputs": [
        {
          "output_type": "stream",
          "name": "stdout",
          "text": [
            "[[ 9.4300e+01  3.6500e+01 -1.0000e+00]\n",
            " [ 1.4880e+02  3.3900e+01 -1.0000e+00]\n",
            " [ 2.0070e+02  4.8900e+01 -1.0000e+00]\n",
            " [ 2.6760e+02  3.6200e+01 -1.0000e+00]\n",
            " [ 3.2180e+02  3.3200e+01 -1.0000e+00]\n",
            " [ 3.7300e+02  3.8500e+01 -1.0000e+00]\n",
            " [ 4.2950e+02  3.1300e+01 -1.0000e+00]\n",
            " [ 4.7880e+02  4.6000e+01 -1.0000e+00]\n",
            " [ 5.4280e+02  3.5100e+01 -1.0000e+00]\n",
            " [ 5.9590e+02  4.9100e+01 -1.0000e+00]\n",
            " [ 6.6300e+02  2.8300e+01 -1.0000e+00]\n",
            " [ 7.0930e+02  2.9600e+01 -1.0000e+00]\n",
            " [ 7.5690e+02  3.4500e+01 -1.0000e+00]\n",
            " [ 8.0940e+02  3.1700e+01 -1.0000e+00]\n",
            " [ 8.5910e+02  3.5100e+01 -1.0000e+00]\n",
            " [ 9.1220e+02  2.7800e+01 -1.0000e+00]\n",
            " [ 9.5800e+02  3.9900e+01 -1.0000e+00]\n",
            " [ 1.0159e+03  2.9800e+01 -1.0000e+00]\n",
            " [ 1.0637e+03  3.6300e+01 -1.0000e+00]\n",
            " [ 1.1180e+03  2.8700e+01 -1.0000e+00]\n",
            " [ 1.1647e+03  3.1000e+01 -1.0000e+00]\n",
            " [ 1.2137e+03  2.5500e+01 -1.0000e+00]\n",
            " [ 1.2572e+03  2.7000e+01 -1.0000e+00]\n",
            " [ 1.3022e+03  2.6200e+01 -1.0000e+00]\n",
            " [ 1.3464e+03  2.2300e+01 -1.0000e+00]\n",
            " [ 1.3867e+03  2.2300e+01 -1.0000e+00]\n",
            " [ 1.4270e+03  2.1300e+01 -1.0000e+00]\n",
            " [ 1.4663e+03  2.8700e+01 -1.0000e+00]\n",
            " [ 1.5130e+03  2.9400e+01 -1.0000e+00]\n",
            " [ 1.5604e+03  2.3800e+01 -1.0000e+00]\n",
            " [ 1.6022e+03  2.4600e+01 -1.0000e+00]\n",
            " [ 1.6448e+03  2.2000e+01 -1.0000e+00]\n",
            " [ 1.6848e+03  3.5000e+01 -1.0000e+00]\n",
            " [ 1.7378e+03  2.3100e+01 -1.0000e+00]\n",
            " [ 1.7789e+03  2.7300e+01 -1.0000e+00]\n",
            " [ 1.8242e+03  2.2600e+01 -1.0000e+00]\n",
            " [ 1.8648e+03  2.2800e+01 -1.0000e+00]\n",
            " [ 1.9056e+03  2.3800e+01 -1.0000e+00]\n",
            " [ 1.9474e+03  2.3700e+01 -1.0000e+00]]\n"
          ]
        }
      ]
    },
    {
      "cell_type": "code",
      "source": [
        "if stim_aux:\n",
        "\n",
        "  stimulus_aux = raw[['time']]\n",
        "\n",
        "  for a in aux_list:\n",
        "    stim_df = pd.DataFrame()\n",
        "    stim_df[data['nirs'][a]['name'][0].decode('utf8')] = data['nirs'][a]['dataTimeSeries'][:]\n",
        "    stimulus_aux = pd.concat([stimulus_aux,stim_df],axis=1)\n",
        "\n",
        "  print(stimulus_aux.head())"
      ],
      "metadata": {
        "id": "ATpmOsUL1bx5",
        "colab": {
          "base_uri": "https://localhost:8080/"
        },
        "outputId": "15c39bd7-bbc9-4ff9-f46f-91d9d9f0fdf4"
      },
      "execution_count": 57,
      "outputs": [
        {
          "output_type": "stream",
          "name": "stdout",
          "text": [
            "   time  aux1  aux2  aux3  aux4  aux5  aux6  aux7  aux8\n",
            "0   0.0   0.0   0.0   0.0   0.0   0.0   0.0   0.0   0.0\n",
            "1   0.1   0.0   0.0   0.0   0.0   0.0   0.0   0.0   0.0\n",
            "2   0.2   0.0   0.0   0.0   0.0   0.0   0.0   0.0   0.0\n",
            "3   0.3   0.0   0.0   0.0   0.0   0.0   0.0   0.0   0.0\n",
            "4   0.4   0.0   0.0   0.0   0.0   0.0   0.0   0.0   0.0\n"
          ]
        }
      ]
    },
    {
      "cell_type": "code",
      "source": [
        "if stim_true:\n",
        "\n",
        "  stimulus = raw[['time']]\n",
        "\n",
        "  for s in stim_list:\n",
        "    stim_df = pd.DataFrame()\n",
        "    stim_df['time'] = data['nirs'][s]['data'][:,0]\n",
        "    stim_df[s + '_duration'] = data['nirs'][s]['data'][:,1]\n",
        "    stim_df[s] = data['nirs'][s]['data'][:,2]\n",
        "    stimulus = pd.merge(stimulus,stim_df,how='left')\n",
        "\n",
        "  stimulus = stimulus.fillna(0)\n",
        "  stimulus"
      ],
      "metadata": {
        "id": "QC6FrVnff6sw"
      },
      "execution_count": 58,
      "outputs": []
    },
    {
      "cell_type": "markdown",
      "source": [
        "## Start Analysis with NME"
      ],
      "metadata": {
        "id": "Tw3xReatzkdC"
      }
    },
    {
      "cell_type": "code",
      "source": [
        "!pip install nilearn"
      ],
      "metadata": {
        "colab": {
          "base_uri": "https://localhost:8080/"
        },
        "id": "CKNDLr4GNpur",
        "outputId": "a99f933f-ca0a-4305-8c59-fb0528783545"
      },
      "execution_count": 59,
      "outputs": [
        {
          "output_type": "stream",
          "name": "stdout",
          "text": [
            "Requirement already satisfied: nilearn in /usr/local/lib/python3.7/dist-packages (0.8.1)\n",
            "Requirement already satisfied: requests>=2 in /usr/local/lib/python3.7/dist-packages (from nilearn) (2.23.0)\n",
            "Requirement already satisfied: numpy>=1.16 in /usr/local/lib/python3.7/dist-packages (from nilearn) (1.19.5)\n",
            "Requirement already satisfied: scipy>=1.2 in /usr/local/lib/python3.7/dist-packages (from nilearn) (1.4.1)\n",
            "Requirement already satisfied: joblib>=0.12 in /usr/local/lib/python3.7/dist-packages (from nilearn) (1.1.0)\n",
            "Requirement already satisfied: nibabel>=2.5 in /usr/local/lib/python3.7/dist-packages (from nilearn) (3.0.2)\n",
            "Requirement already satisfied: scikit-learn>=0.21 in /usr/local/lib/python3.7/dist-packages (from nilearn) (1.0.1)\n",
            "Requirement already satisfied: pandas>=0.24.0 in /usr/local/lib/python3.7/dist-packages (from nilearn) (1.1.5)\n",
            "Requirement already satisfied: python-dateutil>=2.7.3 in /usr/local/lib/python3.7/dist-packages (from pandas>=0.24.0->nilearn) (2.8.2)\n",
            "Requirement already satisfied: pytz>=2017.2 in /usr/local/lib/python3.7/dist-packages (from pandas>=0.24.0->nilearn) (2018.9)\n",
            "Requirement already satisfied: six>=1.5 in /usr/local/lib/python3.7/dist-packages (from python-dateutil>=2.7.3->pandas>=0.24.0->nilearn) (1.15.0)\n",
            "Requirement already satisfied: chardet<4,>=3.0.2 in /usr/local/lib/python3.7/dist-packages (from requests>=2->nilearn) (3.0.4)\n",
            "Requirement already satisfied: certifi>=2017.4.17 in /usr/local/lib/python3.7/dist-packages (from requests>=2->nilearn) (2021.10.8)\n",
            "Requirement already satisfied: urllib3!=1.25.0,!=1.25.1,<1.26,>=1.21.1 in /usr/local/lib/python3.7/dist-packages (from requests>=2->nilearn) (1.24.3)\n",
            "Requirement already satisfied: idna<3,>=2.5 in /usr/local/lib/python3.7/dist-packages (from requests>=2->nilearn) (2.10)\n",
            "Requirement already satisfied: threadpoolctl>=2.0.0 in /usr/local/lib/python3.7/dist-packages (from scikit-learn>=0.21->nilearn) (3.0.0)\n"
          ]
        }
      ]
    },
    {
      "cell_type": "code",
      "source": [
        "!pip install -U --no-deps https://github.com/mne-tools/mne-python/archive/main.zip"
      ],
      "metadata": {
        "colab": {
          "base_uri": "https://localhost:8080/"
        },
        "id": "M8ShJw_ZNtRS",
        "outputId": "eb567f3e-a928-48c6-d725-57f54f510188"
      },
      "execution_count": 60,
      "outputs": [
        {
          "output_type": "stream",
          "name": "stdout",
          "text": [
            "Collecting https://github.com/mne-tools/mne-python/archive/main.zip\n",
            "  Using cached https://github.com/mne-tools/mne-python/archive/main.zip\n"
          ]
        }
      ]
    },
    {
      "cell_type": "code",
      "source": [
        "!pip install mne-nirs"
      ],
      "metadata": {
        "colab": {
          "base_uri": "https://localhost:8080/"
        },
        "id": "KfVyN2fQNwZy",
        "outputId": "784077e1-328b-40b0-b919-a8487a4ce097"
      },
      "execution_count": 61,
      "outputs": [
        {
          "output_type": "stream",
          "name": "stdout",
          "text": [
            "Requirement already satisfied: mne-nirs in /usr/local/lib/python3.7/dist-packages (0.1.2)\n",
            "Requirement already satisfied: numpy>=1.11.3 in /usr/local/lib/python3.7/dist-packages (from mne-nirs) (1.19.5)\n",
            "Requirement already satisfied: scipy>=0.17.1 in /usr/local/lib/python3.7/dist-packages (from mne-nirs) (1.4.1)\n",
            "Requirement already satisfied: mne>=0.21.0 in /usr/local/lib/python3.7/dist-packages (from mne-nirs) (1.0.dev0)\n"
          ]
        }
      ]
    },
    {
      "cell_type": "code",
      "source": [
        "print(path_out + file)"
      ],
      "metadata": {
        "colab": {
          "base_uri": "https://localhost:8080/"
        },
        "id": "SXYeyYrvOqN8",
        "outputId": "bfccbe0f-b11c-4741-c413-935e4e1aa7c5"
      },
      "execution_count": 62,
      "outputs": [
        {
          "output_type": "stream",
          "name": "stdout",
          "text": [
            "/content/new_JMVR_TCC_39.snirf\n"
          ]
        }
      ]
    },
    {
      "cell_type": "code",
      "source": [
        "from mne.io import read_raw_nirx\n",
        "from mne.preprocessing.nirs import (optical_density, beer_lambert_law,\n",
        "                                    temporal_derivative_distribution_repair)"
      ],
      "metadata": {
        "id": "KQslUXxebMfD"
      },
      "execution_count": 63,
      "outputs": []
    },
    {
      "cell_type": "code",
      "source": [
        "import mne \n",
        "raw_intensity = mne.io.read_raw_snirf(path_out + file, verbose=True)\n",
        "\n",
        "raw_intensity.load_data()"
      ],
      "metadata": {
        "colab": {
          "base_uri": "https://localhost:8080/",
          "height": 331
        },
        "id": "MlNPxkQDOLqz",
        "outputId": "317a1fb8-678f-460e-a955-ca32e5daf2be"
      },
      "execution_count": 64,
      "outputs": [
        {
          "output_type": "stream",
          "name": "stdout",
          "text": [
            "Loading /content/new_JMVR_TCC_39.snirf\n",
            "Reading 0 ... 20241  =      0.000 ...  2024.100 secs...\n"
          ]
        },
        {
          "output_type": "execute_result",
          "data": {
            "text/html": [
              "\n",
              "\n",
              "<table class=\"table table-hover table-striped table-sm table-responsive small\">\n",
              "    <tr>\n",
              "        <th>Measurement date</th>\n",
              "        <td>December 04, 2021  15:12:45 GMT</td>\n",
              "        \n",
              "    </tr>\n",
              "    <tr>\n",
              "        <th>Experimenter</th>\n",
              "<td>Unknown</td>\n",
              "    </tr>\n",
              "        <th>Participant</th>\n",
              "        \n",
              "    </tr>\n",
              "    <tr>\n",
              "        <th>Digitized points</th>\n",
              "        <td>35 points</td>\n",
              "    </tr>\n",
              "    <tr>\n",
              "        <th>Good channels</th>\n",
              "        <td>32 fNIRS (CW amplitude)</td>\n",
              "    </tr>\n",
              "    <tr>\n",
              "        <th>Bad channels</th>\n",
              "        <td>None</td>\n",
              "    </tr>\n",
              "    <tr>\n",
              "        <th>EOG channels</th>\n",
              "        <td>Not available</td>\n",
              "    </tr>\n",
              "    <tr>\n",
              "        <th>ECG channels</th>\n",
              "        <td>Not available</td>\n",
              "    <tr>\n",
              "        <th>Sampling frequency</th>\n",
              "        <td>10.00 Hz</td>\n",
              "    </tr>\n",
              "    <tr>\n",
              "        <th>Highpass</th>\n",
              "        <td>0.00 Hz</td>\n",
              "    </tr>\n",
              "    <tr>\n",
              "        <th>Lowpass</th>\n",
              "        <td>5.00 Hz</td>\n",
              "    </tr>\n",
              "\n",
              "    <tr>\n",
              "        <th>Filenames</th>\n",
              "        <td>new_JMVR_TCC_39.snirf</td>\n",
              "    </tr>\n",
              "    <tr>\n",
              "        <th>Duration</th>\n",
              "        <td>00:33:44 (HH:MM:SS)</td>\n",
              "    </tr>\n",
              "</table>\n"
            ],
            "text/plain": [
              "<RawSNIRF | new_JMVR_TCC_39.snirf, 32 x 20242 (2024.1 s), ~5.0 MB, data loaded>"
            ]
          },
          "metadata": {},
          "execution_count": 64
        }
      ]
    },
    {
      "cell_type": "markdown",
      "metadata": {
        "id": "ga0dSNrMNFh9"
      },
      "source": [
        "## Converting from raw intensity to optical density\n",
        "\n",
        "The raw intensity values are then converted to optical density.\n",
        "\n"
      ]
    },
    {
      "cell_type": "code",
      "metadata": {
        "id": "cWISMz7ZNFh9"
      },
      "source": [
        "raw_od = mne.preprocessing.nirs.optical_density(raw_intensity)\n",
        "\n"
      ],
      "execution_count": 65,
      "outputs": []
    },
    {
      "cell_type": "markdown",
      "metadata": {
        "id": "bb3U3M2CNFh-"
      },
      "source": [
        "## Evaluating the quality of the data\n",
        "\n",
        "At this stage we can quantify the quality of the coupling\n",
        "between the scalp and the optodes using the scalp coupling index. This\n",
        "method looks for the presence of a prominent synchronous signal in the\n",
        "frequency range of cardiac signals across both photodetected signals.\n",
        "\n",
        "In this example the data is clean and the coupling is good for all\n",
        "channels, so we will not mark any channels as bad based on the scalp\n",
        "coupling index.\n",
        "\n"
      ]
    },
    {
      "cell_type": "code",
      "metadata": {
        "id": "6IPH5oOlNFh-"
      },
      "source": [
        "sci = mne.preprocessing.nirs.scalp_coupling_index(raw_od)\n",
        "# fig, ax = plt.subplots()\n",
        "# ax.hist(sci)\n",
        "# ax.set(xlabel='Scalp Coupling Index', ylabel='Count', xlim=[0, 1])"
      ],
      "execution_count": 66,
      "outputs": []
    },
    {
      "cell_type": "markdown",
      "metadata": {
        "id": "V8MpJJfjNFh_"
      },
      "source": [
        "In this example we will mark all channels with a SCI less than 0.5 as bad\n",
        "(this dataset is quite clean, so no channels are marked as bad).\n",
        "\n"
      ]
    },
    {
      "cell_type": "code",
      "metadata": {
        "id": "v3erpjoWNFh_"
      },
      "source": [
        "raw_od.info['bads'] = list(compress(raw_od.ch_names, sci < 0.5))"
      ],
      "execution_count": 67,
      "outputs": []
    },
    {
      "cell_type": "markdown",
      "metadata": {
        "id": "mprTCmZMNFh_"
      },
      "source": [
        "At this stage it is appropriate to inspect your data\n",
        "(for instructions on how to use the interactive data visualisation tool\n",
        "see `tut-visualize-raw`)\n",
        "to ensure that channels with poor scalp coupling have been removed.\n",
        "If your data contains lots of artifacts you may decide to apply\n",
        "artifact reduction techniques as described in `ex-fnirs-artifacts`.\n",
        "\n"
      ]
    },
    {
      "cell_type": "markdown",
      "metadata": {
        "id": "7yd7ht2_NFiA"
      },
      "source": [
        "## Converting from optical density to haemoglobin\n",
        "\n",
        "Next we convert the optical density data to haemoglobin concentration using\n",
        "the modified Beer-Lambert law.\n",
        "\n"
      ]
    },
    {
      "cell_type": "code",
      "metadata": {
        "id": "rVwuTDwqNFiA"
      },
      "source": [
        "raw_haemo = mne.preprocessing.nirs.beer_lambert_law(raw_od)\n",
        "# raw_haemo.plot(n_channels=len(raw_haemo.ch_names),\n",
        "#                start=750,\n",
        "#                duration=100, show_scrollbars=False)"
      ],
      "execution_count": 68,
      "outputs": []
    },
    {
      "cell_type": "code",
      "source": [
        "raw_haemo.get_data()"
      ],
      "metadata": {
        "colab": {
          "base_uri": "https://localhost:8080/"
        },
        "id": "mmbCSNh6YjNl",
        "outputId": "edfd2772-a2f4-44fa-dd32-d04c3a98e676"
      },
      "execution_count": 69,
      "outputs": [
        {
          "output_type": "execute_result",
          "data": {
            "text/plain": [
              "array([[-4.98412028e-04, -4.20157795e-04, -4.45089899e-04, ...,\n",
              "         4.21151084e-04,  3.47622055e-04,  4.06589231e-04],\n",
              "       [-4.84068971e-04, -3.92872415e-04, -4.23507507e-04, ...,\n",
              "         8.08415553e-04,  8.16109227e-04,  7.96581663e-04],\n",
              "       [-3.18684102e-04, -3.68358724e-04, -3.39063403e-04, ...,\n",
              "         2.59310291e-04,  3.06678239e-04,  2.97278932e-04],\n",
              "       ...,\n",
              "       [-2.66065821e-04, -1.82914382e-04, -2.09736992e-04, ...,\n",
              "         6.42202288e-04,  6.47090132e-04,  6.26559007e-04],\n",
              "       [ 1.13542824e-05, -3.77163743e-05, -6.75503495e-05, ...,\n",
              "        -1.56506279e-04, -1.58716101e-04, -1.36782779e-04],\n",
              "       [-2.27183989e-04, -1.87880851e-04, -1.90241516e-04, ...,\n",
              "         7.38912499e-04,  7.36712500e-04,  7.35744339e-04]])"
            ]
          },
          "metadata": {},
          "execution_count": 69
        }
      ]
    },
    {
      "cell_type": "code",
      "source": [
        "raw_haemo_df = pd.concat([raw[['time']], pd.DataFrame(raw_haemo.get_data().T)], axis=1)\n",
        "raw_haemo_df.columns = ['time'] + list(measures.name) \n",
        "# raw_haemo_df"
      ],
      "metadata": {
        "id": "hO8dajXVaISU"
      },
      "execution_count": 70,
      "outputs": []
    },
    {
      "cell_type": "code",
      "source": [
        "# plotchannels(raw_haemo_df.iloc[0:1000])"
      ],
      "metadata": {
        "id": "pim_LuSGbE1U"
      },
      "execution_count": 71,
      "outputs": []
    },
    {
      "cell_type": "code",
      "source": [
        "from sklearn.preprocessing import scale\n",
        "\n",
        "raw_haemo_df_scale = raw_haemo_df.copy()\n",
        "\n",
        "for c in raw_haemo_df.drop(columns='time'):\n",
        "  raw_haemo_df_scale[c] = scale(raw_haemo_df[c])"
      ],
      "metadata": {
        "id": "ZCN01LOid_XO"
      },
      "execution_count": 72,
      "outputs": []
    },
    {
      "cell_type": "code",
      "source": [
        "# raw_haemo_df.head()"
      ],
      "metadata": {
        "id": "s7YxhnHgeY6s"
      },
      "execution_count": 73,
      "outputs": []
    },
    {
      "cell_type": "code",
      "source": [
        "# raw_haemo_df_scale.head()"
      ],
      "metadata": {
        "id": "FiOYXf-ceU3M"
      },
      "execution_count": 74,
      "outputs": []
    },
    {
      "cell_type": "markdown",
      "metadata": {
        "id": "hUBvhusLNFiA"
      },
      "source": [
        "## Removing heart rate from signal\n",
        "\n",
        "The haemodynamic response has frequency content predominantly below 0.5 Hz.\n",
        "An increase in activity around 1 Hz can be seen in the data that is due to\n",
        "the person's heart beat and is unwanted. So we use a low pass filter to\n",
        "remove this. A high pass filter is also included to remove slow drifts\n",
        "in the data.\n",
        "\n"
      ]
    },
    {
      "cell_type": "code",
      "metadata": {
        "id": "6l8kR7LsNFiA",
        "colab": {
          "base_uri": "https://localhost:8080/"
        },
        "outputId": "b895d174-d6c1-435d-a7eb-78ca8c2d6cda"
      },
      "source": [
        "# fig = raw_haemo.plot_psd(average=True)\n",
        "# fig.suptitle('Before filtering', weight='bold', size='x-large')\n",
        "# fig.subplots_adjust(top=0.88)\n",
        "raw_haemo = raw_haemo.filter(0.05, 0.7, h_trans_bandwidth=0.2,\n",
        "                             l_trans_bandwidth=0.02)\n",
        "# fig = raw_haemo.plot_psd(average=True)\n",
        "# fig.suptitle('After filtering', weight='bold', size='x-large')\n",
        "# fig.subplots_adjust(top=0.88)"
      ],
      "execution_count": 75,
      "outputs": [
        {
          "output_type": "stream",
          "name": "stdout",
          "text": [
            "Filtering raw data in 1 contiguous segment\n",
            "Setting up band-pass filter from 0.05 - 0.7 Hz\n",
            "\n",
            "FIR filter parameters\n",
            "---------------------\n",
            "Designing a one-pass, zero-phase, non-causal bandpass filter:\n",
            "- Windowed time-domain design (firwin) method\n",
            "- Hamming window with 0.0194 passband ripple and 53 dB stopband attenuation\n",
            "- Lower passband edge: 0.05\n",
            "- Lower transition bandwidth: 0.02 Hz (-6 dB cutoff frequency: 0.04 Hz)\n",
            "- Upper passband edge: 0.70 Hz\n",
            "- Upper transition bandwidth: 0.20 Hz (-6 dB cutoff frequency: 0.80 Hz)\n",
            "- Filter length: 1651 samples (165.100 sec)\n",
            "\n"
          ]
        }
      ]
    },
    {
      "cell_type": "markdown",
      "metadata": {
        "id": "4BvmuBGpNFiB"
      },
      "source": [
        "## Extract epochs\n",
        "\n",
        "Now that the signal has been converted to relative haemoglobin concentration,\n",
        "and the unwanted heart rate component has been removed, we can extract epochs\n",
        "related to each of the experimental conditions.\n",
        "\n",
        "First we extract the events of interest and visualise them to ensure they are\n",
        "correct.\n",
        "\n"
      ]
    },
    {
      "cell_type": "markdown",
      "source": [
        "## Para dados da Fernanda falha a partir daqui por não ter estímulos em `stim`, mas empregar `aux`"
      ],
      "metadata": {
        "id": "ZeK4PbB98YCE"
      }
    },
    {
      "cell_type": "code",
      "source": [
        "events, _ = mne.events_from_annotations(raw_haemo, event_id={'aux1': 1, 'aux2': 2, 'aux3': 3, 'aux4': 4, 'aux5': 5, 'aux6': 6, 'aux7': 7, 'aux8': 8, 'rest': 9})\n",
        "event_dict = {'aux1': 1, 'aux2': 2, 'aux3': 3, 'aux4': 4, 'aux5': 5, 'aux6': 6, 'aux7': 7, 'aux8': 8, 'rest': 9}\n",
        "# fig = mne.viz.plot_events(events, event_id=event_dict,\n",
        "#                           sfreq=raw_haemo.info['sfreq'])\n",
        "# fig.subplots_adjust(right=0.7)  # make room for the legend"
      ],
      "metadata": {
        "id": "MZFSZIrhYnRl",
        "outputId": "13466151-d806-4247-e5ce-9be7cb8b28e3",
        "colab": {
          "base_uri": "https://localhost:8080/"
        }
      },
      "execution_count": 76,
      "outputs": [
        {
          "output_type": "stream",
          "name": "stdout",
          "text": [
            "Used Annotations descriptions: ['aux1', 'aux2', 'aux3', 'aux4', 'aux5', 'aux6', 'aux7', 'aux8', 'rest']\n"
          ]
        }
      ]
    },
    {
      "cell_type": "markdown",
      "metadata": {
        "id": "oVylIXwGNFiB"
      },
      "source": [
        "Next we define the range of our epochs, the rejection criteria,\n",
        "baseline correction, and extract the epochs. We visualise the log of which\n",
        "epochs were dropped.\n",
        "\n"
      ]
    },
    {
      "cell_type": "code",
      "metadata": {
        "id": "PkePpU8bNFiB",
        "outputId": "db0d294a-a321-4a6a-8a04-34c7639af06c",
        "colab": {
          "base_uri": "https://localhost:8080/"
        }
      },
      "source": [
        "reject_criteria = dict(hbo=80e-6)\n",
        "tmin, tmax = -5, 18\n",
        "\n",
        "epochs = mne.Epochs(raw_haemo, events, event_id=event_dict,\n",
        "                    tmin=tmin, tmax=tmax,\n",
        "#                    reject=reject_criteria, reject_by_annotation=True,\n",
        "                    proj=True, baseline=(None, 0), preload=True,\n",
        "                    detrend=None, verbose=True)\n",
        "# epochs.plot_drop_log()"
      ],
      "execution_count": 77,
      "outputs": [
        {
          "output_type": "stream",
          "name": "stdout",
          "text": [
            "Not setting metadata\n",
            "79 matching events found\n",
            "Setting baseline interval to [-5.0, 0.0] sec\n",
            "Applying baseline correction (mode: mean)\n",
            "0 projection items activated\n",
            "Using data from preloaded Raw for 79 events and 231 original time points ...\n",
            "0 bad epochs dropped\n"
          ]
        }
      ]
    },
    {
      "cell_type": "markdown",
      "metadata": {
        "id": "Culc1ccGNFiC"
      },
      "source": [
        "## View consistency of responses across trials\n",
        "\n",
        "Now we can view the haemodynamic response for our tapping condition.\n",
        "We visualise the response for both the oxy- and deoxyhaemoglobin, and\n",
        "observe the expected peak in HbO at around 6 seconds consistently across\n",
        "trials, and the consistent dip in HbR that is slightly delayed relative to\n",
        "the HbO peak.\n",
        "\n"
      ]
    },
    {
      "cell_type": "markdown",
      "metadata": {
        "id": "PCO6ieSnNFiC"
      },
      "source": [
        "We can also view the epoched data for the control condition and observe\n",
        "that it does not show the expected morphology.\n",
        "\n"
      ]
    },
    {
      "cell_type": "markdown",
      "metadata": {
        "id": "4s1D1RywNFiC"
      },
      "source": [
        "## View consistency of responses across channels\n",
        "\n",
        "Similarly we can view how consistent the response is across the optode\n",
        "pairs that we selected. All the channels in this data are located over the\n",
        "motor cortex, and all channels show a similar pattern in the data.\n",
        "\n"
      ]
    },
    {
      "cell_type": "code",
      "metadata": {
        "id": "dVWim3GhNFiD"
      },
      "source": [
        "# fig, axes = plt.subplots(nrows=2, ncols=2, figsize=(15, 6))\n",
        "clims = dict(hbo=[-20, 20], hbr=[-20, 20])\n",
        "# epochs['aux1'].average().plot_image(axes=axes[:, 0], clim=clims)\n",
        "# epochs['aux2'].average().plot_image(axes=axes[:, 1], clim=clims)\n",
        "# for column, condition in enumerate(['aux1', 'aux2']):\n",
        "#     for ax in axes[:, column]:\n",
        "#       ax.set_title('{}: {}'.format(condition, ax.get_title()))"
      ],
      "execution_count": 78,
      "outputs": []
    },
    {
      "cell_type": "markdown",
      "metadata": {
        "id": "Bl6uP4yuNFiD"
      },
      "source": [
        "## Plot standard fNIRS response image\n",
        "\n",
        "Next we generate the most common visualisation of fNIRS data: plotting\n",
        "both the HbO and HbR on the same figure to illustrate the relation between\n",
        "the two signals.\n",
        "\n"
      ]
    },
    {
      "cell_type": "code",
      "source": [
        "epochs.to_data_frame().head()"
      ],
      "metadata": {
        "colab": {
          "base_uri": "https://localhost:8080/",
          "height": 288
        },
        "id": "d-3u2UqzilKV",
        "outputId": "67558072-c1af-434d-a8b3-d2f974236035"
      },
      "execution_count": 79,
      "outputs": [
        {
          "output_type": "execute_result",
          "data": {
            "text/html": [
              "\n",
              "  <div id=\"df-119847ed-4381-428f-8bfc-11948357a46a\">\n",
              "    <div class=\"colab-df-container\">\n",
              "      <div>\n",
              "<style scoped>\n",
              "    .dataframe tbody tr th:only-of-type {\n",
              "        vertical-align: middle;\n",
              "    }\n",
              "\n",
              "    .dataframe tbody tr th {\n",
              "        vertical-align: top;\n",
              "    }\n",
              "\n",
              "    .dataframe thead th {\n",
              "        text-align: right;\n",
              "    }\n",
              "</style>\n",
              "<table border=\"1\" class=\"dataframe\">\n",
              "  <thead>\n",
              "    <tr style=\"text-align: right;\">\n",
              "      <th></th>\n",
              "      <th>time</th>\n",
              "      <th>condition</th>\n",
              "      <th>epoch</th>\n",
              "      <th>S1_D2 hbo</th>\n",
              "      <th>S1_D2 hbr</th>\n",
              "      <th>S1_D3 hbo</th>\n",
              "      <th>S1_D3 hbr</th>\n",
              "      <th>S1_D4 hbo</th>\n",
              "      <th>S1_D4 hbr</th>\n",
              "      <th>S1_D12 hbo</th>\n",
              "      <th>S1_D12 hbr</th>\n",
              "      <th>S2_D1 hbo</th>\n",
              "      <th>S2_D1 hbr</th>\n",
              "      <th>S2_D4 hbo</th>\n",
              "      <th>S2_D4 hbr</th>\n",
              "      <th>S2_D5 hbo</th>\n",
              "      <th>S2_D5 hbr</th>\n",
              "      <th>S2_D13 hbo</th>\n",
              "      <th>S2_D13 hbr</th>\n",
              "      <th>S3_D10 hbo</th>\n",
              "      <th>S3_D10 hbr</th>\n",
              "      <th>S3_D6 hbo</th>\n",
              "      <th>S3_D6 hbr</th>\n",
              "      <th>S3_D7 hbo</th>\n",
              "      <th>S3_D7 hbr</th>\n",
              "      <th>S3_D8 hbo</th>\n",
              "      <th>S3_D8 hbr</th>\n",
              "      <th>S4_D1 hbo</th>\n",
              "      <th>S4_D1 hbr</th>\n",
              "      <th>S4_D11 hbo</th>\n",
              "      <th>S4_D11 hbr</th>\n",
              "      <th>S4_D8 hbo</th>\n",
              "      <th>S4_D8 hbr</th>\n",
              "      <th>S4_D9 hbo</th>\n",
              "      <th>S4_D9 hbr</th>\n",
              "    </tr>\n",
              "  </thead>\n",
              "  <tbody>\n",
              "    <tr>\n",
              "      <th>0</th>\n",
              "      <td>-5000</td>\n",
              "      <td>aux6</td>\n",
              "      <td>0</td>\n",
              "      <td>-21.812743</td>\n",
              "      <td>1.760024</td>\n",
              "      <td>-42.561862</td>\n",
              "      <td>5.569364</td>\n",
              "      <td>-53.632875</td>\n",
              "      <td>-9.727978</td>\n",
              "      <td>-47.184254</td>\n",
              "      <td>-3.362031</td>\n",
              "      <td>-68.909280</td>\n",
              "      <td>24.252682</td>\n",
              "      <td>-70.049732</td>\n",
              "      <td>37.288434</td>\n",
              "      <td>-62.305748</td>\n",
              "      <td>-6.388614</td>\n",
              "      <td>-74.572716</td>\n",
              "      <td>-19.750323</td>\n",
              "      <td>-73.621778</td>\n",
              "      <td>-14.283885</td>\n",
              "      <td>-135.088436</td>\n",
              "      <td>-17.731201</td>\n",
              "      <td>-42.377551</td>\n",
              "      <td>-2.461676</td>\n",
              "      <td>-52.475936</td>\n",
              "      <td>2.832438</td>\n",
              "      <td>-50.034933</td>\n",
              "      <td>1.261484</td>\n",
              "      <td>-63.518994</td>\n",
              "      <td>-4.601830</td>\n",
              "      <td>-31.165397</td>\n",
              "      <td>6.657717</td>\n",
              "      <td>-52.235409</td>\n",
              "      <td>-4.605603</td>\n",
              "    </tr>\n",
              "    <tr>\n",
              "      <th>1</th>\n",
              "      <td>-4900</td>\n",
              "      <td>aux6</td>\n",
              "      <td>0</td>\n",
              "      <td>-16.008299</td>\n",
              "      <td>3.530894</td>\n",
              "      <td>-39.888116</td>\n",
              "      <td>7.606000</td>\n",
              "      <td>-47.786796</td>\n",
              "      <td>-8.287191</td>\n",
              "      <td>-40.166508</td>\n",
              "      <td>-2.796853</td>\n",
              "      <td>-64.757224</td>\n",
              "      <td>31.777419</td>\n",
              "      <td>-58.155644</td>\n",
              "      <td>25.861569</td>\n",
              "      <td>-56.677043</td>\n",
              "      <td>-4.636255</td>\n",
              "      <td>-68.469260</td>\n",
              "      <td>-19.250321</td>\n",
              "      <td>-70.479795</td>\n",
              "      <td>-12.982862</td>\n",
              "      <td>-128.261031</td>\n",
              "      <td>-16.342686</td>\n",
              "      <td>-39.978050</td>\n",
              "      <td>-3.442706</td>\n",
              "      <td>-51.180960</td>\n",
              "      <td>5.345139</td>\n",
              "      <td>-47.167954</td>\n",
              "      <td>1.872085</td>\n",
              "      <td>-60.731851</td>\n",
              "      <td>-4.045811</td>\n",
              "      <td>-27.474617</td>\n",
              "      <td>8.328695</td>\n",
              "      <td>-49.643776</td>\n",
              "      <td>-4.336872</td>\n",
              "    </tr>\n",
              "    <tr>\n",
              "      <th>2</th>\n",
              "      <td>-4800</td>\n",
              "      <td>aux6</td>\n",
              "      <td>0</td>\n",
              "      <td>-10.761373</td>\n",
              "      <td>5.566971</td>\n",
              "      <td>-37.346227</td>\n",
              "      <td>10.929592</td>\n",
              "      <td>-42.233002</td>\n",
              "      <td>-5.883338</td>\n",
              "      <td>-33.667034</td>\n",
              "      <td>-2.433242</td>\n",
              "      <td>-52.812636</td>\n",
              "      <td>33.907315</td>\n",
              "      <td>-47.031998</td>\n",
              "      <td>15.635711</td>\n",
              "      <td>-51.033677</td>\n",
              "      <td>-3.029157</td>\n",
              "      <td>-63.050547</td>\n",
              "      <td>-18.344004</td>\n",
              "      <td>-65.580526</td>\n",
              "      <td>-11.791020</td>\n",
              "      <td>-119.980813</td>\n",
              "      <td>-15.207064</td>\n",
              "      <td>-38.712330</td>\n",
              "      <td>-4.487708</td>\n",
              "      <td>-49.137190</td>\n",
              "      <td>6.579761</td>\n",
              "      <td>-44.693900</td>\n",
              "      <td>2.960600</td>\n",
              "      <td>-58.303888</td>\n",
              "      <td>-3.489114</td>\n",
              "      <td>-24.734150</td>\n",
              "      <td>9.258261</td>\n",
              "      <td>-47.030697</td>\n",
              "      <td>-3.720264</td>\n",
              "    </tr>\n",
              "    <tr>\n",
              "      <th>3</th>\n",
              "      <td>-4700</td>\n",
              "      <td>aux6</td>\n",
              "      <td>0</td>\n",
              "      <td>-6.341165</td>\n",
              "      <td>7.684431</td>\n",
              "      <td>-35.055994</td>\n",
              "      <td>15.313388</td>\n",
              "      <td>-37.299224</td>\n",
              "      <td>-2.673340</td>\n",
              "      <td>-28.132340</td>\n",
              "      <td>-2.216961</td>\n",
              "      <td>-31.930520</td>\n",
              "      <td>27.131683</td>\n",
              "      <td>-37.111644</td>\n",
              "      <td>7.739649</td>\n",
              "      <td>-45.520510</td>\n",
              "      <td>-1.488841</td>\n",
              "      <td>-58.333907</td>\n",
              "      <td>-16.988811</td>\n",
              "      <td>-58.968510</td>\n",
              "      <td>-10.731815</td>\n",
              "      <td>-110.381290</td>\n",
              "      <td>-14.144965</td>\n",
              "      <td>-38.366655</td>\n",
              "      <td>-5.491131</td>\n",
              "      <td>-46.396952</td>\n",
              "      <td>6.642500</td>\n",
              "      <td>-42.538582</td>\n",
              "      <td>4.386783</td>\n",
              "      <td>-56.229933</td>\n",
              "      <td>-2.972067</td>\n",
              "      <td>-22.940972</td>\n",
              "      <td>9.317866</td>\n",
              "      <td>-44.430994</td>\n",
              "      <td>-2.862990</td>\n",
              "    </tr>\n",
              "    <tr>\n",
              "      <th>4</th>\n",
              "      <td>-4600</td>\n",
              "      <td>aux6</td>\n",
              "      <td>0</td>\n",
              "      <td>-2.894198</td>\n",
              "      <td>9.615017</td>\n",
              "      <td>-32.859082</td>\n",
              "      <td>20.123333</td>\n",
              "      <td>-33.202682</td>\n",
              "      <td>1.068184</td>\n",
              "      <td>-23.856080</td>\n",
              "      <td>-2.077078</td>\n",
              "      <td>-2.618415</td>\n",
              "      <td>9.658754</td>\n",
              "      <td>-28.654629</td>\n",
              "      <td>2.770645</td>\n",
              "      <td>-40.195899</td>\n",
              "      <td>0.043230</td>\n",
              "      <td>-54.205838</td>\n",
              "      <td>-15.193967</td>\n",
              "      <td>-50.895508</td>\n",
              "      <td>-9.806434</td>\n",
              "      <td>-99.726250</td>\n",
              "      <td>-12.968640</td>\n",
              "      <td>-38.570209</td>\n",
              "      <td>-6.407675</td>\n",
              "      <td>-43.110305</td>\n",
              "      <td>5.824823</td>\n",
              "      <td>-40.556952</td>\n",
              "      <td>5.931112</td>\n",
              "      <td>-54.420662</td>\n",
              "      <td>-2.523168</td>\n",
              "      <td>-21.942417</td>\n",
              "      <td>8.451701</td>\n",
              "      <td>-41.837938</td>\n",
              "      <td>-1.895763</td>\n",
              "    </tr>\n",
              "  </tbody>\n",
              "</table>\n",
              "</div>\n",
              "      <button class=\"colab-df-convert\" onclick=\"convertToInteractive('df-119847ed-4381-428f-8bfc-11948357a46a')\"\n",
              "              title=\"Convert this dataframe to an interactive table.\"\n",
              "              style=\"display:none;\">\n",
              "        \n",
              "  <svg xmlns=\"http://www.w3.org/2000/svg\" height=\"24px\"viewBox=\"0 0 24 24\"\n",
              "       width=\"24px\">\n",
              "    <path d=\"M0 0h24v24H0V0z\" fill=\"none\"/>\n",
              "    <path d=\"M18.56 5.44l.94 2.06.94-2.06 2.06-.94-2.06-.94-.94-2.06-.94 2.06-2.06.94zm-11 1L8.5 8.5l.94-2.06 2.06-.94-2.06-.94L8.5 2.5l-.94 2.06-2.06.94zm10 10l.94 2.06.94-2.06 2.06-.94-2.06-.94-.94-2.06-.94 2.06-2.06.94z\"/><path d=\"M17.41 7.96l-1.37-1.37c-.4-.4-.92-.59-1.43-.59-.52 0-1.04.2-1.43.59L10.3 9.45l-7.72 7.72c-.78.78-.78 2.05 0 2.83L4 21.41c.39.39.9.59 1.41.59.51 0 1.02-.2 1.41-.59l7.78-7.78 2.81-2.81c.8-.78.8-2.07 0-2.86zM5.41 20L4 18.59l7.72-7.72 1.47 1.35L5.41 20z\"/>\n",
              "  </svg>\n",
              "      </button>\n",
              "      \n",
              "  <style>\n",
              "    .colab-df-container {\n",
              "      display:flex;\n",
              "      flex-wrap:wrap;\n",
              "      gap: 12px;\n",
              "    }\n",
              "\n",
              "    .colab-df-convert {\n",
              "      background-color: #E8F0FE;\n",
              "      border: none;\n",
              "      border-radius: 50%;\n",
              "      cursor: pointer;\n",
              "      display: none;\n",
              "      fill: #1967D2;\n",
              "      height: 32px;\n",
              "      padding: 0 0 0 0;\n",
              "      width: 32px;\n",
              "    }\n",
              "\n",
              "    .colab-df-convert:hover {\n",
              "      background-color: #E2EBFA;\n",
              "      box-shadow: 0px 1px 2px rgba(60, 64, 67, 0.3), 0px 1px 3px 1px rgba(60, 64, 67, 0.15);\n",
              "      fill: #174EA6;\n",
              "    }\n",
              "\n",
              "    [theme=dark] .colab-df-convert {\n",
              "      background-color: #3B4455;\n",
              "      fill: #D2E3FC;\n",
              "    }\n",
              "\n",
              "    [theme=dark] .colab-df-convert:hover {\n",
              "      background-color: #434B5C;\n",
              "      box-shadow: 0px 1px 3px 1px rgba(0, 0, 0, 0.15);\n",
              "      filter: drop-shadow(0px 1px 2px rgba(0, 0, 0, 0.3));\n",
              "      fill: #FFFFFF;\n",
              "    }\n",
              "  </style>\n",
              "\n",
              "      <script>\n",
              "        const buttonEl =\n",
              "          document.querySelector('#df-119847ed-4381-428f-8bfc-11948357a46a button.colab-df-convert');\n",
              "        buttonEl.style.display =\n",
              "          google.colab.kernel.accessAllowed ? 'block' : 'none';\n",
              "\n",
              "        async function convertToInteractive(key) {\n",
              "          const element = document.querySelector('#df-119847ed-4381-428f-8bfc-11948357a46a');\n",
              "          const dataTable =\n",
              "            await google.colab.kernel.invokeFunction('convertToInteractive',\n",
              "                                                     [key], {});\n",
              "          if (!dataTable) return;\n",
              "\n",
              "          const docLinkHtml = 'Like what you see? Visit the ' +\n",
              "            '<a target=\"_blank\" href=https://colab.research.google.com/notebooks/data_table.ipynb>data table notebook</a>'\n",
              "            + ' to learn more about interactive tables.';\n",
              "          element.innerHTML = '';\n",
              "          dataTable['output_type'] = 'display_data';\n",
              "          await google.colab.output.renderOutput(dataTable, element);\n",
              "          const docLink = document.createElement('div');\n",
              "          docLink.innerHTML = docLinkHtml;\n",
              "          element.appendChild(docLink);\n",
              "        }\n",
              "      </script>\n",
              "    </div>\n",
              "  </div>\n",
              "  "
            ],
            "text/plain": [
              "   time condition  epoch  S1_D2 hbo  ...  S4_D8 hbo  S4_D8 hbr  S4_D9 hbo  S4_D9 hbr\n",
              "0 -5000      aux6      0 -21.812743  ... -31.165397   6.657717 -52.235409  -4.605603\n",
              "1 -4900      aux6      0 -16.008299  ... -27.474617   8.328695 -49.643776  -4.336872\n",
              "2 -4800      aux6      0 -10.761373  ... -24.734150   9.258261 -47.030697  -3.720264\n",
              "3 -4700      aux6      0  -6.341165  ... -22.940972   9.317866 -44.430994  -2.862990\n",
              "4 -4600      aux6      0  -2.894198  ... -21.942417   8.451701 -41.837938  -1.895763\n",
              "\n",
              "[5 rows x 35 columns]"
            ]
          },
          "metadata": {},
          "execution_count": 79
        }
      ]
    },
    {
      "cell_type": "code",
      "source": [
        "list_conditions = list( epochs.to_data_frame()['condition'].unique() )\n",
        "list_conditions = sorted(list_conditions)\n",
        "list_conditions"
      ],
      "metadata": {
        "id": "aIPGIMnYazL_",
        "outputId": "21ff1d88-32f8-4d4a-f057-52973e161117",
        "colab": {
          "base_uri": "https://localhost:8080/"
        }
      },
      "execution_count": 80,
      "outputs": [
        {
          "output_type": "execute_result",
          "data": {
            "text/plain": [
              "['aux1', 'aux2', 'aux3', 'aux4', 'aux5', 'aux6', 'aux7', 'aux8', 'rest']"
            ]
          },
          "metadata": {},
          "execution_count": 80
        }
      ]
    },
    {
      "cell_type": "code",
      "source": [
        "epochs[list_conditions[0]].average(picks='hbr').to_data_frame()"
      ],
      "metadata": {
        "colab": {
          "base_uri": "https://localhost:8080/",
          "height": 505
        },
        "id": "HcJJmBMIkyW2",
        "outputId": "8de6d373-5f05-49a2-f90d-9c008242f2f9"
      },
      "execution_count": 81,
      "outputs": [
        {
          "output_type": "execute_result",
          "data": {
            "text/html": [
              "\n",
              "  <div id=\"df-c859c9bb-6b52-46c1-8b7d-f4ae368a1998\">\n",
              "    <div class=\"colab-df-container\">\n",
              "      <div>\n",
              "<style scoped>\n",
              "    .dataframe tbody tr th:only-of-type {\n",
              "        vertical-align: middle;\n",
              "    }\n",
              "\n",
              "    .dataframe tbody tr th {\n",
              "        vertical-align: top;\n",
              "    }\n",
              "\n",
              "    .dataframe thead th {\n",
              "        text-align: right;\n",
              "    }\n",
              "</style>\n",
              "<table border=\"1\" class=\"dataframe\">\n",
              "  <thead>\n",
              "    <tr style=\"text-align: right;\">\n",
              "      <th></th>\n",
              "      <th>time</th>\n",
              "      <th>S1_D2 hbr</th>\n",
              "      <th>S1_D3 hbr</th>\n",
              "      <th>S1_D4 hbr</th>\n",
              "      <th>S1_D12 hbr</th>\n",
              "      <th>S2_D1 hbr</th>\n",
              "      <th>S2_D4 hbr</th>\n",
              "      <th>S2_D5 hbr</th>\n",
              "      <th>S2_D13 hbr</th>\n",
              "      <th>S3_D10 hbr</th>\n",
              "      <th>S3_D6 hbr</th>\n",
              "      <th>S3_D7 hbr</th>\n",
              "      <th>S3_D8 hbr</th>\n",
              "      <th>S4_D1 hbr</th>\n",
              "      <th>S4_D11 hbr</th>\n",
              "      <th>S4_D8 hbr</th>\n",
              "      <th>S4_D9 hbr</th>\n",
              "    </tr>\n",
              "  </thead>\n",
              "  <tbody>\n",
              "    <tr>\n",
              "      <th>0</th>\n",
              "      <td>-5000</td>\n",
              "      <td>-8.336575</td>\n",
              "      <td>1.548575</td>\n",
              "      <td>5.071487</td>\n",
              "      <td>-6.121890</td>\n",
              "      <td>51.480131</td>\n",
              "      <td>-13.393498</td>\n",
              "      <td>-15.651080</td>\n",
              "      <td>-14.697657</td>\n",
              "      <td>27.439039</td>\n",
              "      <td>19.923441</td>\n",
              "      <td>-4.395700</td>\n",
              "      <td>19.318853</td>\n",
              "      <td>-2.691740</td>\n",
              "      <td>-5.006488</td>\n",
              "      <td>9.865094</td>\n",
              "      <td>-1.125105</td>\n",
              "    </tr>\n",
              "    <tr>\n",
              "      <th>1</th>\n",
              "      <td>-4900</td>\n",
              "      <td>-6.928836</td>\n",
              "      <td>3.749682</td>\n",
              "      <td>3.889058</td>\n",
              "      <td>-5.734283</td>\n",
              "      <td>30.362255</td>\n",
              "      <td>-18.922874</td>\n",
              "      <td>-15.626930</td>\n",
              "      <td>-14.490519</td>\n",
              "      <td>28.997557</td>\n",
              "      <td>21.986028</td>\n",
              "      <td>-3.805935</td>\n",
              "      <td>20.209728</td>\n",
              "      <td>-2.551761</td>\n",
              "      <td>-4.590396</td>\n",
              "      <td>10.330399</td>\n",
              "      <td>-1.109815</td>\n",
              "    </tr>\n",
              "    <tr>\n",
              "      <th>2</th>\n",
              "      <td>-4800</td>\n",
              "      <td>-6.228482</td>\n",
              "      <td>5.022330</td>\n",
              "      <td>2.485082</td>\n",
              "      <td>-5.116312</td>\n",
              "      <td>10.700992</td>\n",
              "      <td>-22.894401</td>\n",
              "      <td>-15.728334</td>\n",
              "      <td>-14.580425</td>\n",
              "      <td>29.896580</td>\n",
              "      <td>23.767948</td>\n",
              "      <td>-3.045915</td>\n",
              "      <td>21.387133</td>\n",
              "      <td>-2.421128</td>\n",
              "      <td>-3.961185</td>\n",
              "      <td>10.049852</td>\n",
              "      <td>-0.794900</td>\n",
              "    </tr>\n",
              "    <tr>\n",
              "      <th>3</th>\n",
              "      <td>-4700</td>\n",
              "      <td>-6.381817</td>\n",
              "      <td>5.242405</td>\n",
              "      <td>1.043288</td>\n",
              "      <td>-4.427689</td>\n",
              "      <td>-3.973613</td>\n",
              "      <td>-24.693839</td>\n",
              "      <td>-15.946156</td>\n",
              "      <td>-14.919339</td>\n",
              "      <td>30.164619</td>\n",
              "      <td>25.048853</td>\n",
              "      <td>-2.352599</td>\n",
              "      <td>22.497707</td>\n",
              "      <td>-2.307653</td>\n",
              "      <td>-3.146967</td>\n",
              "      <td>8.901718</td>\n",
              "      <td>-0.233936</td>\n",
              "    </tr>\n",
              "    <tr>\n",
              "      <th>4</th>\n",
              "      <td>-4600</td>\n",
              "      <td>-7.329757</td>\n",
              "      <td>4.447310</td>\n",
              "      <td>-0.243994</td>\n",
              "      <td>-3.803826</td>\n",
              "      <td>-11.507958</td>\n",
              "      <td>-24.085167</td>\n",
              "      <td>-16.229008</td>\n",
              "      <td>-15.408282</td>\n",
              "      <td>29.753119</td>\n",
              "      <td>25.631728</td>\n",
              "      <td>-1.957360</td>\n",
              "      <td>23.204586</td>\n",
              "      <td>-2.203337</td>\n",
              "      <td>-2.207815</td>\n",
              "      <td>6.880048</td>\n",
              "      <td>0.478242</td>\n",
              "    </tr>\n",
              "    <tr>\n",
              "      <th>...</th>\n",
              "      <td>...</td>\n",
              "      <td>...</td>\n",
              "      <td>...</td>\n",
              "      <td>...</td>\n",
              "      <td>...</td>\n",
              "      <td>...</td>\n",
              "      <td>...</td>\n",
              "      <td>...</td>\n",
              "      <td>...</td>\n",
              "      <td>...</td>\n",
              "      <td>...</td>\n",
              "      <td>...</td>\n",
              "      <td>...</td>\n",
              "      <td>...</td>\n",
              "      <td>...</td>\n",
              "      <td>...</td>\n",
              "      <td>...</td>\n",
              "    </tr>\n",
              "    <tr>\n",
              "      <th>226</th>\n",
              "      <td>17600</td>\n",
              "      <td>-4.103933</td>\n",
              "      <td>15.280957</td>\n",
              "      <td>21.829515</td>\n",
              "      <td>14.563027</td>\n",
              "      <td>56.760166</td>\n",
              "      <td>-37.123503</td>\n",
              "      <td>-45.273213</td>\n",
              "      <td>-52.716944</td>\n",
              "      <td>-63.464100</td>\n",
              "      <td>-38.689232</td>\n",
              "      <td>-66.747256</td>\n",
              "      <td>-3.435965</td>\n",
              "      <td>-2.062336</td>\n",
              "      <td>-1.531695</td>\n",
              "      <td>-4.993205</td>\n",
              "      <td>8.833863</td>\n",
              "    </tr>\n",
              "    <tr>\n",
              "      <th>227</th>\n",
              "      <td>17700</td>\n",
              "      <td>-6.339828</td>\n",
              "      <td>13.913297</td>\n",
              "      <td>22.385929</td>\n",
              "      <td>13.222962</td>\n",
              "      <td>55.462846</td>\n",
              "      <td>-44.945082</td>\n",
              "      <td>-48.401129</td>\n",
              "      <td>-55.713358</td>\n",
              "      <td>-59.663411</td>\n",
              "      <td>-34.915276</td>\n",
              "      <td>-68.987510</td>\n",
              "      <td>-0.277508</td>\n",
              "      <td>-2.518652</td>\n",
              "      <td>-1.463931</td>\n",
              "      <td>-7.067088</td>\n",
              "      <td>9.462576</td>\n",
              "    </tr>\n",
              "    <tr>\n",
              "      <th>228</th>\n",
              "      <td>17800</td>\n",
              "      <td>-9.005180</td>\n",
              "      <td>12.282234</td>\n",
              "      <td>23.326909</td>\n",
              "      <td>11.802878</td>\n",
              "      <td>54.933875</td>\n",
              "      <td>-52.570110</td>\n",
              "      <td>-50.769046</td>\n",
              "      <td>-57.335512</td>\n",
              "      <td>-54.645273</td>\n",
              "      <td>-31.100485</td>\n",
              "      <td>-69.941830</td>\n",
              "      <td>2.234607</td>\n",
              "      <td>-3.064310</td>\n",
              "      <td>-1.423010</td>\n",
              "      <td>-8.437749</td>\n",
              "      <td>9.762325</td>\n",
              "    </tr>\n",
              "    <tr>\n",
              "      <th>229</th>\n",
              "      <td>17900</td>\n",
              "      <td>-11.894834</td>\n",
              "      <td>10.712611</td>\n",
              "      <td>24.542429</td>\n",
              "      <td>10.562004</td>\n",
              "      <td>52.749809</td>\n",
              "      <td>-58.793153</td>\n",
              "      <td>-52.496012</td>\n",
              "      <td>-57.680497</td>\n",
              "      <td>-49.145713</td>\n",
              "      <td>-27.805682</td>\n",
              "      <td>-69.776243</td>\n",
              "      <td>4.039838</td>\n",
              "      <td>-3.707774</td>\n",
              "      <td>-1.478636</td>\n",
              "      <td>-9.096583</td>\n",
              "      <td>9.683404</td>\n",
              "    </tr>\n",
              "    <tr>\n",
              "      <th>230</th>\n",
              "      <td>18000</td>\n",
              "      <td>-14.742827</td>\n",
              "      <td>9.512352</td>\n",
              "      <td>25.848911</td>\n",
              "      <td>9.715348</td>\n",
              "      <td>46.585858</td>\n",
              "      <td>-62.707976</td>\n",
              "      <td>-53.759514</td>\n",
              "      <td>-57.016607</td>\n",
              "      <td>-43.860134</td>\n",
              "      <td>-25.375400</td>\n",
              "      <td>-68.837885</td>\n",
              "      <td>5.202986</td>\n",
              "      <td>-4.440438</td>\n",
              "      <td>-1.689185</td>\n",
              "      <td>-9.191467</td>\n",
              "      <td>9.233108</td>\n",
              "    </tr>\n",
              "  </tbody>\n",
              "</table>\n",
              "<p>231 rows × 17 columns</p>\n",
              "</div>\n",
              "      <button class=\"colab-df-convert\" onclick=\"convertToInteractive('df-c859c9bb-6b52-46c1-8b7d-f4ae368a1998')\"\n",
              "              title=\"Convert this dataframe to an interactive table.\"\n",
              "              style=\"display:none;\">\n",
              "        \n",
              "  <svg xmlns=\"http://www.w3.org/2000/svg\" height=\"24px\"viewBox=\"0 0 24 24\"\n",
              "       width=\"24px\">\n",
              "    <path d=\"M0 0h24v24H0V0z\" fill=\"none\"/>\n",
              "    <path d=\"M18.56 5.44l.94 2.06.94-2.06 2.06-.94-2.06-.94-.94-2.06-.94 2.06-2.06.94zm-11 1L8.5 8.5l.94-2.06 2.06-.94-2.06-.94L8.5 2.5l-.94 2.06-2.06.94zm10 10l.94 2.06.94-2.06 2.06-.94-2.06-.94-.94-2.06-.94 2.06-2.06.94z\"/><path d=\"M17.41 7.96l-1.37-1.37c-.4-.4-.92-.59-1.43-.59-.52 0-1.04.2-1.43.59L10.3 9.45l-7.72 7.72c-.78.78-.78 2.05 0 2.83L4 21.41c.39.39.9.59 1.41.59.51 0 1.02-.2 1.41-.59l7.78-7.78 2.81-2.81c.8-.78.8-2.07 0-2.86zM5.41 20L4 18.59l7.72-7.72 1.47 1.35L5.41 20z\"/>\n",
              "  </svg>\n",
              "      </button>\n",
              "      \n",
              "  <style>\n",
              "    .colab-df-container {\n",
              "      display:flex;\n",
              "      flex-wrap:wrap;\n",
              "      gap: 12px;\n",
              "    }\n",
              "\n",
              "    .colab-df-convert {\n",
              "      background-color: #E8F0FE;\n",
              "      border: none;\n",
              "      border-radius: 50%;\n",
              "      cursor: pointer;\n",
              "      display: none;\n",
              "      fill: #1967D2;\n",
              "      height: 32px;\n",
              "      padding: 0 0 0 0;\n",
              "      width: 32px;\n",
              "    }\n",
              "\n",
              "    .colab-df-convert:hover {\n",
              "      background-color: #E2EBFA;\n",
              "      box-shadow: 0px 1px 2px rgba(60, 64, 67, 0.3), 0px 1px 3px 1px rgba(60, 64, 67, 0.15);\n",
              "      fill: #174EA6;\n",
              "    }\n",
              "\n",
              "    [theme=dark] .colab-df-convert {\n",
              "      background-color: #3B4455;\n",
              "      fill: #D2E3FC;\n",
              "    }\n",
              "\n",
              "    [theme=dark] .colab-df-convert:hover {\n",
              "      background-color: #434B5C;\n",
              "      box-shadow: 0px 1px 3px 1px rgba(0, 0, 0, 0.15);\n",
              "      filter: drop-shadow(0px 1px 2px rgba(0, 0, 0, 0.3));\n",
              "      fill: #FFFFFF;\n",
              "    }\n",
              "  </style>\n",
              "\n",
              "      <script>\n",
              "        const buttonEl =\n",
              "          document.querySelector('#df-c859c9bb-6b52-46c1-8b7d-f4ae368a1998 button.colab-df-convert');\n",
              "        buttonEl.style.display =\n",
              "          google.colab.kernel.accessAllowed ? 'block' : 'none';\n",
              "\n",
              "        async function convertToInteractive(key) {\n",
              "          const element = document.querySelector('#df-c859c9bb-6b52-46c1-8b7d-f4ae368a1998');\n",
              "          const dataTable =\n",
              "            await google.colab.kernel.invokeFunction('convertToInteractive',\n",
              "                                                     [key], {});\n",
              "          if (!dataTable) return;\n",
              "\n",
              "          const docLinkHtml = 'Like what you see? Visit the ' +\n",
              "            '<a target=\"_blank\" href=https://colab.research.google.com/notebooks/data_table.ipynb>data table notebook</a>'\n",
              "            + ' to learn more about interactive tables.';\n",
              "          element.innerHTML = '';\n",
              "          dataTable['output_type'] = 'display_data';\n",
              "          await google.colab.output.renderOutput(dataTable, element);\n",
              "          const docLink = document.createElement('div');\n",
              "          docLink.innerHTML = docLinkHtml;\n",
              "          element.appendChild(docLink);\n",
              "        }\n",
              "      </script>\n",
              "    </div>\n",
              "  </div>\n",
              "  "
            ],
            "text/plain": [
              "      time  S1_D2 hbr  S1_D3 hbr  ...  S4_D11 hbr  S4_D8 hbr  S4_D9 hbr\n",
              "0    -5000  -8.336575   1.548575  ...   -5.006488   9.865094  -1.125105\n",
              "1    -4900  -6.928836   3.749682  ...   -4.590396  10.330399  -1.109815\n",
              "2    -4800  -6.228482   5.022330  ...   -3.961185  10.049852  -0.794900\n",
              "3    -4700  -6.381817   5.242405  ...   -3.146967   8.901718  -0.233936\n",
              "4    -4600  -7.329757   4.447310  ...   -2.207815   6.880048   0.478242\n",
              "..     ...        ...        ...  ...         ...        ...        ...\n",
              "226  17600  -4.103933  15.280957  ...   -1.531695  -4.993205   8.833863\n",
              "227  17700  -6.339828  13.913297  ...   -1.463931  -7.067088   9.462576\n",
              "228  17800  -9.005180  12.282234  ...   -1.423010  -8.437749   9.762325\n",
              "229  17900 -11.894834  10.712611  ...   -1.478636  -9.096583   9.683404\n",
              "230  18000 -14.742827   9.512352  ...   -1.689185  -9.191467   9.233108\n",
              "\n",
              "[231 rows x 17 columns]"
            ]
          },
          "metadata": {},
          "execution_count": 81
        }
      ]
    },
    {
      "cell_type": "code",
      "source": [
        "dfx = epochs['aux1'].average(picks='hbr').to_data_frame()\n",
        "dfx.head()"
      ],
      "metadata": {
        "colab": {
          "base_uri": "https://localhost:8080/",
          "height": 288
        },
        "id": "r2MKzY7JaBJu",
        "outputId": "aed1d14a-b6fd-4f36-9f2a-f7e8f82854f4"
      },
      "execution_count": 82,
      "outputs": [
        {
          "output_type": "execute_result",
          "data": {
            "text/html": [
              "\n",
              "  <div id=\"df-62d8304b-385d-450f-b018-0474bd82bcd4\">\n",
              "    <div class=\"colab-df-container\">\n",
              "      <div>\n",
              "<style scoped>\n",
              "    .dataframe tbody tr th:only-of-type {\n",
              "        vertical-align: middle;\n",
              "    }\n",
              "\n",
              "    .dataframe tbody tr th {\n",
              "        vertical-align: top;\n",
              "    }\n",
              "\n",
              "    .dataframe thead th {\n",
              "        text-align: right;\n",
              "    }\n",
              "</style>\n",
              "<table border=\"1\" class=\"dataframe\">\n",
              "  <thead>\n",
              "    <tr style=\"text-align: right;\">\n",
              "      <th></th>\n",
              "      <th>time</th>\n",
              "      <th>S1_D2 hbr</th>\n",
              "      <th>S1_D3 hbr</th>\n",
              "      <th>S1_D4 hbr</th>\n",
              "      <th>S1_D12 hbr</th>\n",
              "      <th>S2_D1 hbr</th>\n",
              "      <th>S2_D4 hbr</th>\n",
              "      <th>S2_D5 hbr</th>\n",
              "      <th>S2_D13 hbr</th>\n",
              "      <th>S3_D10 hbr</th>\n",
              "      <th>S3_D6 hbr</th>\n",
              "      <th>S3_D7 hbr</th>\n",
              "      <th>S3_D8 hbr</th>\n",
              "      <th>S4_D1 hbr</th>\n",
              "      <th>S4_D11 hbr</th>\n",
              "      <th>S4_D8 hbr</th>\n",
              "      <th>S4_D9 hbr</th>\n",
              "    </tr>\n",
              "  </thead>\n",
              "  <tbody>\n",
              "    <tr>\n",
              "      <th>0</th>\n",
              "      <td>-5000</td>\n",
              "      <td>-8.336575</td>\n",
              "      <td>1.548575</td>\n",
              "      <td>5.071487</td>\n",
              "      <td>-6.121890</td>\n",
              "      <td>51.480131</td>\n",
              "      <td>-13.393498</td>\n",
              "      <td>-15.651080</td>\n",
              "      <td>-14.697657</td>\n",
              "      <td>27.439039</td>\n",
              "      <td>19.923441</td>\n",
              "      <td>-4.395700</td>\n",
              "      <td>19.318853</td>\n",
              "      <td>-2.691740</td>\n",
              "      <td>-5.006488</td>\n",
              "      <td>9.865094</td>\n",
              "      <td>-1.125105</td>\n",
              "    </tr>\n",
              "    <tr>\n",
              "      <th>1</th>\n",
              "      <td>-4900</td>\n",
              "      <td>-6.928836</td>\n",
              "      <td>3.749682</td>\n",
              "      <td>3.889058</td>\n",
              "      <td>-5.734283</td>\n",
              "      <td>30.362255</td>\n",
              "      <td>-18.922874</td>\n",
              "      <td>-15.626930</td>\n",
              "      <td>-14.490519</td>\n",
              "      <td>28.997557</td>\n",
              "      <td>21.986028</td>\n",
              "      <td>-3.805935</td>\n",
              "      <td>20.209728</td>\n",
              "      <td>-2.551761</td>\n",
              "      <td>-4.590396</td>\n",
              "      <td>10.330399</td>\n",
              "      <td>-1.109815</td>\n",
              "    </tr>\n",
              "    <tr>\n",
              "      <th>2</th>\n",
              "      <td>-4800</td>\n",
              "      <td>-6.228482</td>\n",
              "      <td>5.022330</td>\n",
              "      <td>2.485082</td>\n",
              "      <td>-5.116312</td>\n",
              "      <td>10.700992</td>\n",
              "      <td>-22.894401</td>\n",
              "      <td>-15.728334</td>\n",
              "      <td>-14.580425</td>\n",
              "      <td>29.896580</td>\n",
              "      <td>23.767948</td>\n",
              "      <td>-3.045915</td>\n",
              "      <td>21.387133</td>\n",
              "      <td>-2.421128</td>\n",
              "      <td>-3.961185</td>\n",
              "      <td>10.049852</td>\n",
              "      <td>-0.794900</td>\n",
              "    </tr>\n",
              "    <tr>\n",
              "      <th>3</th>\n",
              "      <td>-4700</td>\n",
              "      <td>-6.381817</td>\n",
              "      <td>5.242405</td>\n",
              "      <td>1.043288</td>\n",
              "      <td>-4.427689</td>\n",
              "      <td>-3.973613</td>\n",
              "      <td>-24.693839</td>\n",
              "      <td>-15.946156</td>\n",
              "      <td>-14.919339</td>\n",
              "      <td>30.164619</td>\n",
              "      <td>25.048853</td>\n",
              "      <td>-2.352599</td>\n",
              "      <td>22.497707</td>\n",
              "      <td>-2.307653</td>\n",
              "      <td>-3.146967</td>\n",
              "      <td>8.901718</td>\n",
              "      <td>-0.233936</td>\n",
              "    </tr>\n",
              "    <tr>\n",
              "      <th>4</th>\n",
              "      <td>-4600</td>\n",
              "      <td>-7.329757</td>\n",
              "      <td>4.447310</td>\n",
              "      <td>-0.243994</td>\n",
              "      <td>-3.803826</td>\n",
              "      <td>-11.507958</td>\n",
              "      <td>-24.085167</td>\n",
              "      <td>-16.229008</td>\n",
              "      <td>-15.408282</td>\n",
              "      <td>29.753119</td>\n",
              "      <td>25.631728</td>\n",
              "      <td>-1.957360</td>\n",
              "      <td>23.204586</td>\n",
              "      <td>-2.203337</td>\n",
              "      <td>-2.207815</td>\n",
              "      <td>6.880048</td>\n",
              "      <td>0.478242</td>\n",
              "    </tr>\n",
              "  </tbody>\n",
              "</table>\n",
              "</div>\n",
              "      <button class=\"colab-df-convert\" onclick=\"convertToInteractive('df-62d8304b-385d-450f-b018-0474bd82bcd4')\"\n",
              "              title=\"Convert this dataframe to an interactive table.\"\n",
              "              style=\"display:none;\">\n",
              "        \n",
              "  <svg xmlns=\"http://www.w3.org/2000/svg\" height=\"24px\"viewBox=\"0 0 24 24\"\n",
              "       width=\"24px\">\n",
              "    <path d=\"M0 0h24v24H0V0z\" fill=\"none\"/>\n",
              "    <path d=\"M18.56 5.44l.94 2.06.94-2.06 2.06-.94-2.06-.94-.94-2.06-.94 2.06-2.06.94zm-11 1L8.5 8.5l.94-2.06 2.06-.94-2.06-.94L8.5 2.5l-.94 2.06-2.06.94zm10 10l.94 2.06.94-2.06 2.06-.94-2.06-.94-.94-2.06-.94 2.06-2.06.94z\"/><path d=\"M17.41 7.96l-1.37-1.37c-.4-.4-.92-.59-1.43-.59-.52 0-1.04.2-1.43.59L10.3 9.45l-7.72 7.72c-.78.78-.78 2.05 0 2.83L4 21.41c.39.39.9.59 1.41.59.51 0 1.02-.2 1.41-.59l7.78-7.78 2.81-2.81c.8-.78.8-2.07 0-2.86zM5.41 20L4 18.59l7.72-7.72 1.47 1.35L5.41 20z\"/>\n",
              "  </svg>\n",
              "      </button>\n",
              "      \n",
              "  <style>\n",
              "    .colab-df-container {\n",
              "      display:flex;\n",
              "      flex-wrap:wrap;\n",
              "      gap: 12px;\n",
              "    }\n",
              "\n",
              "    .colab-df-convert {\n",
              "      background-color: #E8F0FE;\n",
              "      border: none;\n",
              "      border-radius: 50%;\n",
              "      cursor: pointer;\n",
              "      display: none;\n",
              "      fill: #1967D2;\n",
              "      height: 32px;\n",
              "      padding: 0 0 0 0;\n",
              "      width: 32px;\n",
              "    }\n",
              "\n",
              "    .colab-df-convert:hover {\n",
              "      background-color: #E2EBFA;\n",
              "      box-shadow: 0px 1px 2px rgba(60, 64, 67, 0.3), 0px 1px 3px 1px rgba(60, 64, 67, 0.15);\n",
              "      fill: #174EA6;\n",
              "    }\n",
              "\n",
              "    [theme=dark] .colab-df-convert {\n",
              "      background-color: #3B4455;\n",
              "      fill: #D2E3FC;\n",
              "    }\n",
              "\n",
              "    [theme=dark] .colab-df-convert:hover {\n",
              "      background-color: #434B5C;\n",
              "      box-shadow: 0px 1px 3px 1px rgba(0, 0, 0, 0.15);\n",
              "      filter: drop-shadow(0px 1px 2px rgba(0, 0, 0, 0.3));\n",
              "      fill: #FFFFFF;\n",
              "    }\n",
              "  </style>\n",
              "\n",
              "      <script>\n",
              "        const buttonEl =\n",
              "          document.querySelector('#df-62d8304b-385d-450f-b018-0474bd82bcd4 button.colab-df-convert');\n",
              "        buttonEl.style.display =\n",
              "          google.colab.kernel.accessAllowed ? 'block' : 'none';\n",
              "\n",
              "        async function convertToInteractive(key) {\n",
              "          const element = document.querySelector('#df-62d8304b-385d-450f-b018-0474bd82bcd4');\n",
              "          const dataTable =\n",
              "            await google.colab.kernel.invokeFunction('convertToInteractive',\n",
              "                                                     [key], {});\n",
              "          if (!dataTable) return;\n",
              "\n",
              "          const docLinkHtml = 'Like what you see? Visit the ' +\n",
              "            '<a target=\"_blank\" href=https://colab.research.google.com/notebooks/data_table.ipynb>data table notebook</a>'\n",
              "            + ' to learn more about interactive tables.';\n",
              "          element.innerHTML = '';\n",
              "          dataTable['output_type'] = 'display_data';\n",
              "          await google.colab.output.renderOutput(dataTable, element);\n",
              "          const docLink = document.createElement('div');\n",
              "          docLink.innerHTML = docLinkHtml;\n",
              "          element.appendChild(docLink);\n",
              "        }\n",
              "      </script>\n",
              "    </div>\n",
              "  </div>\n",
              "  "
            ],
            "text/plain": [
              "   time  S1_D2 hbr  S1_D3 hbr  ...  S4_D11 hbr  S4_D8 hbr  S4_D9 hbr\n",
              "0 -5000  -8.336575   1.548575  ...   -5.006488   9.865094  -1.125105\n",
              "1 -4900  -6.928836   3.749682  ...   -4.590396  10.330399  -1.109815\n",
              "2 -4800  -6.228482   5.022330  ...   -3.961185  10.049852  -0.794900\n",
              "3 -4700  -6.381817   5.242405  ...   -3.146967   8.901718  -0.233936\n",
              "4 -4600  -7.329757   4.447310  ...   -2.207815   6.880048   0.478242\n",
              "\n",
              "[5 rows x 17 columns]"
            ]
          },
          "metadata": {},
          "execution_count": 82
        }
      ]
    },
    {
      "cell_type": "code",
      "source": [
        "dfline = pd.melt(dfx, id_vars=['time'])\n",
        "dfline"
      ],
      "metadata": {
        "colab": {
          "base_uri": "https://localhost:8080/",
          "height": 424
        },
        "id": "3e_D7ivfdTcW",
        "outputId": "063203fa-ee90-42d2-f593-8abf14a761f2"
      },
      "execution_count": 83,
      "outputs": [
        {
          "output_type": "execute_result",
          "data": {
            "text/html": [
              "\n",
              "  <div id=\"df-73fb74d1-57c9-4389-a351-60b302fe8f67\">\n",
              "    <div class=\"colab-df-container\">\n",
              "      <div>\n",
              "<style scoped>\n",
              "    .dataframe tbody tr th:only-of-type {\n",
              "        vertical-align: middle;\n",
              "    }\n",
              "\n",
              "    .dataframe tbody tr th {\n",
              "        vertical-align: top;\n",
              "    }\n",
              "\n",
              "    .dataframe thead th {\n",
              "        text-align: right;\n",
              "    }\n",
              "</style>\n",
              "<table border=\"1\" class=\"dataframe\">\n",
              "  <thead>\n",
              "    <tr style=\"text-align: right;\">\n",
              "      <th></th>\n",
              "      <th>time</th>\n",
              "      <th>variable</th>\n",
              "      <th>value</th>\n",
              "    </tr>\n",
              "  </thead>\n",
              "  <tbody>\n",
              "    <tr>\n",
              "      <th>0</th>\n",
              "      <td>-5000</td>\n",
              "      <td>S1_D2 hbr</td>\n",
              "      <td>-8.336575</td>\n",
              "    </tr>\n",
              "    <tr>\n",
              "      <th>1</th>\n",
              "      <td>-4900</td>\n",
              "      <td>S1_D2 hbr</td>\n",
              "      <td>-6.928836</td>\n",
              "    </tr>\n",
              "    <tr>\n",
              "      <th>2</th>\n",
              "      <td>-4800</td>\n",
              "      <td>S1_D2 hbr</td>\n",
              "      <td>-6.228482</td>\n",
              "    </tr>\n",
              "    <tr>\n",
              "      <th>3</th>\n",
              "      <td>-4700</td>\n",
              "      <td>S1_D2 hbr</td>\n",
              "      <td>-6.381817</td>\n",
              "    </tr>\n",
              "    <tr>\n",
              "      <th>4</th>\n",
              "      <td>-4600</td>\n",
              "      <td>S1_D2 hbr</td>\n",
              "      <td>-7.329757</td>\n",
              "    </tr>\n",
              "    <tr>\n",
              "      <th>...</th>\n",
              "      <td>...</td>\n",
              "      <td>...</td>\n",
              "      <td>...</td>\n",
              "    </tr>\n",
              "    <tr>\n",
              "      <th>3691</th>\n",
              "      <td>17600</td>\n",
              "      <td>S4_D9 hbr</td>\n",
              "      <td>8.833863</td>\n",
              "    </tr>\n",
              "    <tr>\n",
              "      <th>3692</th>\n",
              "      <td>17700</td>\n",
              "      <td>S4_D9 hbr</td>\n",
              "      <td>9.462576</td>\n",
              "    </tr>\n",
              "    <tr>\n",
              "      <th>3693</th>\n",
              "      <td>17800</td>\n",
              "      <td>S4_D9 hbr</td>\n",
              "      <td>9.762325</td>\n",
              "    </tr>\n",
              "    <tr>\n",
              "      <th>3694</th>\n",
              "      <td>17900</td>\n",
              "      <td>S4_D9 hbr</td>\n",
              "      <td>9.683404</td>\n",
              "    </tr>\n",
              "    <tr>\n",
              "      <th>3695</th>\n",
              "      <td>18000</td>\n",
              "      <td>S4_D9 hbr</td>\n",
              "      <td>9.233108</td>\n",
              "    </tr>\n",
              "  </tbody>\n",
              "</table>\n",
              "<p>3696 rows × 3 columns</p>\n",
              "</div>\n",
              "      <button class=\"colab-df-convert\" onclick=\"convertToInteractive('df-73fb74d1-57c9-4389-a351-60b302fe8f67')\"\n",
              "              title=\"Convert this dataframe to an interactive table.\"\n",
              "              style=\"display:none;\">\n",
              "        \n",
              "  <svg xmlns=\"http://www.w3.org/2000/svg\" height=\"24px\"viewBox=\"0 0 24 24\"\n",
              "       width=\"24px\">\n",
              "    <path d=\"M0 0h24v24H0V0z\" fill=\"none\"/>\n",
              "    <path d=\"M18.56 5.44l.94 2.06.94-2.06 2.06-.94-2.06-.94-.94-2.06-.94 2.06-2.06.94zm-11 1L8.5 8.5l.94-2.06 2.06-.94-2.06-.94L8.5 2.5l-.94 2.06-2.06.94zm10 10l.94 2.06.94-2.06 2.06-.94-2.06-.94-.94-2.06-.94 2.06-2.06.94z\"/><path d=\"M17.41 7.96l-1.37-1.37c-.4-.4-.92-.59-1.43-.59-.52 0-1.04.2-1.43.59L10.3 9.45l-7.72 7.72c-.78.78-.78 2.05 0 2.83L4 21.41c.39.39.9.59 1.41.59.51 0 1.02-.2 1.41-.59l7.78-7.78 2.81-2.81c.8-.78.8-2.07 0-2.86zM5.41 20L4 18.59l7.72-7.72 1.47 1.35L5.41 20z\"/>\n",
              "  </svg>\n",
              "      </button>\n",
              "      \n",
              "  <style>\n",
              "    .colab-df-container {\n",
              "      display:flex;\n",
              "      flex-wrap:wrap;\n",
              "      gap: 12px;\n",
              "    }\n",
              "\n",
              "    .colab-df-convert {\n",
              "      background-color: #E8F0FE;\n",
              "      border: none;\n",
              "      border-radius: 50%;\n",
              "      cursor: pointer;\n",
              "      display: none;\n",
              "      fill: #1967D2;\n",
              "      height: 32px;\n",
              "      padding: 0 0 0 0;\n",
              "      width: 32px;\n",
              "    }\n",
              "\n",
              "    .colab-df-convert:hover {\n",
              "      background-color: #E2EBFA;\n",
              "      box-shadow: 0px 1px 2px rgba(60, 64, 67, 0.3), 0px 1px 3px 1px rgba(60, 64, 67, 0.15);\n",
              "      fill: #174EA6;\n",
              "    }\n",
              "\n",
              "    [theme=dark] .colab-df-convert {\n",
              "      background-color: #3B4455;\n",
              "      fill: #D2E3FC;\n",
              "    }\n",
              "\n",
              "    [theme=dark] .colab-df-convert:hover {\n",
              "      background-color: #434B5C;\n",
              "      box-shadow: 0px 1px 3px 1px rgba(0, 0, 0, 0.15);\n",
              "      filter: drop-shadow(0px 1px 2px rgba(0, 0, 0, 0.3));\n",
              "      fill: #FFFFFF;\n",
              "    }\n",
              "  </style>\n",
              "\n",
              "      <script>\n",
              "        const buttonEl =\n",
              "          document.querySelector('#df-73fb74d1-57c9-4389-a351-60b302fe8f67 button.colab-df-convert');\n",
              "        buttonEl.style.display =\n",
              "          google.colab.kernel.accessAllowed ? 'block' : 'none';\n",
              "\n",
              "        async function convertToInteractive(key) {\n",
              "          const element = document.querySelector('#df-73fb74d1-57c9-4389-a351-60b302fe8f67');\n",
              "          const dataTable =\n",
              "            await google.colab.kernel.invokeFunction('convertToInteractive',\n",
              "                                                     [key], {});\n",
              "          if (!dataTable) return;\n",
              "\n",
              "          const docLinkHtml = 'Like what you see? Visit the ' +\n",
              "            '<a target=\"_blank\" href=https://colab.research.google.com/notebooks/data_table.ipynb>data table notebook</a>'\n",
              "            + ' to learn more about interactive tables.';\n",
              "          element.innerHTML = '';\n",
              "          dataTable['output_type'] = 'display_data';\n",
              "          await google.colab.output.renderOutput(dataTable, element);\n",
              "          const docLink = document.createElement('div');\n",
              "          docLink.innerHTML = docLinkHtml;\n",
              "          element.appendChild(docLink);\n",
              "        }\n",
              "      </script>\n",
              "    </div>\n",
              "  </div>\n",
              "  "
            ],
            "text/plain": [
              "       time   variable     value\n",
              "0     -5000  S1_D2 hbr -8.336575\n",
              "1     -4900  S1_D2 hbr -6.928836\n",
              "2     -4800  S1_D2 hbr -6.228482\n",
              "3     -4700  S1_D2 hbr -6.381817\n",
              "4     -4600  S1_D2 hbr -7.329757\n",
              "...     ...        ...       ...\n",
              "3691  17600  S4_D9 hbr  8.833863\n",
              "3692  17700  S4_D9 hbr  9.462576\n",
              "3693  17800  S4_D9 hbr  9.762325\n",
              "3694  17900  S4_D9 hbr  9.683404\n",
              "3695  18000  S4_D9 hbr  9.233108\n",
              "\n",
              "[3696 rows x 3 columns]"
            ]
          },
          "metadata": {},
          "execution_count": 83
        }
      ]
    },
    {
      "cell_type": "code",
      "source": [
        "hbo_hbr = {}\n",
        "\n",
        "for c in list_conditions:\n",
        "  df_hbo = epochs[c].average(picks='hbo').to_data_frame()\n",
        "  df_hbo = pd.melt(df_hbo, id_vars=['time'])\n",
        "  df_hbr = epochs[c].average(picks='hbr').to_data_frame()\n",
        "  df_hbr = pd.melt(df_hbr, id_vars=['time'])\n",
        "  hbo_hbr[c] = {}\n",
        "  hbo_hbr[c]['hbo'] = df_hbo\n",
        "  hbo_hbr[c]['hbr'] = df_hbr"
      ],
      "metadata": {
        "id": "LG0t4Locje5W"
      },
      "execution_count": 84,
      "outputs": []
    },
    {
      "cell_type": "code",
      "source": [
        "plt.figure(figsize=(10,8))\n",
        "sns.lineplot(x=hbo_hbr['aux1']['hbo'].time, y=hbo_hbr['aux1']['hbo'].value,color='b',label='aux1 HbO',ci=99)\n",
        "sns.lineplot(x=hbo_hbr['aux1']['hbr'].time, y=hbo_hbr['aux1']['hbr'].value,color='r',label='aux1 HbR',ci=99)\n",
        "sns.lineplot(x=hbo_hbr['rest']['hbo'].time, y=hbo_hbr['rest']['hbo'].value,color='b',linestyle='dashed',label='rest HbO',ci=99)\n",
        "sns.lineplot(x=hbo_hbr['rest']['hbr'].time, y=hbo_hbr['rest']['hbr'].value,color='r',linestyle='dashed',label='rest HbR',ci=99)\n",
        "\n",
        "plt.legend()\n",
        "plt.show()"
      ],
      "metadata": {
        "colab": {
          "base_uri": "https://localhost:8080/",
          "height": 497
        },
        "id": "jsw4tDMuntcW",
        "outputId": "f7c6e55b-55f1-4fc1-f217-2b79d8ea365c"
      },
      "execution_count": 85,
      "outputs": [
        {
          "output_type": "display_data",
          "data": {
            "image/png": "[encoded data removed]",
            "text/plain": [
              "<Figure size 720x576 with 1 Axes>"
            ]
          },
          "metadata": {
            "needs_background": "light"
          }
        }
      ]
    },
    {
      "cell_type": "markdown",
      "source": [
        "# Dowload file"
      ],
      "metadata": {
        "id": "5z_9HrBiswAu"
      }
    },
    {
      "cell_type": "code",
      "source": [
        "from google.colab import files\n",
        "\n",
        "files.download(path_out + file)"
      ],
      "metadata": {
        "colab": {
          "base_uri": "https://localhost:8080/",
          "height": 17
        },
        "id": "CEZS2Sc5svOl",
        "outputId": "61e3213b-712c-496a-9f01-ce024c503c49"
      },
      "execution_count": 86,
      "outputs": [
        {
          "output_type": "display_data",
          "data": {
            "application/javascript": [
              "\n",
              "    async function download(id, filename, size) {\n",
              "      if (!google.colab.kernel.accessAllowed) {\n",
              "        return;\n",
              "      }\n",
              "      const div = document.createElement('div');\n",
              "      const label = document.createElement('label');\n",
              "      label.textContent = `Downloading \"${filename}\": `;\n",
              "      div.appendChild(label);\n",
              "      const progress = document.createElement('progress');\n",
              "      progress.max = size;\n",
              "      div.appendChild(progress);\n",
              "      document.body.appendChild(div);\n",
              "\n",
              "      const buffers = [];\n",
              "      let downloaded = 0;\n",
              "\n",
              "      const channel = await google.colab.kernel.comms.open(id);\n",
              "      // Send a message to notify the kernel that we're ready.\n",
              "      channel.send({})\n",
              "\n",
              "      for await (const message of channel.messages) {\n",
              "        // Send a message to notify the kernel that we're ready.\n",
              "        channel.send({})\n",
              "        if (message.buffers) {\n",
              "          for (const buffer of message.buffers) {\n",
              "            buffers.push(buffer);\n",
              "            downloaded += buffer.byteLength;\n",
              "            progress.value = downloaded;\n",
              "          }\n",
              "        }\n",
              "      }\n",
              "      const blob = new Blob(buffers, {type: 'application/binary'});\n",
              "      const a = document.createElement('a');\n",
              "      a.href = window.URL.createObjectURL(blob);\n",
              "      a.download = filename;\n",
              "      div.appendChild(a);\n",
              "      a.click();\n",
              "      div.remove();\n",
              "    }\n",
              "  "
            ],
            "text/plain": [
              "<IPython.core.display.Javascript object>"
            ]
          },
          "metadata": {}
        },
        {
          "output_type": "display_data",
          "data": {
            "application/javascript": [
              "download(\"download_67f65672-83c1-4063-afd9-22e7bb5b3b92\", \"new_JMVR_TCC_39.snirf\", 8681632)"
            ],
            "text/plain": [
              "<IPython.core.display.Javascript object>"
            ]
          },
          "metadata": {}
        }
      ]
    }
  ]
}